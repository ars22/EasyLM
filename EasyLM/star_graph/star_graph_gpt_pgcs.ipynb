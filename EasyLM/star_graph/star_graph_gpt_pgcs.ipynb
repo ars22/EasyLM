{
 "cells": [
  {
   "cell_type": "code",
   "execution_count": null,
   "metadata": {},
   "outputs": [],
   "source": [
    "import sys\n",
    "sys.path.append('../../')\n",
    "import time\n",
    "from jax_smi import initialise_tracking\n",
    "initialise_tracking()\n",
    "from tqdm import tqdm"
   ]
  },
  {
   "cell_type": "code",
   "execution_count": 2,
   "metadata": {},
   "outputs": [
    {
     "name": "stderr",
     "output_type": "stream",
     "text": [
      "/home/asetlur/anaconda3/envs/easylm/lib/python3.10/site-packages/tqdm/auto.py:21: TqdmWarning: IProgress not found. Please update jupyter and ipywidgets. See https://ipywidgets.readthedocs.io/en/stable/user_install.html\n",
      "  from .autonotebook import tqdm as notebook_tqdm\n"
     ]
    },
    {
     "name": "stderr",
     "output_type": "stream",
     "text": [
      "Exception in thread Thread-4 (inner):\n",
      "Traceback (most recent call last):\n",
      "  File \"/home/asetlur/anaconda3/envs/easylm/lib/python3.10/site-packages/jax/_src/xla_bridge.py\", line 593, in backends\n",
      "    backend = _init_backend(platform)\n",
      "  File \"/home/asetlur/anaconda3/envs/easylm/lib/python3.10/site-packages/jax/_src/xla_bridge.py\", line 647, in _init_backend\n",
      "    backend = registration.factory()\n",
      "  File \"/home/asetlur/anaconda3/envs/easylm/lib/python3.10/site-packages/jax/_src/xla_bridge.py\", line 200, in tpu_client_timer_callback\n",
      "    client = xla_client.make_tpu_client()\n",
      "  File \"/home/asetlur/anaconda3/envs/easylm/lib/python3.10/site-packages/jaxlib/xla_client.py\", line 169, in make_tpu_client\n",
      "    return make_tfrt_tpu_c_api_client()\n",
      "  File \"/home/asetlur/anaconda3/envs/easylm/lib/python3.10/site-packages/jaxlib/xla_client.py\", line 107, in make_tfrt_tpu_c_api_client\n",
      "    return _xla.get_c_api_client('tpu', options)\n",
      "jaxlib.xla_extension.XlaRuntimeError: UNKNOWN: TPU initialization failed: open(/dev/accel2): Operation not permitted: Operation not permitted; Couldn't open device: /dev/accel2; [/dev/accel2] \n",
      "\n",
      "During handling of the above exception, another exception occurred:\n",
      "\n",
      "Traceback (most recent call last):\n",
      "  File \"/home/asetlur/anaconda3/envs/easylm/lib/python3.10/threading.py\", line 1016, in _bootstrap_inner\n",
      "    self.run()\n",
      "  File \"/home/asetlur/anaconda3/envs/easylm/lib/python3.10/site-packages/ipykernel/ipkernel.py\", line 761, in run_closure\n",
      "    _threading_Thread_run(self)\n",
      "  File \"/home/asetlur/anaconda3/envs/easylm/lib/python3.10/threading.py\", line 953, in run\n",
      "    self._target(*self._args, **self._kwargs)\n",
      "  File \"/home/asetlur/anaconda3/envs/easylm/lib/python3.10/site-packages/jax_smi/initialise_tracking.py\", line 9, in inner\n",
      "    jax.profiler.save_device_memory_profile(f'{dir_prefix}/memory.prof.new')\n",
      "  File \"/home/asetlur/anaconda3/envs/easylm/lib/python3.10/site-packages/jax/_src/profiler.py\", line 360, in save_device_memory_profile\n",
      "    profile = device_memory_profile(backend)\n",
      "  File \"/home/asetlur/anaconda3/envs/easylm/lib/python3.10/site-packages/jax/_src/profiler.py\", line 345, in device_memory_profile\n",
      "    return xla_client.heap_profile(xla_bridge.get_backend(backend))\n",
      "  File \"/home/asetlur/anaconda3/envs/easylm/lib/python3.10/site-packages/jax/_src/xla_bridge.py\", line 692, in get_backend\n",
      "    return _get_backend_uncached(platform)\n",
      "  File \"/home/asetlur/anaconda3/envs/easylm/lib/python3.10/site-packages/jax/_src/xla_bridge.py\", line 673, in _get_backend_uncached\n",
      "    bs = backends()\n",
      "  File \"/home/asetlur/anaconda3/envs/easylm/lib/python3.10/site-packages/jax/_src/xla_bridge.py\", line 609, in backends\n",
      "    raise RuntimeError(err_msg)\n",
      "RuntimeError: Unable to initialize backend 'tpu': UNKNOWN: TPU initialization failed: open(/dev/accel2): Operation not permitted: Operation not permitted; Couldn't open device: /dev/accel2; [/dev/accel2]  (set JAX_PLATFORMS='' to automatically choose an available backend)\n"
     ]
    },
    {
     "data": {
      "text/plain": [
       "TrainConfig(gpt2_model_type='gpt2', seed=555, out_dir='out', shuffle_buffer_size=128, eval_interval=500, eval_steps=16, eval_only=False, keep_checkpoints=3, batch_size=128, train_steps=30, weight_decay=0.0, grad_clip=1.0, gradient_accumulation_steps=1, betas=(0.9, 0.95), learning_rate=StaticLRConfig(init_value=1e-05), wandb=WandbConfig(entity='ars22', project='star_graph', name='gpt2', mode='online', notes=''), model=GPTConfig(block_size=1024, vocab_size=50257, num_layers=12, num_heads=12, num_embeds=768, dropout_rate=0.1, use_bias=True, dtype=None), remat=False)"
      ]
     },
     "execution_count": 2,
     "metadata": {},
     "output_type": "execute_result"
    }
   ],
   "source": [
    "from dataclasses import dataclass, field, asdict\n",
    "from typing import Tuple, Optional, Union\n",
    "from EasyLM.models.gpt2.gpt2_model import GPT, GPTConfig, get_pretrained_params\n",
    "from torch.utils.data import DataLoader\n",
    "\n",
    "@dataclass(frozen=True)\n",
    "class WandbConfig:\n",
    "    \"\"\"\n",
    "    wandb logging configuration\n",
    "    \"\"\"\n",
    "    entity: str = 'ars22'\n",
    "    \"\"\"username or team name where you're sending runs\"\"\"\n",
    "    project: str = 'star_graph'\n",
    "    \"\"\"project name\"\"\"\n",
    "    name: str = 'gpt2'\n",
    "    \"\"\"experiment name\"\"\"\n",
    "    mode: str = 'online'\n",
    "    \"\"\"'offline', 'online', or 'disabled'\"\"\"\n",
    "    notes: str = ''\n",
    "\n",
    "\n",
    "@dataclass(frozen=True)\n",
    "class CosineDecayScheduleConfig:\n",
    "    init_value: float = 0.0\n",
    "    peak_value: float = 2.5e-4\n",
    "    warmup_steps: int = 2000\n",
    "    decay_steps: int = 150000\n",
    "    end_value: float = 1e-5\n",
    "\n",
    "@dataclass(frozen=True)\n",
    "class StaticLRConfig:\n",
    "    init_value: float = 1e-5\n",
    "\n",
    "@dataclass(frozen=False)\n",
    "class TrainConfig:\n",
    "    gpt2_model_type: str = 'gpt2' # gpt2 model type\n",
    "    seed: int = 555\n",
    "    out_dir: str = 'out'                        # output directory for checkpoints (can be gcs path)\n",
    "    shuffle_buffer_size: int = 128\n",
    "    eval_interval: int = 500\n",
    "    eval_steps: int = 16        # evaluate for this number of steps (per-device)\n",
    "    eval_only: bool = False     # if True, script exits right after the first eval\n",
    "    keep_checkpoints: int = 3   # number of historical checkpoints to keep\n",
    "    batch_size: int = 128        # per-device batch size\n",
    "    train_steps: int = 30     # total number of training iterations\n",
    "    weight_decay: float = 0.  # not applied to bias and embedding parameters\n",
    "    grad_clip: float = 1.0      # gradient norm clipping magnitude\n",
    "    gradient_accumulation_steps: int = 1    # used to simulate larger batch sizes\n",
    "    betas: Tuple[float, float] = (0.9, 0.95) # adamw optimizer betas\n",
    "    # learning_rate: CosineDecayScheduleConfig = field(default_factory=CosineDecayScheduleConfig)\n",
    "    learning_rate: StaticLRConfig = field(default_factory=StaticLRConfig)\n",
    "    wandb: WandbConfig = field(default_factory=WandbConfig) # wandb logging\n",
    "    model: GPTConfig = field(default_factory=GPTConfig)     # gpt model config\n",
    "    remat: bool = False    # set to True to rematerialize gradients during backward pass\n",
    "\n",
    "\n",
    "def get_default_config() -> TrainConfig:\n",
    "    return TrainConfig()\n",
    "\n",
    "config = get_default_config()\n",
    "config"
   ]
  },
  {
   "cell_type": "code",
   "execution_count": 3,
   "metadata": {},
   "outputs": [
    {
     "name": "stderr",
     "output_type": "stream",
     "text": [
      "2024-05-15 19:57:21.397359: W tensorflow/compiler/xla/stream_executor/platform/default/dso_loader.cc:64] Could not load dynamic library 'libnvinfer.so.7'; dlerror: libnvinfer.so.7: cannot open shared object file: No such file or directory; LD_LIBRARY_PATH: :/usr/local/lib\n",
      "2024-05-15 19:57:21.397444: W tensorflow/compiler/xla/stream_executor/platform/default/dso_loader.cc:64] Could not load dynamic library 'libnvinfer_plugin.so.7'; dlerror: libnvinfer_plugin.so.7: cannot open shared object file: No such file or directory; LD_LIBRARY_PATH: :/usr/local/lib\n",
      "2024-05-15 19:57:21.397450: W tensorflow/compiler/tf2tensorrt/utils/py_utils.cc:38] TF-TRT Warning: Cannot dlopen some TensorRT libraries. If you would like to use Nvidia GPU with TensorRT, please make sure the missing libraries mentioned above are installed properly.\n"
     ]
    }
   ],
   "source": [
    "import jax\n",
    "import jax.numpy as jnp\n",
    "import flax\n",
    "from flax.core import FrozenDict, frozen_dict\n",
    "from flax.training import checkpoints\n",
    "from flax.training.train_state import TrainState\n",
    "from flax.jax_utils import replicate, unreplicate\n",
    "import optax\n",
    "from functools import partial"
   ]
  },
  {
   "cell_type": "code",
   "execution_count": 4,
   "metadata": {},
   "outputs": [],
   "source": [
    "from torch.utils.data import Dataset\n",
    "import torch\n",
    "\n",
    "def prefix_target_list(filename=None):\n",
    "    \"\"\"\n",
    "    Load graphs and split them into prefix and target and return the list\n",
    "    \"\"\"\n",
    "    data_list = []\n",
    "    with open(filename, 'r') as f:\n",
    "        lines = f.readlines()\n",
    "    for line in lines:\n",
    "        prefix = line.strip().split('=')[0] + '='\n",
    "        target = line.strip().split('=')[1]\n",
    "        # target = target.split(',')[1]\n",
    "        data_list.append((prefix, target))\n",
    "    return data_list\n",
    "\n",
    "\n",
    "class Graphs(Dataset):\n",
    "    def __init__(self, tokenizer, n_samples, data_path):\n",
    "        self.tokenizer = tokenizer\n",
    "        self.n_samples = n_samples\n",
    "        self.data_path = data_path\n",
    "        self.eval_mode = False\n",
    "        self.data_file = prefix_target_list(self.data_path)\n",
    "        self.tokenized, self.num_prefix_tokens, self.num_target_tokens = self.tokenize(self.data_file[:n_samples])\n",
    "\n",
    "    def __len__(self):\n",
    "        return len(self.tokenized)\n",
    "\n",
    "    def __getitem__(self, idx):\n",
    "        if self.eval_mode:\n",
    "            # In eval mode return the entire sequence\n",
    "            return self.tokenized[idx].to(self.device)\n",
    "\n",
    "        # Create inputs\n",
    "        x = self.tokenized[idx].clone()\n",
    "        y = torch.cat([-torch.ones((self.num_prefix_tokens - 1, )),\n",
    "                       x[self.num_prefix_tokens:].clone()])\n",
    "        return x[:-1], y.long()\n",
    "\n",
    "    def tokenize(self, data_list):\n",
    "        \"\"\"\n",
    "        Takes a list of prefix-target pairs, tokenizes and concatenates them\n",
    "        \"\"\"\n",
    "        out = []\n",
    "        prefix_len = len(self.tokenizer.encode(data_list[0][0]))\n",
    "        target_len = len(self.tokenizer.encode(data_list[0][1]))\n",
    "        same_len = True\n",
    "\n",
    "        for prefix, target in data_list:\n",
    "            prefix = torch.tensor(self.tokenizer.encode(prefix))\n",
    "            target = torch.tensor(self.tokenizer.encode(target))\n",
    "            if not (len(prefix) == prefix_len and len(target) == target_len):\n",
    "                same_len = False\n",
    "            seq = torch.concatenate([prefix, target], dim=-1).long()\n",
    "            out.append(seq)\n",
    "\n",
    "        # Check if all prefixes and all targets have the same length\n",
    "        if not same_len:\n",
    "            print('Not all prefixes or targets have the same length!!')\n",
    "        else:\n",
    "            print('Equal sequence lengths!')\n",
    "\n",
    "        return out, prefix_len, target_len\n",
    "\n",
    "    def eval(self):\n",
    "        # Switch to \"eval\" mode when generating sequences without teacher-forcing\n",
    "        self.eval_mode = True\n",
    "\n",
    "    def train(self):\n",
    "        # Switch back to \"train\" mode for teacher-forcing\n",
    "        self.eval_mode = False"
   ]
  },
  {
   "cell_type": "code",
   "execution_count": 5,
   "metadata": {},
   "outputs": [
    {
     "name": "stdout",
     "output_type": "stream",
     "text": [
      "Equal sequence lengths!\n",
      "Equal sequence lengths!\n",
      "(tensor([  23,   11,   18,   91,   18,   11,  940,   91, 1415,   11, 1485,   91,\n",
      "         940,   11,   16,   91, 1558,   11, 1415,   91,   23,   11, 1558,   14,\n",
      "          23,   11, 1485,   28,   23,   11, 1558,   11, 1415,   11]), tensor([  -1,   -1,   -1,   -1,   -1,   -1,   -1,   -1,   -1,   -1,   -1,   -1,\n",
      "          -1,   -1,   -1,   -1,   -1,   -1,   -1,   -1,   -1,   -1,   -1,   -1,\n",
      "          -1,   -1,   -1,   23,   11, 1558,   11, 1415,   11, 1485])) 8,3|3,10|14,13|10,1|17,14|8,17/8,13=8,17,14, 8,17,14,13\n"
     ]
    }
   ],
   "source": [
    "# LOAD TOKENIZER\n",
    "from transformers import AutoTokenizer # type: ignore\n",
    "tokenizer = AutoTokenizer.from_pretrained(config.gpt2_model_type)\n",
    "tokenizer.pad_token_id = tokenizer.eos_token_id\n",
    "\n",
    "# LOAD DATASET\n",
    "data_path = 'deg_2_path_4_nodes_20'\n",
    "train_path, test_path = data_path + '_train_200000.txt', data_path + '_test_20000.txt'\n",
    "train_data = Graphs(tokenizer=tokenizer, n_samples=30000, data_path=train_path)\n",
    "test_data = Graphs(tokenizer=tokenizer, n_samples=200, data_path=test_path)\n",
    "train_data.train()\n",
    "\n",
    "# sanity check\n",
    "print(train_data[0], tokenizer.decode(train_data[0][0]), tokenizer.decode(train_data[0][1][-train_data.num_target_tokens:]))\n",
    "\n",
    "# LOAD DATALOADER\n",
    "train_loader = DataLoader(train_data, batch_size=config.batch_size, shuffle=True, drop_last=True) \n",
    "test_loader = DataLoader(test_data, batch_size=config.batch_size, shuffle=False, drop_last=False)\n"
   ]
  },
  {
   "cell_type": "markdown",
   "metadata": {},
   "source": []
  },
  {
   "cell_type": "code",
   "execution_count": 6,
   "metadata": {},
   "outputs": [
    {
     "name": "stdout",
     "output_type": "stream",
     "text": [
      "tokenizer vocab size:  50257 28 7\n"
     ]
    }
   ],
   "source": [
    "print(\"tokenizer vocab size: \", tokenizer.vocab_size, train_data.num_prefix_tokens, train_data.num_target_tokens)"
   ]
  },
  {
   "cell_type": "code",
   "execution_count": 7,
   "metadata": {},
   "outputs": [],
   "source": [
    "def param_decay_mask(params: FrozenDict) -> FrozenDict:\n",
    "    \"\"\" pytree mask for non-bias parameters \"\"\"\n",
    "    flat_params = flax.traverse_util.flatten_dict(params)\n",
    "    flat_param_mask = {k: k[-1] not in ('bias', 'embedding', 'scale') for k in flat_params.keys()}\n",
    "    param_mask = flax.traverse_util.unflatten_dict(flat_param_mask)\n",
    "    return frozen_dict.freeze(param_mask)\n",
    "\n",
    "def init_train_state(key, config: TrainConfig, learning_rate) -> TrainState:\n",
    "\n",
    "    if config.remat:\n",
    "        model = flax.linen.remat(GPT,\n",
    "            static_argnums=(2,),\n",
    "            policy=jax.checkpoint_policies.checkpoint_dots_with_no_batch_dims)(config.model)\n",
    "    else:\n",
    "        config.model, params = get_pretrained_params(config.gpt2_model_type)\n",
    "        model = GPT(config.model)    \n",
    "        model.init(key)\n",
    "\n",
    "    optimizer = optax.chain(\n",
    "        # Apply weight decay only to non-bias parameters\n",
    "        optax.clip_by_global_norm(config.grad_clip),\n",
    "        optax.adamw(learning_rate, *config.betas, weight_decay=config.weight_decay, mask=param_decay_mask(params)),\n",
    "        optax.apply_every(config.gradient_accumulation_steps),\n",
    "    )\n",
    "\n",
    "    train_state = TrainState.create(\n",
    "        apply_fn=model.apply,\n",
    "        params=params,\n",
    "        tx=optimizer)\n",
    "\n",
    "    return train_state\n",
    "\n",
    "def count_params(params: FrozenDict) -> int:\n",
    "    p = jax.tree_util.tree_map(lambda a: a.size if isinstance(a, jnp.ndarray) else 0, params)\n",
    "    return jax.tree_util.tree_reduce(lambda a, b: a + b, p)"
   ]
  },
  {
   "cell_type": "code",
   "execution_count": null,
   "metadata": {},
   "outputs": [],
   "source": []
  },
  {
   "cell_type": "code",
   "execution_count": 8,
   "metadata": {},
   "outputs": [],
   "source": [
    "# =====  init parameters ============\n",
    "key = jax.random.PRNGKey(config.seed)\n",
    "key, key_params, key_dropout, key_generation = jax.random.split(key, 4)\n",
    "# make sure dropout keys are different for each device (local and global)\n",
    "key_dropout = jax.random.fold_in(key_dropout, jax.process_index())\n",
    "keys_dropout = jax.random.split(key_dropout, jax.local_device_count())\n",
    "key_gen = jax.random.split(key_generation, jax.local_device_count())"
   ]
  },
  {
   "cell_type": "code",
   "execution_count": 9,
   "metadata": {},
   "outputs": [
    {
     "name": "stdout",
     "output_type": "stream",
     "text": [
      "loading weights from pretrained gpt: gpt2\n"
     ]
    }
   ],
   "source": [
    "learning_rate = config.learning_rate.init_value\n",
    "train_state = init_train_state(key_params, config, learning_rate)\n",
    "num_params = count_params(train_state.params)"
   ]
  },
  {
   "cell_type": "code",
   "execution_count": 10,
   "metadata": {},
   "outputs": [
    {
     "name": "stdout",
     "output_type": "stream",
     "text": [
      "Total parameters: 124,439,808\n"
     ]
    }
   ],
   "source": [
    "print(f\"Total parameters: {num_params:,}\") # 774,030,080 for gpt2-large"
   ]
  },
  {
   "cell_type": "code",
   "execution_count": 11,
   "metadata": {},
   "outputs": [],
   "source": [
    "from flax.core import FrozenDict, freeze, unfreeze\n",
    "from transformers import FlaxGPT2LMHeadModel\n",
    "hf_model = FlaxGPT2LMHeadModel.from_pretrained(config.gpt2_model_type)\n",
    "hf_params = hf_model.init_weights(key_params, (2, config.model.block_size))"
   ]
  },
  {
   "cell_type": "code",
   "execution_count": 12,
   "metadata": {},
   "outputs": [],
   "source": [
    "# replicate model\n",
    "train_state = replicate(train_state)\n",
    "hf_params = replicate(hf_params)\n"
   ]
  },
  {
   "cell_type": "code",
   "execution_count": 13,
   "metadata": {},
   "outputs": [],
   "source": [
    "def cross_entropy_loss_and_accuracy(logits, tokens, valid=None):\n",
    "    if valid is None:\n",
    "        valid = jnp.ones(tokens.shape[:2])\n",
    "    valid = valid.astype(jnp.float32)\n",
    "    valid_text_length = jnp.maximum(jnp.sum(valid, axis=-1), 1e-10)\n",
    "    logits = logits.astype(jnp.float32)  # for numerical stability\n",
    "    token_log_prob = jnp.squeeze(\n",
    "        jnp.take_along_axis(\n",
    "            jax.nn.log_softmax(logits, axis=-1),\n",
    "            jnp.expand_dims(tokens, -1),\n",
    "            axis=-1,\n",
    "        ),\n",
    "        -1,\n",
    "    )\n",
    "    token_log_prob = jnp.where(valid > 0.0, token_log_prob, jnp.array(0.0))\n",
    "    loss = -(jnp.sum(token_log_prob) / jnp.sum(valid))\n",
    "    # old: loss = -jnp.mean(jnp.sum(token_log_prob, axis=-1) / valid_text_length)\n",
    "    # changed to match hf implementation\n",
    "    correct = jnp.where(\n",
    "        valid > 0.0,\n",
    "        jnp.argmax(logits, axis=-1) == tokens,\n",
    "        jnp.array(False)\n",
    "    )\n",
    "    accuracy = jnp.mean(jnp.sum(correct, axis=-1) / valid_text_length)\n",
    "    return loss, accuracy\n",
    "\n",
    "\n",
    "@partial(jax.pmap, axis_name='batch', in_axes=(0, 0, 0, 0))\n",
    "def train_step(state: TrainState, input_tokens: jnp.ndarray, target_tokens: jnp.ndarray, dropout_key):\n",
    "    dropout_key = jax.random.fold_in(dropout_key, state.step)\n",
    "    def loss_fn(params: FrozenDict) -> jnp.ndarray:\n",
    "        logits = state.apply_fn(params, input_tokens, False, rngs={'dropout': dropout_key})\n",
    "        \n",
    "        logits = logits.astype(jnp.float32)  # for numerical stability\n",
    "        token_log_prob = jnp.squeeze(\n",
    "            jnp.take_along_axis(\n",
    "                jax.nn.log_softmax(logits, axis=-1),\n",
    "                jnp.expand_dims(target_tokens, -1),\n",
    "                axis=-1,\n",
    "            ),\n",
    "            -1,\n",
    "        )\n",
    "        prob_hard_token = jnp.exp(token_log_prob[:, train_data.num_prefix_tokens+1]).mean()\n",
    "        \n",
    "        loss, acc = cross_entropy_loss_and_accuracy(\n",
    "            logits, target_tokens, (target_tokens > 0).astype(jnp.int32))\n",
    "        \n",
    "        return loss, (prob_hard_token, acc)\n",
    "    # per-device loss and grads\n",
    "    grad_fn = jax.value_and_grad(loss_fn, has_aux=True)\n",
    "    (loss, (prob_hard_token, acc)), grads = grad_fn(state.params)\n",
    "    # average gradients across devices\n",
    "    prob_hard_token = jax.lax.pmean(prob_hard_token, axis_name=\"batch\")\n",
    "    grads = jax.lax.pmean(grads, axis_name=\"batch\")\n",
    "    loss = jax.lax.pmean(loss, axis_name=\"batch\")\n",
    "    acc = jax.lax.pmean(acc, axis_name=\"batch\")\n",
    "    new_state = state.apply_gradients(grads=grads)\n",
    "    \n",
    "    return loss, acc, prob_hard_token, new_state\n",
    "\n",
    "\n",
    "from flax.traverse_util import flatten_dict, unflatten_dict\n",
    "\n",
    "def convert_jax_params_to_hf(hf_params, jax_params) -> FrozenDict:\n",
    "    hf_params = unfreeze(hf_params)\n",
    "    \n",
    "    for k in ['ln_f', 'wpe', 'wte']:\n",
    "        hf_params['transformer'][k] = jax_params[k]\n",
    "    for k in hf_params['transformer']['h'].keys():\n",
    "        hf_params['transformer']['h'][k] = jax_params[k] \n",
    "\n",
    "    hf_params = flatten_dict(hf_params, sep='.')\n",
    "    for k in hf_params.keys():\n",
    "        if k.endswith('attn.c_attn.kernel'):\n",
    "            hf_params[k] = hf_params[k].T\n",
    "        elif k.endswith('attn.c_proj.kernel'):\n",
    "            hf_params[k] = hf_params[k].T\n",
    "        elif len(k.split('.')) > 3 and k.split('.')[3] == 'mlp' and k.endswith('kernel'):\n",
    "            hf_params[k] = hf_params[k].T\n",
    "    hf_params = unflatten_dict({k: v for k, v in hf_params.items()}, sep='.')\n",
    "    return freeze(hf_params)\n",
    "\n",
    "\n",
    "@partial(jax.pmap, axis_name='batch', in_axes=(0, 0, 0, 0))\n",
    "def eval_step(hf_params, state, input_tokens: jnp.ndarray, target_tokens: jnp.ndarray):\n",
    "    hf_params = convert_jax_params_to_hf(hf_params, state.params['params'])\n",
    "    output = hf_model.generate(\n",
    "        input_tokens[:, :train_data.num_prefix_tokens],\n",
    "        params=hf_params,\n",
    "        max_new_tokens=train_data.num_target_tokens,\n",
    "        min_length=train_data.num_target_tokens+train_data.num_prefix_tokens, \n",
    "        do_sample=False, \n",
    "        attention_mask=jnp.ones_like(input_tokens[:, :train_data.num_prefix_tokens]))\n",
    "    acc = ((output[0][:, -train_data.num_target_tokens:] == target_tokens[:, -train_data.num_target_tokens:]).sum(1) == train_data.num_target_tokens).mean()\n",
    "    acc = jax.lax.pmean(acc, axis_name=\"batch\")\n",
    "    return acc\n",
    "\n",
    "max_new_tokens = train_data.num_target_tokens\n",
    "num_beams=2\n",
    "num_return_sequences=2\n",
    "temperature=1.0\n",
    "\n",
    "from flax.core import FrozenDict, freeze, unfreeze\n",
    "\n",
    "@partial(jax.pmap, axis_name='batch', in_axes=(0, 0, 0, 0))\n",
    "def generate_negative_data(hf_params, train_state, input_tokens, key):\n",
    "    hf_params = convert_jax_params_to_hf(hf_params, train_state.params['params'])\n",
    "    return hf_model.generate(\n",
    "        input_tokens[:, :train_data.num_prefix_tokens],\n",
    "        params=hf_params,\n",
    "        max_new_tokens=max_new_tokens, \n",
    "        min_length=train_data.num_target_tokens+train_data.num_prefix_tokens,\n",
    "        prng_key=key, \n",
    "        num_beams=num_beams, \n",
    "        num_return_sequences=num_return_sequences, \n",
    "        temperature=1.0,\n",
    "        attention_mask=jnp.ones_like(input_tokens[:, :train_data.num_prefix_tokens]))\n",
    "\n",
    "\n",
    "\n",
    "def evaluate(hf_params, state: TrainState, loader: DataLoader) -> jnp.ndarray:\n",
    "    accs = []\n",
    "    for batch in loader:\n",
    "        input_tokens, target_tokens = batch\n",
    "        input_tokens = jnp.array(input_tokens)\n",
    "        target_tokens = jnp.array(target_tokens)\n",
    "        input_tokens = input_tokens.reshape(jax.local_device_count(), -1, input_tokens.shape[-1])\n",
    "        target_tokens = target_tokens.reshape(jax.local_device_count(), -1, target_tokens.shape[-1])\n",
    "        acc = eval_step(hf_params, state, input_tokens, target_tokens)\n",
    "        accs.append(acc)\n",
    "    return jnp.mean(jnp.stack(accs))"
   ]
  },
  {
   "cell_type": "code",
   "execution_count": 14,
   "metadata": {},
   "outputs": [],
   "source": [
    "class AverageMeter:\n",
    "    def __init__(self):\n",
    "        self.num = 0\n",
    "        self.val = 0\n",
    "        self.list = []\n",
    "\n",
    "    def update(self, val, num):\n",
    "        self.val += val * num\n",
    "        self.num += num\n",
    "        self.list.append(val)\n",
    "\n",
    "    def reset_val(self):\n",
    "        self.num = 0\n",
    "        self.val = 0\n",
    "        \n",
    "    def get(self, percentage=False):\n",
    "        if self.num > 0:\n",
    "            val = self.val / self.num * 100 if percentage else self.val / self.num\n",
    "            return val\n",
    "        else:\n",
    "            return 0"
   ]
  },
  {
   "cell_type": "code",
   "execution_count": 15,
   "metadata": {},
   "outputs": [],
   "source": [
    "def get_log_likelihood(state, input_tokens, target_tokens, dropout_key):\n",
    "    logits = state.apply_fn(state.params, input_tokens, False, rngs={'dropout': dropout_key})\n",
    "    valid = (target_tokens > 0).astype(jnp.float32)\n",
    "    valid_text_length = jnp.maximum(jnp.sum(valid, axis=-1), 1e-10)\n",
    "    \n",
    "    logits = logits.astype(jnp.float32)  # for numerical stability\n",
    "    token_log_prob = jnp.squeeze(\n",
    "        jnp.take_along_axis(\n",
    "            jax.nn.log_softmax(logits, axis=-1),\n",
    "            jnp.expand_dims(target_tokens, -1),\n",
    "            axis=-1,\n",
    "        ),\n",
    "        -1,\n",
    "    )\n",
    "    token_log_prob = jnp.where(valid > 0.0, token_log_prob, jnp.array(0.0))\n",
    "    return token_log_prob \n",
    "\n",
    "def get_token_level_scores(original_dataset, generated_dataset):\n",
    "    token_scores_arr = []\n",
    "    for i in range(original_dataset.shape[0]):\n",
    "        original_seq = original_dataset[i]\n",
    "        generated_seq = generated_dataset[i]\n",
    "        token_scores = (original_seq == generated_seq).float()\n",
    "        incorrect = torch.where(token_scores==0)\n",
    "        if len(incorrect[0]) > 0:\n",
    "            token_scores[incorrect[0][0].item()] = -1. \n",
    "            token_scores[incorrect[0][0].item()+1:] = 0. \n",
    "        token_scores[:train_data.num_prefix_tokens] = 0.\n",
    "        token_scores_arr.append(token_scores)\n",
    "    return torch.stack(token_scores_arr, 0)"
   ]
  },
  {
   "cell_type": "code",
   "execution_count": 16,
   "metadata": {},
   "outputs": [],
   "source": [
    "def dpo_loss(pos_logits, pos_tokens, neg_logits, neg_tokens):\n",
    "\n",
    "    valid = (pos_tokens > 0).astype(jnp.float32)\n",
    "    valid_text_length = jnp.maximum(jnp.sum(valid, axis=-1), 1e-10)\n",
    "    pos_logits = pos_logits.astype(jnp.float32)  # for numerical stability\n",
    "    pos_token_log_prob = jnp.squeeze(\n",
    "        jnp.take_along_axis(\n",
    "            jax.nn.log_softmax(pos_logits, axis=-1),\n",
    "            jnp.expand_dims(pos_tokens, -1),\n",
    "            axis=-1,\n",
    "        ),\n",
    "        -1,\n",
    "    )\n",
    "    pos_token_log_prob = jnp.where(valid > 0.0, pos_token_log_prob, jnp.array(0.0))\n",
    "    sft_loss = -(jnp.sum(pos_token_log_prob) / jnp.sum(valid))\n",
    "    pos_token_log_prob = pos_token_log_prob.sum(axis=-1) \n",
    "    \n",
    "    # / valid_text_length\n",
    "\n",
    "    # correct = jnp.where(\n",
    "    #     (valid > 0.0),\n",
    "    #     jnp.argmax(pos_logits, axis=-1) == pos_tokens,\n",
    "    #     jnp.array(False)\n",
    "    # )\n",
    "    # accuracy = jnp.mean(jnp.sum(correct, axis=-1) / valid_text_length)\n",
    "    \n",
    "\n",
    "    valid = (neg_tokens > 0).astype(jnp.float32)\n",
    "    valid_text_length = jnp.maximum(jnp.sum(valid, axis=-1), 1e-10)\n",
    "    neg_logits = neg_logits.astype(jnp.float32)  # for numerical stability\n",
    "    neg_token_log_prob = jnp.squeeze(\n",
    "        jnp.take_along_axis(\n",
    "            jax.nn.log_softmax(neg_logits, axis=-1),\n",
    "            jnp.expand_dims(neg_tokens, -1),\n",
    "            axis=-1,\n",
    "        ),\n",
    "        -1,\n",
    "    )\n",
    "    neg_token_log_prob = jnp.where(valid > 0.0, neg_token_log_prob, jnp.array(0.0))\n",
    "    neg_token_log_prob = neg_token_log_prob.sum(axis=-1)\n",
    "    # / valid_text_length\n",
    "\n",
    "    loss =  (-jax.nn.log_sigmoid(0.01 * (pos_token_log_prob - neg_token_log_prob))).mean() + sft_loss\n",
    "    # loss =  (pos_token_log_prob - neg_token_log_prob).mean()\n",
    "    return loss\n",
    "\n",
    "\n",
    "\n",
    "\n",
    "@partial(jax.pmap, axis_name='batch', in_axes=(0, 0, 0, 0, 0, 0, 0, 0))\n",
    "def train_step_onpolicy(state: TrainState, pos_input_tokens, pos_target_tokens, neg_input_tokens, neg_target_tokens, input_tokens, target_tokens, dropout_key) -> Tuple[jnp.ndarray, TrainState]:\n",
    "    dropout_key = jax.random.fold_in(dropout_key, state.step)\n",
    "    def loss_fn(params: FrozenDict) -> jnp.ndarray:\n",
    "        pos_logits = state.apply_fn(params, pos_input_tokens, False, rngs={'dropout': dropout_key})\n",
    "        neg_logits = state.apply_fn(params, neg_input_tokens, False, rngs={'dropout': dropout_key})\n",
    "        logits = state.apply_fn(params, input_tokens, False, rngs={'dropout': dropout_key})\n",
    "        logits = logits.astype(jnp.float32)  # for numerical stability\n",
    "        sft_loss, _ = cross_entropy_loss_and_accuracy(\n",
    "            logits, target_tokens, (target_tokens > 0).astype(jnp.int32))\n",
    "        correct = jnp.where(\n",
    "            ((target_tokens > 0).astype(jnp.int32) > 0.0),\n",
    "            jnp.argmax(logits, axis=-1) == target_tokens,\n",
    "            jnp.array(False)\n",
    "        )\n",
    "        acc = jnp.sum(correct) / jnp.sum(((target_tokens > 0).astype(jnp.int32) > 0.0))\n",
    "        \n",
    "        loss  = dpo_loss(\n",
    "            pos_logits, pos_target_tokens, neg_logits, neg_target_tokens)\n",
    "        token_log_prob = jnp.squeeze(\n",
    "            jnp.take_along_axis(\n",
    "                jax.nn.log_softmax(pos_logits, axis=-1),\n",
    "                jnp.expand_dims(pos_target_tokens, -1),\n",
    "                axis=-1,\n",
    "            ),\n",
    "            -1,\n",
    "        )\n",
    "        prob_hard_token = jnp.exp(token_log_prob[:, train_data.num_prefix_tokens+1]).mean()\n",
    "        return loss, (prob_hard_token, acc, sft_loss)    \n",
    "        \n",
    "    # per-device loss and grads\n",
    "    grad_fn = jax.value_and_grad(loss_fn, has_aux=True)\n",
    "    (loss, (prob_hard_token, acc, sft_loss)), grads = grad_fn(state.params)\n",
    "    # average gradients across devices\n",
    "    grads = jax.lax.pmean(grads, axis_name=\"batch\")\n",
    "    loss = jax.lax.pmean(loss, axis_name=\"batch\")\n",
    "    acc = jax.lax.pmean(acc, axis_name=\"batch\")\n",
    "    sft_loss = jax.lax.pmean(sft_loss, axis_name=\"batch\")\n",
    "    prob_hard_token = jax.lax.pmean(prob_hard_token, axis_name=\"batch\")\n",
    "    new_state = state.apply_gradients(grads=grads)\n",
    "    return loss, acc, sft_loss, prob_hard_token, new_state\n"
   ]
  },
  {
   "cell_type": "code",
   "execution_count": 17,
   "metadata": {},
   "outputs": [],
   "source": [
    "import numpy as np\n",
    "train_loss, train_acc, phard, sft = AverageMeter(), AverageMeter(), AverageMeter(), AverageMeter() \n",
    "policy_train_acc, policy_test_acc = AverageMeter(), AverageMeter()\n",
    "point = 24"
   ]
  },
  {
   "cell_type": "code",
   "execution_count": 18,
   "metadata": {},
   "outputs": [
    {
     "name": "stderr",
     "output_type": "stream",
     "text": [
      "Setting `pad_token_id` to `eos_token_id`:50256 for open-end generation.\n"
     ]
    },
    {
     "name": "stdout",
     "output_type": "stream",
     "text": [
      "Epoch 1\n"
     ]
    },
    {
     "name": "stderr",
     "output_type": "stream",
     "text": [
      "training on-policy:   0%|          | 0/117 [00:00<?, ?it/s]Setting `pad_token_id` to `eos_token_id`:50256 for open-end generation.\n",
      "train loss: 0.367551326751709 phard: 0.3897702395915985 forcing train acc: 0.8769298791885376 policy train acc: 0.0 policy test acc: 0.4991319477558136: 100%|██████████| 117/117 [02:06<00:00,  1.08s/it]   \n"
     ]
    },
    {
     "name": "stdout",
     "output_type": "stream",
     "text": [
      "Epoch 2\n"
     ]
    },
    {
     "name": "stderr",
     "output_type": "stream",
     "text": [
      "train loss: 0.14282186329364777 phard: 0.45897194743156433 forcing train acc: 0.9283157587051392 policy train acc: 0.5034722685813904 policy test acc: 0.4822048544883728: 100%|██████████| 117/117 [00:06<00:00, 18.09it/s]\n"
     ]
    },
    {
     "name": "stdout",
     "output_type": "stream",
     "text": [
      "Epoch 3\n"
     ]
    },
    {
     "name": "stderr",
     "output_type": "stream",
     "text": [
      "train loss: 0.13116630911827087 phard: 0.4703901410102844 forcing train acc: 0.9289202690124512 policy train acc: 0.5078793168067932 policy test acc: 0.5134548544883728: 100%|██████████| 117/117 [00:06<00:00, 17.30it/s]\n"
     ]
    },
    {
     "name": "stdout",
     "output_type": "stream",
     "text": [
      "Epoch 4\n"
     ]
    },
    {
     "name": "stderr",
     "output_type": "stream",
     "text": [
      "train loss: 0.1252109408378601 phard: 0.47941073775291443 forcing train acc: 0.9303850531578064 policy train acc: 0.5171608328819275 policy test acc: 0.5282118320465088: 100%|██████████| 117/117 [00:06<00:00, 18.04it/s]\n"
     ]
    },
    {
     "name": "stdout",
     "output_type": "stream",
     "text": [
      "Epoch 5\n"
     ]
    },
    {
     "name": "stderr",
     "output_type": "stream",
     "text": [
      "train loss: 0.12080724537372589 phard: 0.4838726222515106 forcing train acc: 0.9295480251312256 policy train acc: 0.5268763899803162 policy test acc: 0.5069444179534912: 100%|██████████| 117/117 [00:06<00:00, 18.01it/s] \n"
     ]
    },
    {
     "name": "stdout",
     "output_type": "stream",
     "text": [
      "Epoch 6\n"
     ]
    },
    {
     "name": "stderr",
     "output_type": "stream",
     "text": [
      "train loss: 0.11899816989898682 phard: 0.4882553517818451 forcing train acc: 0.9311758279800415 policy train acc: 0.5347556471824646 policy test acc: 0.5325521230697632: 100%|██████████| 117/117 [00:06<00:00, 17.84it/s] \n"
     ]
    },
    {
     "name": "stdout",
     "output_type": "stream",
     "text": [
      "Epoch 7\n"
     ]
    },
    {
     "name": "stderr",
     "output_type": "stream",
     "text": [
      "train loss: 0.11753782629966736 phard: 0.49049898982048035 forcing train acc: 0.931222140789032 policy train acc: 0.5393964052200317 policy test acc: 0.5125868320465088: 100%|██████████| 117/117 [00:06<00:00, 17.46it/s] \n"
     ]
    },
    {
     "name": "stdout",
     "output_type": "stream",
     "text": [
      "Epoch 8\n"
     ]
    },
    {
     "name": "stderr",
     "output_type": "stream",
     "text": [
      "train loss: 0.11642348766326904 phard: 0.48937320709228516 forcing train acc: 0.9310593605041504 policy train acc: 0.5462740659713745 policy test acc: 0.5707465410232544: 100%|██████████| 117/117 [00:06<00:00, 18.13it/s]\n"
     ]
    },
    {
     "name": "stdout",
     "output_type": "stream",
     "text": [
      "Epoch 9\n"
     ]
    },
    {
     "name": "stderr",
     "output_type": "stream",
     "text": [
      "train loss: 0.11294803023338318 phard: 0.4982984662055969 forcing train acc: 0.933361291885376 policy train acc: 0.5531183481216431 policy test acc: 0.5542534589767456: 100%|██████████| 117/117 [00:06<00:00, 18.13it/s]  \n"
     ]
    },
    {
     "name": "stdout",
     "output_type": "stream",
     "text": [
      "Epoch 10\n"
     ]
    },
    {
     "name": "stderr",
     "output_type": "stream",
     "text": [
      "train loss: 0.11278192698955536 phard: 0.496262788772583 forcing train acc: 0.9321057200431824 policy train acc: 0.5574920177459717 policy test acc: 0.5564236044883728: 100%|██████████| 117/117 [00:06<00:00, 18.08it/s]  \n"
     ]
    },
    {
     "name": "stdout",
     "output_type": "stream",
     "text": [
      "Epoch 11\n"
     ]
    },
    {
     "name": "stderr",
     "output_type": "stream",
     "text": [
      "train loss: 0.1114698052406311 phard: 0.4992786645889282 forcing train acc: 0.9323848485946655 policy train acc: 0.5657385587692261 policy test acc: 0.5494791865348816: 100%|██████████| 117/117 [00:06<00:00, 17.47it/s] \n"
     ]
    },
    {
     "name": "stdout",
     "output_type": "stream",
     "text": [
      "Epoch 12\n"
     ]
    },
    {
     "name": "stderr",
     "output_type": "stream",
     "text": [
      "train loss: 0.11208759248256683 phard: 0.49662667512893677 forcing train acc: 0.9325242042541504 policy train acc: 0.5686097741127014 policy test acc: 0.5247396230697632: 100%|██████████| 117/117 [00:06<00:00, 18.14it/s]\n"
     ]
    },
    {
     "name": "stdout",
     "output_type": "stream",
     "text": [
      "Epoch 13\n"
     ]
    },
    {
     "name": "stderr",
     "output_type": "stream",
     "text": [
      "train loss: 0.10917806625366211 phard: 0.5047703385353088 forcing train acc: 0.9339191913604736 policy train acc: 0.5705128312110901 policy test acc: 0.5698784589767456: 100%|██████████| 117/117 [00:06<00:00, 18.19it/s]\n"
     ]
    },
    {
     "name": "stdout",
     "output_type": "stream",
     "text": [
      "Epoch 14\n"
     ]
    },
    {
     "name": "stderr",
     "output_type": "stream",
     "text": [
      "train loss: 0.10870279371738434 phard: 0.5061376094818115 forcing train acc: 0.9350122213363647 policy train acc: 0.5784589052200317 policy test acc: 0.5138888955116272: 100%|██████████| 117/117 [00:06<00:00, 18.17it/s]\n"
     ]
    },
    {
     "name": "stdout",
     "output_type": "stream",
     "text": [
      "Epoch 15\n"
     ]
    },
    {
     "name": "stderr",
     "output_type": "stream",
     "text": [
      "train loss: 0.10773883759975433 phard: 0.5079588294029236 forcing train acc: 0.934895932674408 policy train acc: 0.5787593722343445 policy test acc: 0.51171875: 100%|██████████| 117/117 [00:06<00:00, 17.46it/s]         \n"
     ]
    },
    {
     "name": "stdout",
     "output_type": "stream",
     "text": [
      "Epoch 16\n"
     ]
    },
    {
     "name": "stderr",
     "output_type": "stream",
     "text": [
      "train loss: 0.10693922638893127 phard: 0.5090851783752441 forcing train acc: 0.9344773292541504 policy train acc: 0.5807625651359558 policy test acc: 0.5455729365348816: 100%|██████████| 117/117 [00:06<00:00, 18.11it/s]\n"
     ]
    },
    {
     "name": "stdout",
     "output_type": "stream",
     "text": [
      "Epoch 17\n"
     ]
    },
    {
     "name": "stderr",
     "output_type": "stream",
     "text": [
      "train loss: 0.1079699844121933 phard: 0.5070868730545044 forcing train acc: 0.9338960647583008 policy train acc: 0.5960870981216431 policy test acc: 0.5308159589767456: 100%|██████████| 117/117 [00:06<00:00, 18.15it/s] \n"
     ]
    },
    {
     "name": "stdout",
     "output_type": "stream",
     "text": [
      "Epoch 18\n"
     ]
    },
    {
     "name": "stderr",
     "output_type": "stream",
     "text": [
      "train loss: 0.10687831044197083 phard: 0.5089199542999268 forcing train acc: 0.934895932674408 policy train acc: 0.5915130972862244 policy test acc: 0.5381944179534912: 100%|██████████| 117/117 [00:06<00:00, 18.11it/s] \n"
     ]
    },
    {
     "name": "stdout",
     "output_type": "stream",
     "text": [
      "Epoch 19\n"
     ]
    },
    {
     "name": "stderr",
     "output_type": "stream",
     "text": [
      "train loss: 0.10562091320753098 phard: 0.5136677622795105 forcing train acc: 0.9352911710739136 policy train acc: 0.5923478007316589 policy test acc: 0.5555555820465088: 100%|██████████| 117/117 [00:06<00:00, 17.18it/s]\n"
     ]
    },
    {
     "name": "stdout",
     "output_type": "stream",
     "text": [
      "Epoch 20\n"
     ]
    },
    {
     "name": "stderr",
     "output_type": "stream",
     "text": [
      "train loss: 0.10561387240886688 phard: 0.5110244750976562 forcing train acc: 0.9354538321495056 policy train acc: 0.5998598337173462 policy test acc: 0.48828125: 100%|██████████| 117/117 [00:06<00:00, 17.88it/s]        \n"
     ]
    },
    {
     "name": "stdout",
     "output_type": "stream",
     "text": [
      "Epoch 21\n"
     ]
    },
    {
     "name": "stderr",
     "output_type": "stream",
     "text": [
      "train loss: 0.10656201839447021 phard: 0.5107215642929077 forcing train acc: 0.9353840351104736 policy train acc: 0.600694477558136 policy test acc: 0.5455729365348816: 100%|██████████| 117/117 [00:06<00:00, 17.90it/s]\n"
     ]
    },
    {
     "name": "stdout",
     "output_type": "stream",
     "text": [
      "Epoch 22\n"
     ]
    },
    {
     "name": "stderr",
     "output_type": "stream",
     "text": [
      "train loss: 0.10502268373966217 phard: 0.5142083168029785 forcing train acc: 0.9348726272583008 policy train acc: 0.6079728007316589 policy test acc: 0.5286458730697632: 100%|██████████| 117/117 [00:06<00:00, 17.95it/s]\n"
     ]
    },
    {
     "name": "stdout",
     "output_type": "stream",
     "text": [
      "Epoch 23\n"
     ]
    },
    {
     "name": "stderr",
     "output_type": "stream",
     "text": [
      "train loss: 0.10468804091215134 phard: 0.5153717398643494 forcing train acc: 0.937151312828064 policy train acc: 0.6060697436332703 policy test acc: 0.5065104365348816: 100%|██████████| 117/117 [00:06<00:00, 17.27it/s] \n"
     ]
    },
    {
     "name": "stdout",
     "output_type": "stream",
     "text": [
      "Epoch 24\n"
     ]
    },
    {
     "name": "stderr",
     "output_type": "stream",
     "text": [
      "train loss: 0.10497552156448364 phard: 0.5153725743293762 forcing train acc: 0.9363607168197632 policy train acc: 0.6110109686851501 policy test acc: 0.5199652910232544: 100%|██████████| 117/117 [00:06<00:00, 18.08it/s]\n"
     ]
    },
    {
     "name": "stdout",
     "output_type": "stream",
     "text": [
      "Epoch 25\n"
     ]
    },
    {
     "name": "stderr",
     "output_type": "stream",
     "text": [
      "training on-policy:   0%|          | 0/117 [00:00<?, ?it/s]Setting `pad_token_id` to `eos_token_id`:50256 for open-end generation.\n",
      "train loss: 2.522911787033081 phard: 0.4665137529373169 sft loss: 0.14363455772399902 forcing train acc: 0.927315890789032 policy train acc: 0.6203258633613586 policy test acc: 0.4822048544883728: 100%|██████████| 117/117 [03:20<00:00,  1.71s/it]  \n"
     ]
    },
    {
     "name": "stdout",
     "output_type": "stream",
     "text": [
      "Epoch 26\n"
     ]
    },
    {
     "name": "stderr",
     "output_type": "stream",
     "text": [
      "train loss: 1.8148608207702637 phard: 0.4903150200843811 sft loss: 0.13453388214111328 forcing train acc: 0.9322917461395264 policy train acc: 0.5579928159713745 policy test acc: 0.5546875: 100%|██████████| 117/117 [00:23<00:00,  4.88it/s]          \n"
     ]
    },
    {
     "name": "stdout",
     "output_type": "stream",
     "text": [
      "Epoch 27\n"
     ]
    },
    {
     "name": "stderr",
     "output_type": "stream",
     "text": [
      "train loss: 1.7099556922912598 phard: 0.491231769323349 sft loss: 0.1299995332956314 forcing train acc: 0.9329891204833984 policy train acc: 0.5452390909194946 policy test acc: 0.5251736044883728: 100%|██████████| 117/117 [00:23<00:00,  4.88it/s]  \n"
     ]
    },
    {
     "name": "stdout",
     "output_type": "stream",
     "text": [
      "Epoch 28\n"
     ]
    },
    {
     "name": "stderr",
     "output_type": "stream",
     "text": [
      "train loss: 1.6790645122528076 phard: 0.4971641004085541 sft loss: 0.12716376781463623 forcing train acc: 0.9332915544509888 policy train acc: 0.5505475401878357 policy test acc: 0.48046875: 100%|██████████| 117/117 [00:23<00:00,  4.88it/s]         \n"
     ]
    },
    {
     "name": "stdout",
     "output_type": "stream",
     "text": [
      "Epoch 29\n"
     ]
    },
    {
     "name": "stderr",
     "output_type": "stream",
     "text": [
      "train loss: 1.661573886871338 phard: 0.4974699914455414 sft loss: 0.12504810094833374 forcing train acc: 0.9316407442092896 policy train acc: 0.5571915507316589 policy test acc: 0.4982638955116272: 100%|██████████| 117/117 [00:24<00:00,  4.83it/s] \n"
     ]
    },
    {
     "name": "stdout",
     "output_type": "stream",
     "text": [
      "Epoch 30\n"
     ]
    },
    {
     "name": "stderr",
     "output_type": "stream",
     "text": [
      "train loss: 1.650293231010437 phard: 0.49931031465530396 sft loss: 0.12342841178178787 forcing train acc: 0.9324079751968384 policy train acc: 0.5636017918586731 policy test acc: 0.483506977558136: 100%|██████████| 117/117 [00:23<00:00,  4.88it/s] \n"
     ]
    },
    {
     "name": "stdout",
     "output_type": "stream",
     "text": [
      "Epoch 31\n"
     ]
    },
    {
     "name": "stderr",
     "output_type": "stream",
     "text": [
      "train loss: 1.6393821239471436 phard: 0.49700915813446045 sft loss: 0.12191078066825867 forcing train acc: 0.9328264594078064 policy train acc: 0.563067615032196 policy test acc: 0.5377604365348816: 100%|██████████| 117/117 [00:23<00:00,  4.89it/s]\n"
     ]
    },
    {
     "name": "stdout",
     "output_type": "stream",
     "text": [
      "Epoch 32\n"
     ]
    },
    {
     "name": "stderr",
     "output_type": "stream",
     "text": [
      "train loss: 1.6336512565612793 phard: 0.49793314933776855 sft loss: 0.12089528143405914 forcing train acc: 0.931966245174408 policy train acc: 0.5700788497924805 policy test acc: 0.5130208730697632: 100%|██████████| 117/117 [00:23<00:00,  4.89it/s] \n"
     ]
    },
    {
     "name": "stdout",
     "output_type": "stream",
     "text": [
      "Epoch 33\n"
     ]
    },
    {
     "name": "stderr",
     "output_type": "stream",
     "text": [
      "train loss: 1.6279170513153076 phard: 0.5010003447532654 sft loss: 0.1197817474603653 forcing train acc: 0.9333147406578064 policy train acc: 0.570345938205719 policy test acc: 0.5407986044883728: 100%|██████████| 117/117 [00:24<00:00,  4.86it/s] \n"
     ]
    },
    {
     "name": "stdout",
     "output_type": "stream",
     "text": [
      "Epoch 34\n"
     ]
    },
    {
     "name": "stderr",
     "output_type": "stream",
     "text": [
      "train loss: 1.622388243675232 phard: 0.505507230758667 sft loss: 0.11882877349853516 forcing train acc: 0.9336634874343872 policy train acc: 0.5710136294364929 policy test acc: 0.5377604365348816: 100%|██████████| 117/117 [00:23<00:00,  4.89it/s]  \n"
     ]
    },
    {
     "name": "stdout",
     "output_type": "stream",
     "text": [
      "Epoch 35\n"
     ]
    },
    {
     "name": "stderr",
     "output_type": "stream",
     "text": [
      "train loss: 1.618078589439392 phard: 0.5039740800857544 sft loss: 0.11794473230838776 forcing train acc: 0.934337854385376 policy train acc: 0.574786365032196 policy test acc: 0.5260416865348816: 100%|██████████| 117/117 [00:23<00:00,  4.88it/s]  \n"
     ]
    }
   ],
   "source": [
    "import numpy as np\n",
    "import random\n",
    "np.random.seed(0)\n",
    "random.seed(0)\n",
    "\n",
    "\n",
    "for ep in range(0, 35):\n",
    "\n",
    "    print(f\"Epoch {ep+1}\")\n",
    "\n",
    "    loader = DataLoader(train_data, batch_size=256, shuffle=True, drop_last=True) \n",
    "    \n",
    "    policy_train_acc.update(evaluate(hf_params, train_state, train_loader), 1)\n",
    "    train_loss.reset_val()\n",
    "    train_acc.reset_val()\n",
    "    phard.reset_val()\n",
    "        \n",
    "\n",
    "    step = 0\n",
    "    pbar = tqdm(loader, total=len(loader), desc='training on-policy')\n",
    "\n",
    "    for input_tokens, target_tokens in pbar: \n",
    "\n",
    "        if ep < point:\n",
    "            input_tokens = jnp.array(input_tokens)\n",
    "            target_tokens = jnp.array(target_tokens)\n",
    "            input_tokens = input_tokens.reshape(jax.device_count(), -1, input_tokens.shape[-1])\n",
    "            target_tokens = target_tokens.reshape(jax.device_count(), -1, target_tokens.shape[-1])\n",
    "            loss, acc, prob_hard_token, train_state = train_step(train_state, input_tokens, target_tokens, keys_dropout)\n",
    "            if step % 5 == 0:\n",
    "                train_loss.update(loss.mean(), input_tokens.shape[1] * jax.device_count())  \n",
    "                train_acc.update(acc.mean(), input_tokens.shape[1] * jax.device_count())   \n",
    "                phard.update(prob_hard_token.mean(), input_tokens.shape[1] * jax.device_count()) \n",
    "                policy_test_acc.update(evaluate(hf_params, train_state, test_loader), 1)\n",
    "                pbar.set_description(f'train loss: {train_loss.get()} phard: {phard.get()} forcing train acc: {train_acc.get()} policy train acc: {policy_train_acc.list[-1]} policy test acc: {policy_test_acc.list[-1]}')\n",
    "\n",
    "        else:\n",
    "            input_tokens = jnp.array(input_tokens)\n",
    "            target_tokens = jnp.array(target_tokens)\n",
    "            original = jnp.concatenate([input_tokens[:, :train_data.num_prefix_tokens], target_tokens[:, -train_data.num_target_tokens:]], axis=1)\n",
    "            input_tokens = input_tokens.reshape(jax.device_count(), -1, input_tokens.shape[-1])\n",
    "            target_tokens = target_tokens.reshape(jax.device_count(), -1, target_tokens.shape[-1])\n",
    "            generations = generate_negative_data(hf_params, train_state, input_tokens, key_gen)\n",
    "            generations = generations[0].reshape(-1, generations[0].shape[-1]) \n",
    "            repeated_original = jnp.repeat(original[None, :, :], num_return_sequences, 0).transpose(1, 0, 2)\n",
    "            original = repeated_original.reshape(-1, repeated_original.shape[-1])\n",
    "            original = torch.tensor(np.array(original))\n",
    "            generations = torch.tensor(np.array(generations))\n",
    "            token_lvl_scores = get_token_level_scores(original , generations)\n",
    "            pos_input_tokens = original.clone()\n",
    "            pos_input_tokens = pos_input_tokens[:, :-1]\n",
    "            pos_target_tokens = original.clone()\n",
    "            # pos_target_tokens[token_lvl_scores == 0] = -1   \n",
    "            pos_target_tokens = pos_target_tokens[:, 1:]\n",
    "            neg_input_tokens = generations.clone()\n",
    "            neg_input_tokens = neg_input_tokens[:, :-1]\n",
    "            neg_target_tokens = generations.clone()\n",
    "            neg_target_tokens[token_lvl_scores == 0] = -1\n",
    "            neg_target_tokens = neg_target_tokens[:, 1:]\n",
    "            pos_input_tokens = jnp.array(pos_input_tokens)\n",
    "            neg_input_tokens = jnp.array(neg_input_tokens)\n",
    "            pos_target_tokens = jnp.array(pos_target_tokens)\n",
    "            neg_target_tokens = jnp.array(neg_target_tokens)\n",
    "            pos_input_tokens = pos_input_tokens.reshape(jax.device_count(), -1, pos_input_tokens.shape[-1])\n",
    "            pos_target_tokens = pos_target_tokens.reshape(jax.device_count(), -1, pos_target_tokens.shape[-1])\n",
    "            neg_input_tokens = neg_input_tokens.reshape(jax.device_count(), -1, neg_input_tokens.shape[-1])\n",
    "            neg_target_tokens = neg_target_tokens.reshape(jax.device_count(), -1, neg_target_tokens.shape[-1])\n",
    "            loss, acc, sft_loss, prob_hard_token, train_state = train_step_onpolicy(train_state, pos_input_tokens, pos_target_tokens, neg_input_tokens, neg_target_tokens, input_tokens, target_tokens, keys_dropout)\n",
    "            if step % 5 == 0:\n",
    "                train_loss.update(loss.mean(), pos_input_tokens.shape[1] * jax.device_count())  \n",
    "                train_acc.update(acc.mean(), pos_input_tokens.shape[1] * jax.device_count())   \n",
    "                phard.update(prob_hard_token.mean(), pos_input_tokens.shape[1] * jax.device_count()) \n",
    "                policy_test_acc.update(evaluate(hf_params, train_state, test_loader), 1)\n",
    "                sft.update(sft_loss.mean(), pos_input_tokens.shape[1] * jax.device_count())\n",
    "                pbar.set_description(f'train loss: {train_loss.get()} phard: {phard.get()} sft loss: {sft.get()} forcing train acc: {train_acc.get()} policy train acc: {policy_train_acc.list[-1]} policy test acc: {policy_test_acc.list[-1]}')\n",
    "\n",
    "        step += 1\n",
    "\n",
    "    # policy_train_acc.update(evaluate(hf_params, train_state, train_loader), 1)\n",
    "    # policy_test_acc.update(evaluate(hf_params, train_state, test_loader), 1)"
   ]
  },
  {
   "cell_type": "code",
   "execution_count": 19,
   "metadata": {},
   "outputs": [],
   "source": [
    "# idx=5\n",
    "# pos_input_tokens[0][idx], neg_input_tokens[0][idx], pos_target_tokens[0][idx], neg_target_tokens[0][idx]"
   ]
  },
  {
   "cell_type": "code",
   "execution_count": 20,
   "metadata": {},
   "outputs": [],
   "source": [
    "# evaluate(hf_params, train_state, train_loader)\n",
    "import pickle\n",
    "a  = {\n",
    "    'train_loss': train_loss.list,\n",
    "    'train_acc': train_acc.list,\n",
    "    'phard': phard.list,\n",
    "    'policy_train_acc': policy_train_acc.list,\n",
    "    'policy_test_acc': policy_test_acc.list, \n",
    "    'sft_loss': sft.list\n",
    "} \n",
    "with open(f'sft+dpo_node20_sft_changeat_{point}_run.pkl', 'wb') as f:\n",
    "    pickle.dump(a, f)"
   ]
  },
  {
   "cell_type": "code",
   "execution_count": 21,
   "metadata": {},
   "outputs": [
    {
     "data": {
      "text/plain": [
       "840"
      ]
     },
     "execution_count": 21,
     "metadata": {},
     "output_type": "execute_result"
    }
   ],
   "source": [
    "len(pickle.load(open(f'sft+dpo_node20_sft_changeat_{point}_run.pkl', 'rb'))['phard'])"
   ]
  },
  {
   "cell_type": "code",
   "execution_count": 22,
   "metadata": {},
   "outputs": [
    {
     "data": {
      "text/plain": [
       "Text(0.5, 1.0, 'test error')"
      ]
     },
     "execution_count": 22,
     "metadata": {},
     "output_type": "execute_result"
    },
    {
     "data": {
      "image/png": "[encoded data removed]",
      "text/plain": [
       "<Figure size 640x480 with 1 Axes>"
      ]
     },
     "metadata": {},
     "output_type": "display_data"
    }
   ],
   "source": [
    "import matplotlib.pyplot as plt\n",
    "plt.plot(np.arange(0,len(policy_test_acc.list)*5,5), 1.0-np.array(policy_test_acc.list))\n",
    "\n",
    "a =pickle.load(open(f'sft+dpo_node20_sft_changeat_2_run.pkl', 'rb'))['policy_test_acc']\n",
    "plt.plot(np.arange(0,len(a)*5,5), 1.0-np.array(a))\n",
    "plt.title('test error')\n"
   ]
  },
  {
   "cell_type": "code",
   "execution_count": 23,
   "metadata": {},
   "outputs": [
    {
     "data": {
      "text/plain": [
       "(0.0, 0.5)"
      ]
     },
     "execution_count": 23,
     "metadata": {},
     "output_type": "execute_result"
    },
    {
     "data": {
      "image/png": "[encoded data removed]",
      "text/plain": [
       "<Figure size 640x480 with 1 Axes>"
      ]
     },
     "metadata": {},
     "output_type": "display_data"
    }
   ],
   "source": [
    "import matplotlib.pyplot as plt\n",
    "plt.plot(np.arange(0,len(train_loss.list)*5,5), np.array(train_loss.list))\n",
    "\n",
    "a =pickle.load(open(f'sft+dpo_node20_sft_changeat_2_run.pkl', 'rb'))['sft_loss']\n",
    "plt.plot(np.arange(0,len(a)*5,5), np.array(a))\n",
    "plt.title('train loss')\n",
    "plt.ylim(0, 0.5)\n"
   ]
  },
  {
   "cell_type": "code",
   "execution_count": 24,
   "metadata": {},
   "outputs": [],
   "source": [
    "# plt.plot(\n",
    "#     pickle.load(open(f'sft+dpo_node20_sft_changeat_26_run.pkl', 'rb'))['train_loss'], label='NTP loss (SFT)')\n",
    "# plt.plot(np.arange(60, 600),\n",
    "#     np.array(pickle.load(open(f'sft+dpo_node20_sft_changeat_2_run.pkl', 'rb'))['sft_loss'][12:]), label='NTP loss (DPO with -ve)')\n",
    "# plt.plot(\n",
    "#     1.- np.array(pickle.load(open(f'sft+dpo_node20_sft_changeat_26_run.pkl', 'rb'))['policy_test_acc']), label='Test error (SFT)')\n",
    "# plt.plot(np.arange(60, 600),\n",
    "#     1. - np.array(pickle.load(open(f'sft+dpo_node20_sft_changeat_2_run.pkl', 'rb'))['policy_test_acc'][60:]), label='Test error (DPO with -ve)')\n",
    "\n",
    "# plt.legend()\n",
    "\n"
   ]
  },
  {
   "cell_type": "code",
   "execution_count": 25,
   "metadata": {},
   "outputs": [],
   "source": [
    "# import matplotlib.pyplot as plt\n",
    "# plt.plot(\n",
    "#     pickle.load(open(f'sft+dpo_node20_sft_changeat_26_run.pkl', 'rb'))['phard'], label='P(hard) SFT')\n",
    "\n",
    "# plt.plot(np.arange(48, 600),\n",
    "#     pickle.load(open(f'sft+dpo_node20_sft_changeat_2_run.pkl', 'rb'))['phard'][48:], label='P(hard) DPO with -ve')\n",
    "\n",
    "# plt.legend()\n"
   ]
  },
  {
   "cell_type": "code",
   "execution_count": 26,
   "metadata": {},
   "outputs": [],
   "source": [
    "# j = 31\n",
    "# pos_input_tokens[j][j], pos_target_tokens[j][j], neg_input_tokens[j][j], neg_target_tokens[j][j]"
   ]
  },
  {
   "cell_type": "code",
   "execution_count": 27,
   "metadata": {},
   "outputs": [],
   "source": [
    "# len(policy_test_acc.list)"
   ]
  },
  {
   "cell_type": "code",
   "execution_count": 28,
   "metadata": {},
   "outputs": [],
   "source": [
    "# import matplotlib.pyplot as plt\n",
    "# plt.plot(1.0- np.array(policy_test_acc.list))\n",
    "# plt.plot(1.0- np.array(policy_train_acc.list))\n"
   ]
  },
  {
   "cell_type": "code",
   "execution_count": 29,
   "metadata": {},
   "outputs": [],
   "source": [
    "# import matplotlib.pyplot as plt\n",
    "# plt.plot(phard.list[:400])\n"
   ]
  },
  {
   "cell_type": "code",
   "execution_count": 30,
   "metadata": {},
   "outputs": [],
   "source": [
    "# plt.plot(policy_train_acc.list)\n",
    "# plt.plot(policy_test_acc.list)"
   ]
  },
  {
   "cell_type": "code",
   "execution_count": 31,
   "metadata": {},
   "outputs": [],
   "source": [
    "# [round(1.0-x, 3) for x in np.array(pickle.load(open(f'sft_changeat_2_run.pkl', 'rb'))['policy_test_acc']).tolist()][:20]"
   ]
  },
  {
   "cell_type": "code",
   "execution_count": 32,
   "metadata": {},
   "outputs": [],
   "source": [
    "# sft.list"
   ]
  },
  {
   "cell_type": "code",
   "execution_count": 33,
   "metadata": {},
   "outputs": [],
   "source": [
    "import pickle\n",
    "long_runs = {}\n",
    "for point in [24, 36]:\n",
    "    long_runs[point] = pickle.load(open(f'sft+dpo_node20_sft_changeat_{point}_run.pkl', 'rb'))"
   ]
  },
  {
   "cell_type": "code",
   "execution_count": 34,
   "metadata": {},
   "outputs": [],
   "source": [
    "keys = list(long_runs[2].keys())\n",
    "for point in long_runs:\n",
    "    for k in keys:\n",
    "        long_runs[point][k] = np.array(np.array(long_runs[point][k]).tolist())"
   ]
  },
  {
   "cell_type": "code",
   "execution_count": 35,
   "metadata": {},
   "outputs": [],
   "source": [
    "with open('long_runs.pkl', 'wb') as f:\n",
    "    pickle.dump(long_runs, f)"
   ]
  },
  {
   "cell_type": "code",
   "execution_count": null,
   "metadata": {},
   "outputs": [],
   "source": []
  }
 ],
 "metadata": {
  "kernelspec": {
   "display_name": "Python 3",
   "language": "python",
   "name": "python3"
  },
  "language_info": {
   "codemirror_mode": {
    "name": "ipython",
    "version": 3
   },
   "file_extension": ".py",
   "mimetype": "text/x-python",
   "name": "python",
   "nbconvert_exporter": "python",
   "pygments_lexer": "ipython3",
   "version": "3.1.undefined"
  }
 },
 "nbformat": 4,
 "nbformat_minor": 2
}
