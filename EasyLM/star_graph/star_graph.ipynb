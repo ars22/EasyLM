{
 "cells": [
  {
   "cell_type": "code",
   "execution_count": 1,
   "metadata": {},
   "outputs": [
    {
     "name": "stderr",
     "output_type": "stream",
     "text": [
      "/home/asetlur/.local/lib/python3.8/site-packages/tqdm/auto.py:21: TqdmWarning: IProgress not found. Please update jupyter and ipywidgets. See https://ipywidgets.readthedocs.io/en/stable/user_install.html\n",
      "  from .autonotebook import tqdm as notebook_tqdm\n"
     ]
    }
   ],
   "source": [
    "import sys\n",
    "sys.path.append('../../')\n",
    "from EasyLM.models.gptj.gptj_model import (\n",
    "    GPTJConfig, FlaxGPTJForCausalLMModule\n",
    ")\n",
    "from tqdm import tqdm, trange\n",
    "import sys\n",
    "from jax.experimental.pjit import pjit\n",
    "from EasyLM.jax_utils import (\n",
    "    JaxRNG, JaxDistributedConfig, next_rng, match_partition_rules,\n",
    "    cross_entropy_loss_and_accuracy, global_norm, get_float_dtype_by_name,\n",
    "    set_random_seed, average_metrics, get_weight_decay_mask,\n",
    "    make_shard_and_gather_fns, with_sharding_constraint, average_metrics, get_jax_mesh\n",
    ")\n",
    "\n",
    "set_random_seed(22)"
   ]
  },
  {
   "cell_type": "code",
   "execution_count": 2,
   "metadata": {},
   "outputs": [],
   "source": [
    "from torch.utils.data import Dataset\n",
    "import torch\n",
    "\n",
    "def prefix_target_list(filename=None):\n",
    "    \"\"\"\n",
    "    Load graphs and split them into prefix and target and return the list\n",
    "    \"\"\"\n",
    "    data_list = []\n",
    "    with open(filename, 'r') as f:\n",
    "        lines = f.readlines()\n",
    "    for line in lines:\n",
    "        prefix = line.strip().split('=')[0] + '='\n",
    "        target = line.strip().split('=')[1]\n",
    "        target = target.split(',')[1]\n",
    "        data_list.append((prefix, target))\n",
    "    return data_list\n",
    "\n",
    "\n",
    "class Graphs(Dataset):\n",
    "    def __init__(self, tokenizer, n_samples, data_path):\n",
    "        self.tokenizer = tokenizer\n",
    "        self.n_samples = n_samples\n",
    "        self.data_path = data_path\n",
    "        self.eval_mode = False\n",
    "        self.data_file = prefix_target_list(self.data_path)\n",
    "        self.tokenized, self.num_prefix_tokens, self.num_target_tokens = self.tokenize(self.data_file[:n_samples])\n",
    "\n",
    "    def __len__(self):\n",
    "        return len(self.tokenized)\n",
    "\n",
    "    def __getitem__(self, idx):\n",
    "        if self.eval_mode:\n",
    "            # In eval mode return the entire sequence\n",
    "            return self.tokenized[idx].to(self.device)\n",
    "\n",
    "        # Create inputs\n",
    "        x = self.tokenized[idx].clone()\n",
    "        y = torch.cat([-torch.ones((self.num_prefix_tokens - 1, )),\n",
    "                       x[self.num_prefix_tokens:].clone()])\n",
    "        return x[:-1], y.long()\n",
    "\n",
    "    def tokenize(self, data_list):\n",
    "        \"\"\"\n",
    "        Takes a list of prefix-target pairs, tokenizes and concatenates them\n",
    "        \"\"\"\n",
    "        out = []\n",
    "        prefix_len = len(self.tokenizer.encode(data_list[0][0]))\n",
    "        target_len = len(self.tokenizer.encode(data_list[0][1]))\n",
    "        same_len = True\n",
    "\n",
    "        for prefix, target in data_list:\n",
    "            prefix = torch.tensor(self.tokenizer.encode(prefix))\n",
    "            target = torch.tensor(self.tokenizer.encode(target))\n",
    "            if not (len(prefix) == prefix_len and len(target) == target_len):\n",
    "                same_len = False\n",
    "            seq = torch.concatenate([prefix, target], dim=-1).long()\n",
    "            out.append(seq)\n",
    "\n",
    "        # Check if all prefixes and all targets have the same length\n",
    "        if not same_len:\n",
    "            print('Not all prefixes or targets have the same length!!')\n",
    "        else:\n",
    "            print('Equal sequence lengths!')\n",
    "\n",
    "        return out, prefix_len, target_len\n",
    "\n",
    "    def eval(self):\n",
    "        # Switch to \"eval\" mode when generating sequences without teacher-forcing\n",
    "        self.eval_mode = True\n",
    "\n",
    "    def train(self):\n",
    "        # Switch back to \"train\" mode for teacher-forcing\n",
    "        self.eval_mode = False"
   ]
  },
  {
   "cell_type": "code",
   "execution_count": 3,
   "metadata": {},
   "outputs": [
    {
     "name": "stdout",
     "output_type": "stream",
     "text": [
      "Equal sequence lengths!\n",
      "Equal sequence lengths!\n"
     ]
    },
    {
     "name": "stderr",
     "output_type": "stream",
     "text": [
      "2024-04-23 22:41:30.581446: W tensorflow/compiler/xla/stream_executor/platform/default/dso_loader.cc:64] Could not load dynamic library 'libcudart.so.11.0'; dlerror: libcudart.so.11.0: cannot open shared object file: No such file or directory; LD_LIBRARY_PATH: :/usr/local/lib\n",
      "2024-04-23 22:41:31.262694: W tensorflow/compiler/xla/stream_executor/platform/default/dso_loader.cc:64] Could not load dynamic library 'libnvinfer.so.7'; dlerror: libnvinfer.so.7: cannot open shared object file: No such file or directory; LD_LIBRARY_PATH: :/usr/local/lib\n",
      "2024-04-23 22:41:31.262793: W tensorflow/compiler/xla/stream_executor/platform/default/dso_loader.cc:64] Could not load dynamic library 'libnvinfer_plugin.so.7'; dlerror: libnvinfer_plugin.so.7: cannot open shared object file: No such file or directory; LD_LIBRARY_PATH: :/usr/local/lib\n",
      "2024-04-23 22:41:31.262799: W tensorflow/compiler/tf2tensorrt/utils/py_utils.cc:38] TF-TRT Warning: Cannot dlopen some TensorRT libraries. If you would like to use Nvidia GPU with TensorRT, please make sure the missing libraries mentioned above are installed properly.\n"
     ]
    },
    {
     "name": "stdout",
     "output_type": "stream",
     "text": [
      "(tensor([21, 11, 24, 91, 22, 11, 21, 91, 24, 11, 15, 91, 20, 11, 17, 91, 22, 11,\n",
      "        19, 91, 19, 11, 20, 14, 22, 11, 17, 28]), tensor([-1, -1, -1, -1, -1, -1, -1, -1, -1, -1, -1, -1, -1, -1, -1, -1, -1, -1,\n",
      "        -1, -1, -1, -1, -1, -1, -1, -1, -1, 19])) 6,9|7,6|9,0|5,2|7,4|4,5/7,2= 4\n"
     ]
    }
   ],
   "source": [
    "from torch.utils.data import DataLoader\n",
    "\n",
    "# LOAD TOKENIZER\n",
    "from transformers import AutoTokenizer # type: ignore\n",
    "tokenizer = AutoTokenizer.from_pretrained('EleutherAI/gpt-j-6B')\n",
    "tokenizer.pad_token_id = tokenizer.eos_token_id\n",
    "\n",
    "# LOAD DATASET\n",
    "data_path = 'deg_2_path_4_nodes_10'\n",
    "train_path, test_path = data_path + '_train_200000.txt', data_path + '_test_20000.txt'\n",
    "train_data = Graphs(tokenizer=tokenizer, n_samples=32, data_path=train_path)\n",
    "test_data = Graphs(tokenizer=tokenizer, n_samples=100, data_path=test_path)\n",
    "train_data.train()\n",
    "\n",
    "# sanity check\n",
    "print(train_data[0], tokenizer.decode(train_data[0][0]), tokenizer.decode(train_data[0][1][-train_data.num_target_tokens:]))\n",
    "\n",
    "# LOAD DATALOADER\n",
    "train_loader = DataLoader(train_data, batch_size=32, shuffle=True, drop_last=True) "
   ]
  },
  {
   "cell_type": "code",
   "execution_count": 4,
   "metadata": {},
   "outputs": [],
   "source": [
    "# LOAD MODEL\n",
    "\n",
    "gpt_config = GPTJConfig()\n",
    "gpt_config.update(dict(\n",
    "    bos_token_id=tokenizer.bos_token_id,\n",
    "    eos_token_id=tokenizer.eos_token_id,\n",
    "))\n",
    "\n",
    "model = FlaxGPTJForCausalLMModule(gpt_config, dtype=get_float_dtype_by_name('fp32'))"
   ]
  },
  {
   "cell_type": "code",
   "execution_count": 5,
   "metadata": {},
   "outputs": [
    {
     "name": "stdout",
     "output_type": "stream",
     "text": [
      "Total simulated steps: 100\n",
      "Total simulated warmup steps: 100\n",
      "Total simulated decay steps: 100\n"
     ]
    }
   ],
   "source": [
    "import math\n",
    "from EasyLM.optimizers import OptimizerFactory\n",
    "\n",
    "num_epochs = 100\n",
    "warmup_ratio = 1.\n",
    "learning_rate = 1e-5\n",
    "weight_decay = 0.\n",
    "end_lr = 1e-5\n",
    "simulated_steps_per_epoch = len(train_loader)\n",
    "\n",
    "optimizer_config = OptimizerFactory.get_default_config()\n",
    "total_simulated_steps = num_epochs * simulated_steps_per_epoch\n",
    "optimizer_config.adamw_optimizer.clip_gradient = 10000.\n",
    "optimizer_config.adamw_optimizer.lr_decay_steps = total_simulated_steps\n",
    "optimizer_config.adamw_optimizer.warmup_ratio = warmup_ratio\n",
    "optimizer_config.adamw_optimizer.end_lr = end_lr\n",
    "optimizer_config.adamw_optimizer.init_lr = 1e-5\n",
    "optimizer_config.adamw_optimizer.lr = learning_rate\n",
    "optimizer_config.adamw_optimizer.weight_decay = weight_decay\n",
    "\n",
    "if optimizer_config.adamw_optimizer.warmup_ratio > 0:\n",
    "    optimizer_config.adamw_optimizer.lr_warmup_steps = math.ceil(optimizer_config.adamw_optimizer.warmup_ratio * total_simulated_steps)\n",
    "\n",
    "print(f\"Total simulated steps: {total_simulated_steps}\")\n",
    "print(f\"Total simulated warmup steps: {optimizer_config.adamw_optimizer.lr_warmup_steps}\")\n",
    "print(f\"Total simulated decay steps: {optimizer_config.adamw_optimizer.lr_decay_steps}\")\n",
    "\n",
    "optimizer, optimizer_info = OptimizerFactory.get_optimizer(\n",
    "    optimizer_config,\n",
    ")"
   ]
  },
  {
   "cell_type": "code",
   "execution_count": 6,
   "metadata": {},
   "outputs": [
    {
     "data": {
      "text/plain": [
       "accumulate_gradient_steps: 1\n",
       "adamw_optimizer:\n",
       "  b1: 0.9\n",
       "  b2: 0.95\n",
       "  bf16_momentum: false\n",
       "  clip_gradient: 10000.0\n",
       "  end_lr: 1.0e-05\n",
       "  init_lr: 1.0e-05\n",
       "  lr: 1.0e-05\n",
       "  lr_decay_steps: 100\n",
       "  lr_warmup_steps: 100\n",
       "  multiply_by_parameter_scale: false\n",
       "  warmup_ratio: 1.0\n",
       "  weight_decay: 0.0\n",
       "palm_optimizer:\n",
       "  b1: 0.9\n",
       "  b2: 0.99\n",
       "  bf16_momentum: false\n",
       "  clip_gradient: 1.0\n",
       "  lr: 0.01\n",
       "  lr_warmup_steps: 10000\n",
       "  weight_decay: 0.0001\n",
       "type: adamw"
      ]
     },
     "execution_count": 6,
     "metadata": {},
     "output_type": "execute_result"
    }
   ],
   "source": [
    "optimizer_config"
   ]
  },
  {
   "cell_type": "code",
   "execution_count": 7,
   "metadata": {},
   "outputs": [
    {
     "name": "stdout",
     "output_type": "stream",
     "text": [
      "Initializing training state and pjitting...\n",
      "Initializing training state and pjitting...\n"
     ]
    }
   ],
   "source": [
    "# running epochs\n",
    "\n",
    "import jax\n",
    "import jax.numpy as jnp\n",
    "from jax.experimental.pjit import pjit\n",
    "from jax.sharding import PartitionSpec as PS\n",
    "from flax.training.train_state import TrainState\n",
    "\n",
    "\n",
    "seq_length = train_data.num_prefix_tokens + train_data.num_target_tokens  \n",
    "\n",
    "def create_trainstate_from_params(params):\n",
    "    return TrainState.create(params=params, tx=optimizer, apply_fn=None)\n",
    "\n",
    "\n",
    "def init_fn(rng):\n",
    "    rng_generator = JaxRNG(rng)\n",
    "    params = model.init(\n",
    "        input_ids=jnp.zeros((4, seq_length), dtype=jnp.int32),\n",
    "        position_ids=jnp.zeros((4, seq_length), dtype=jnp.int32),\n",
    "        attention_mask=jnp.ones((4, seq_length), dtype=jnp.int32),\n",
    "        rngs=rng_generator(gpt_config.rng_keys()),\n",
    "    )\n",
    "    return TrainState.create(params=params, tx=optimizer, apply_fn=None)\n",
    "\n",
    "\n",
    "print(\"Initializing training state and pjitting...\")\n",
    "train_state_shapes = jax.eval_shape(init_fn, next_rng())\n",
    "train_state_partition = match_partition_rules(\n",
    "    GPTJConfig.get_partition_rules(), train_state_shapes\n",
    ")\n",
    "\n",
    "axis_dims = '-1,4,1'\n",
    "mesh = get_jax_mesh(axis_dims, ('dp', 'fsdp', 'mp'))\n",
    "\n",
    "\n",
    "def eval_step(train_state, rng, batch):\n",
    "    rng_generator = JaxRNG(rng)\n",
    "    batch = with_sharding_constraint(batch, PS(('dp', 'fsdp')))\n",
    "    logits = model.apply(\n",
    "        train_state.params, batch['input_tokens'], batch['attention_mask'],\n",
    "        deterministic=True, rngs=rng_generator(GPTJConfig.rng_keys()),\n",
    "    ).logits\n",
    "    loss, accuracy = cross_entropy_loss_and_accuracy(\n",
    "        logits, batch['target_tokens'], batch['loss_masks']\n",
    "    )\n",
    "    metrics = dict(\n",
    "        eval_loss=loss,\n",
    "        eval_accuracy=accuracy,\n",
    "    )\n",
    "    return rng_generator(), metrics\n",
    "\n",
    "def train_step(train_state, rng, batch):\n",
    "    rng_generator = JaxRNG(rng)\n",
    "    batch = with_sharding_constraint(batch, PS(('dp', 'fsdp')))\n",
    "    def loss_and_accuracy(params):\n",
    "        logits = model.apply(\n",
    "            params, batch['input_tokens'], batch['attention_mask'],\n",
    "            deterministic=False, rngs=rng_generator(GPTJConfig.rng_keys()),\n",
    "        ).logits\n",
    "        return cross_entropy_loss_and_accuracy(\n",
    "            logits, batch['target_tokens'], batch['loss_masks']\n",
    "        )\n",
    "    grad_fn = jax.value_and_grad(loss_and_accuracy, has_aux=True)\n",
    "    (loss, accuracy), grads = grad_fn(train_state.params)\n",
    "    train_state = train_state.apply_gradients(grads=grads)\n",
    "    metrics = dict(\n",
    "        loss=loss,\n",
    "        accuracy=accuracy,\n",
    "        learning_rate=optimizer_info['learning_rate_schedule'](train_state.step // optimizer_config.accumulate_gradient_steps),\n",
    "        gradient_norm=global_norm(grads),\n",
    "        param_norm=global_norm(train_state.params),\n",
    "    )\n",
    "    return train_state, rng_generator(), metrics\n",
    "\n",
    "print(\"Initializing training state and pjitting...\")\n",
    "train_state_shapes = jax.eval_shape(init_fn, next_rng())\n",
    "train_state_partition = match_partition_rules(\n",
    "    GPTJConfig.get_partition_rules(), train_state_shapes\n",
    ")\n",
    "\n",
    "shard_fns, gather_fns = make_shard_and_gather_fns(\n",
    "    train_state_partition, train_state_shapes\n",
    ")\n",
    "\n",
    "sharded_init_fn = pjit(\n",
    "    init_fn,\n",
    "    in_shardings=PS(),\n",
    "    out_shardings=train_state_partition\n",
    ")\n",
    "\n",
    "sharded_create_trainstate_from_params = pjit(\n",
    "    create_trainstate_from_params,\n",
    "    in_shardings=(train_state_partition.params, ),\n",
    "    out_shardings=train_state_partition,\n",
    "    donate_argnums=(0, ),\n",
    ")\n",
    "\n",
    "sharded_train_step = pjit(\n",
    "    train_step,\n",
    "    in_shardings=(train_state_partition, PS(), PS()),\n",
    "    out_shardings=(train_state_partition, PS(), PS()),\n",
    "    donate_argnums=(0, 1),\n",
    ")\n",
    "\n",
    "sharded_eval_step = pjit(\n",
    "    eval_step,\n",
    "    in_shardings=(train_state_partition, PS(), PS()),\n",
    "    out_shardings=(PS(), PS()),\n",
    "    donate_argnums=(1,),\n",
    ")"
   ]
  },
  {
   "cell_type": "code",
   "execution_count": 8,
   "metadata": {},
   "outputs": [],
   "source": [
    "# train_state_shapes\n",
    "import numpy as np\n"
   ]
  },
  {
   "cell_type": "code",
   "execution_count": 9,
   "metadata": {},
   "outputs": [
    {
     "name": "stdout",
     "output_type": "stream",
     "text": [
      "6050882784\n"
     ]
    },
    {
     "name": "stderr",
     "output_type": "stream",
     "text": [
      "/tmp/ipykernel_463255/1639233076.py:1: FutureWarning: jax.tree_leaves is deprecated, and will be removed in a future release. Use jax.tree_util.tree_leaves instead.\n",
      "  param_count = sum(np.prod(x.shape) for x in jax.tree_leaves(train_state_shapes.params))\n"
     ]
    }
   ],
   "source": [
    "param_count = sum(np.prod(x.shape) for x in jax.tree_leaves(train_state_shapes.params))\n",
    "print(param_count)"
   ]
  },
  {
   "cell_type": "code",
   "execution_count": 10,
   "metadata": {},
   "outputs": [],
   "source": [
    "import time\n",
    "from jax_smi import initialise_tracking\n",
    "initialise_tracking()\n",
    "\n",
    "# with mesh:\n",
    "#     train_state = sharded_init_fn(next_rng())\n",
    "\n",
    "#     start_step = int(jax.device_get(train_state.step))\n",
    "#     start_epoch = start_step // simulated_steps_per_epoch\n",
    "#     start_step = start_step % simulated_steps_per_epoch\n",
    "\n",
    "#     sharded_rng = next_rng()\n",
    "\n",
    "#     epoch_counter = trange(start_epoch, num_epochs, ncols=0, position=0)\n",
    "#     step_counter = trange(start_step, simulated_steps_per_epoch, ncols=0, position=1)\n",
    "    \n",
    "    # overall_step = 0\n",
    "    # for epoch in epoch_counter:\n",
    "    #     for step, batch in tqdm(zip(step_counter, train_loader), total=simulated_steps_per_epoch):\n",
    "    #         x, y = batch\n",
    "    #         x = x.numpy()\n",
    "    #         y = y.numpy()\n",
    "            # if isinstance(batch, (list, tuple)):\n",
    "            #     batch = {\n",
    "            #         'input_tokens': x,\n",
    "            #         'target_tokens': y,\n",
    "            #         'loss_masks': (y != -1).astype(jnp.int32),\n",
    "            #         'attention_mask': (y != -1).astype(jnp.int32)\n",
    "            #     }\n",
    "            # # just measuring the train step time.\n",
    "            # start_time = time.time()\n",
    "            # train_state, sharded_rng, metrics = sharded_train_step(\n",
    "            #     train_state, sharded_rng, batch\n",
    "            # )\n",
    "            # step_time = time.time() - start_time\n",
    "            # overall_step += 1\n",
    "\n",
    "    #         if step % FLAGS.log_freq == 0:\n",
    "    #             if FLAGS.eval_steps > 0:\n",
    "    #                 eval_metric_list = []\n",
    "    #                 for batch in eval_dataset:\n",
    "    #                     if isinstance(batch, (list, tuple)):\n",
    "    #                         batch = {\n",
    "    #                             'tokens': batch[0],\n",
    "    #                             'loss_masks': batch[1],\n",
    "    #                         }\n",
    "    #                     sharded_rng, eval_metrics = sharded_eval_step(\n",
    "    #                         train_state, sharded_rng, batch\n",
    "    #                     )\n",
    "    #                     eval_metric_list.append(eval_metrics)\n",
    "    #                 metrics.update(average_metrics(eval_metric_list))\n",
    "    #             log_metrics = {\n",
    "    #                 \"train/step\": overall_step,\n",
    "    #                 \"train/samples_seen\": overall_step * real_batch_size,\n",
    "    #                 \"train/step_time\": step_time,\n",
    "    #                 \"train/epoch\": overall_step / steps_per_epoch,\n",
    "    #             }\n",
    "    #             log_metrics = jax.device_get(log_metrics)\n",
    "    #             log_metrics.update(metrics)\n",
    "    #             log_metrics = {k: float(v) for k, v in log_metrics.items()}\n",
    "    #             tqdm.write(\"\\n\" + pprint.pformat(log_metrics) + \"\\n\")\n"
   ]
  },
  {
   "cell_type": "code",
   "execution_count": 11,
   "metadata": {},
   "outputs": [
    {
     "name": "stderr",
     "output_type": "stream",
     "text": [
      "  0%|          | 0/1 [00:00<?, ?it/s]\n",
      "100% 1/1 [02:33<00:00, 153.26s/it] 153.26s/it]\n",
      "100%|██████████| 1/1 [02:33<00:00, 153.26s/it]\n"
     ]
    },
    {
     "name": "stdout",
     "output_type": "stream",
     "text": [
      "\n",
      "{'accuracy': 0.0,\n",
      " 'gradient_norm': 70.19483947753906,\n",
      " 'learning_rate': 9.999999747378752e-06,\n",
      " 'loss': 11.480037689208984,\n",
      " 'param_norm': 1133.121337890625,\n",
      " 'train/epoch': 1.0,\n",
      " 'train/samples_seen': 64.0,\n",
      " 'train/step': 1.0,\n",
      " 'train/step_time': 152.94790744781494}\n",
      "\n"
     ]
    },
    {
     "name": "stderr",
     "output_type": "stream",
     "text": [
      "100%|██████████| 1/1 [00:00<00:00,  2.56it/s]\n"
     ]
    },
    {
     "name": "stdout",
     "output_type": "stream",
     "text": [
      "\n",
      "{'accuracy': 0.3125,\n",
      " 'gradient_norm': 81.10279846191406,\n",
      " 'learning_rate': 9.999999747378752e-06,\n",
      " 'loss': 4.586386680603027,\n",
      " 'param_norm': 1133.12158203125,\n",
      " 'train/epoch': 2.0,\n",
      " 'train/samples_seen': 128.0,\n",
      " 'train/step': 2.0,\n",
      " 'train/step_time': 0.08667612075805664}\n",
      "\n"
     ]
    },
    {
     "name": "stderr",
     "output_type": "stream",
     "text": [
      "100%|██████████| 1/1 [00:00<00:00,  2.75it/s]\n"
     ]
    },
    {
     "name": "stdout",
     "output_type": "stream",
     "text": [
      "\n",
      "{'accuracy': 0.28125,\n",
      " 'gradient_norm': 73.40702819824219,\n",
      " 'learning_rate': 9.999999747378752e-06,\n",
      " 'loss': 4.833763122558594,\n",
      " 'param_norm': 1133.1219482421875,\n",
      " 'train/epoch': 3.0,\n",
      " 'train/samples_seen': 192.0,\n",
      " 'train/step': 3.0,\n",
      " 'train/step_time': 0.05884599685668945}\n",
      "\n"
     ]
    },
    {
     "name": "stderr",
     "output_type": "stream",
     "text": [
      "100%|██████████| 1/1 [00:00<00:00,  2.75it/s]\n"
     ]
    },
    {
     "name": "stdout",
     "output_type": "stream",
     "text": [
      "\n",
      "{'accuracy': 0.25,\n",
      " 'gradient_norm': 51.12541580200195,\n",
      " 'learning_rate': 9.999999747378752e-06,\n",
      " 'loss': 5.576484680175781,\n",
      " 'param_norm': 1133.122314453125,\n",
      " 'train/epoch': 4.0,\n",
      " 'train/samples_seen': 256.0,\n",
      " 'train/step': 4.0,\n",
      " 'train/step_time': 0.058739662170410156}\n",
      "\n"
     ]
    },
    {
     "name": "stderr",
     "output_type": "stream",
     "text": [
      "100%|██████████| 1/1 [00:00<00:00,  2.75it/s]\n"
     ]
    },
    {
     "name": "stdout",
     "output_type": "stream",
     "text": [
      "\n",
      "{'accuracy': 0.28125,\n",
      " 'gradient_norm': 39.848304748535156,\n",
      " 'learning_rate': 9.999999747378752e-06,\n",
      " 'loss': 6.000193119049072,\n",
      " 'param_norm': 1133.1226806640625,\n",
      " 'train/epoch': 5.0,\n",
      " 'train/samples_seen': 320.0,\n",
      " 'train/step': 5.0,\n",
      " 'train/step_time': 0.05930137634277344}\n",
      "\n"
     ]
    },
    {
     "name": "stderr",
     "output_type": "stream",
     "text": [
      "100%|██████████| 1/1 [00:00<00:00,  2.75it/s]\n"
     ]
    },
    {
     "name": "stdout",
     "output_type": "stream",
     "text": [
      "\n",
      "{'accuracy': 0.4375,\n",
      " 'gradient_norm': 37.42934036254883,\n",
      " 'learning_rate': 9.999999747378752e-06,\n",
      " 'loss': 5.438979625701904,\n",
      " 'param_norm': 1133.1231689453125,\n",
      " 'train/epoch': 6.0,\n",
      " 'train/samples_seen': 384.0,\n",
      " 'train/step': 6.0,\n",
      " 'train/step_time': 0.05977511405944824}\n",
      "\n"
     ]
    },
    {
     "name": "stderr",
     "output_type": "stream",
     "text": [
      "100%|██████████| 1/1 [00:00<00:00,  2.75it/s]\n"
     ]
    },
    {
     "name": "stdout",
     "output_type": "stream",
     "text": [
      "\n",
      "{'accuracy': 0.46875,\n",
      " 'gradient_norm': 31.475730895996094,\n",
      " 'learning_rate': 9.999999747378752e-06,\n",
      " 'loss': 4.109224319458008,\n",
      " 'param_norm': 1133.1234130859375,\n",
      " 'train/epoch': 7.0,\n",
      " 'train/samples_seen': 448.0,\n",
      " 'train/step': 7.0,\n",
      " 'train/step_time': 0.05827474594116211}\n",
      "\n"
     ]
    },
    {
     "name": "stderr",
     "output_type": "stream",
     "text": [
      "100%|██████████| 1/1 [00:00<00:00,  2.74it/s]\n"
     ]
    },
    {
     "name": "stdout",
     "output_type": "stream",
     "text": [
      "\n",
      "{'accuracy': 0.4375,\n",
      " 'gradient_norm': 29.525474548339844,\n",
      " 'learning_rate': 9.999999747378752e-06,\n",
      " 'loss': 2.565159320831299,\n",
      " 'param_norm': 1133.1239013671875,\n",
      " 'train/epoch': 8.0,\n",
      " 'train/samples_seen': 512.0,\n",
      " 'train/step': 8.0,\n",
      " 'train/step_time': 0.05978202819824219}\n",
      "\n"
     ]
    },
    {
     "name": "stderr",
     "output_type": "stream",
     "text": [
      "100%|██████████| 1/1 [00:00<00:00,  2.75it/s]\n"
     ]
    },
    {
     "name": "stdout",
     "output_type": "stream",
     "text": [
      "\n",
      "{'accuracy': 0.53125,\n",
      " 'gradient_norm': 20.44376564025879,\n",
      " 'learning_rate': 9.999999747378752e-06,\n",
      " 'loss': 1.4317532777786255,\n",
      " 'param_norm': 1133.1240234375,\n",
      " 'train/epoch': 9.0,\n",
      " 'train/samples_seen': 576.0,\n",
      " 'train/step': 9.0,\n",
      " 'train/step_time': 0.05944514274597168}\n",
      "\n"
     ]
    },
    {
     "name": "stderr",
     "output_type": "stream",
     "text": [
      "100%|██████████| 1/1 [00:00<00:00,  2.74it/s]\n"
     ]
    },
    {
     "name": "stdout",
     "output_type": "stream",
     "text": [
      "\n",
      "{'accuracy': 0.46875,\n",
      " 'gradient_norm': 39.2325439453125,\n",
      " 'learning_rate': 9.999999747378752e-06,\n",
      " 'loss': 1.5927447080612183,\n",
      " 'param_norm': 1133.1246337890625,\n",
      " 'train/epoch': 10.0,\n",
      " 'train/samples_seen': 640.0,\n",
      " 'train/step': 10.0,\n",
      " 'train/step_time': 0.060240745544433594}\n",
      "\n"
     ]
    },
    {
     "name": "stderr",
     "output_type": "stream",
     "text": [
      "100%|██████████| 1/1 [00:00<00:00,  2.75it/s]\n"
     ]
    },
    {
     "name": "stdout",
     "output_type": "stream",
     "text": [
      "\n",
      "{'accuracy': 0.53125,\n",
      " 'gradient_norm': 24.199901580810547,\n",
      " 'learning_rate': 9.999999747378752e-06,\n",
      " 'loss': 1.4245643615722656,\n",
      " 'param_norm': 1133.125244140625,\n",
      " 'train/epoch': 11.0,\n",
      " 'train/samples_seen': 704.0,\n",
      " 'train/step': 11.0,\n",
      " 'train/step_time': 0.05920767784118652}\n",
      "\n"
     ]
    },
    {
     "name": "stderr",
     "output_type": "stream",
     "text": [
      "100%|██████████| 1/1 [00:00<00:00,  2.74it/s]\n"
     ]
    },
    {
     "name": "stdout",
     "output_type": "stream",
     "text": [
      "\n",
      "{'accuracy': 0.46875,\n",
      " 'gradient_norm': 23.16550636291504,\n",
      " 'learning_rate': 9.999999747378752e-06,\n",
      " 'loss': 1.5415072441101074,\n",
      " 'param_norm': 1133.12548828125,\n",
      " 'train/epoch': 12.0,\n",
      " 'train/samples_seen': 768.0,\n",
      " 'train/step': 12.0,\n",
      " 'train/step_time': 0.05970263481140137}\n",
      "\n"
     ]
    },
    {
     "name": "stderr",
     "output_type": "stream",
     "text": [
      "100%|██████████| 1/1 [00:00<00:00,  2.73it/s]\n"
     ]
    },
    {
     "name": "stdout",
     "output_type": "stream",
     "text": [
      "\n",
      "{'accuracy': 0.46875,\n",
      " 'gradient_norm': 26.846752166748047,\n",
      " 'learning_rate': 9.999999747378752e-06,\n",
      " 'loss': 1.5697883367538452,\n",
      " 'param_norm': 1133.1258544921875,\n",
      " 'train/epoch': 13.0,\n",
      " 'train/samples_seen': 832.0,\n",
      " 'train/step': 13.0,\n",
      " 'train/step_time': 0.05928182601928711}\n",
      "\n"
     ]
    },
    {
     "name": "stderr",
     "output_type": "stream",
     "text": [
      "100%|██████████| 1/1 [00:00<00:00,  2.72it/s]\n"
     ]
    },
    {
     "name": "stdout",
     "output_type": "stream",
     "text": [
      "\n",
      "{'accuracy': 0.5625,\n",
      " 'gradient_norm': 23.088581085205078,\n",
      " 'learning_rate': 9.999999747378752e-06,\n",
      " 'loss': 1.1688101291656494,\n",
      " 'param_norm': 1133.126220703125,\n",
      " 'train/epoch': 14.0,\n",
      " 'train/samples_seen': 896.0,\n",
      " 'train/step': 14.0,\n",
      " 'train/step_time': 0.06257867813110352}\n",
      "\n"
     ]
    },
    {
     "name": "stderr",
     "output_type": "stream",
     "text": [
      "100%|██████████| 1/1 [00:00<00:00,  2.73it/s]\n"
     ]
    },
    {
     "name": "stdout",
     "output_type": "stream",
     "text": [
      "\n",
      "{'accuracy': 0.71875,\n",
      " 'gradient_norm': 15.588017463684082,\n",
      " 'learning_rate': 9.999999747378752e-06,\n",
      " 'loss': 0.7551507949829102,\n",
      " 'param_norm': 1133.1265869140625,\n",
      " 'train/epoch': 15.0,\n",
      " 'train/samples_seen': 960.0,\n",
      " 'train/step': 15.0,\n",
      " 'train/step_time': 0.05966377258300781}\n",
      "\n"
     ]
    },
    {
     "name": "stderr",
     "output_type": "stream",
     "text": [
      "100%|██████████| 1/1 [00:00<00:00,  2.74it/s]\n"
     ]
    },
    {
     "name": "stdout",
     "output_type": "stream",
     "text": [
      "\n",
      "{'accuracy': 0.78125,\n",
      " 'gradient_norm': 13.083539962768555,\n",
      " 'learning_rate': 9.999999747378752e-06,\n",
      " 'loss': 0.6016021370887756,\n",
      " 'param_norm': 1133.126953125,\n",
      " 'train/epoch': 16.0,\n",
      " 'train/samples_seen': 1024.0,\n",
      " 'train/step': 16.0,\n",
      " 'train/step_time': 0.059487342834472656}\n",
      "\n"
     ]
    },
    {
     "name": "stderr",
     "output_type": "stream",
     "text": [
      "100%|██████████| 1/1 [00:00<00:00,  2.76it/s]\n"
     ]
    },
    {
     "name": "stdout",
     "output_type": "stream",
     "text": [
      "\n",
      "{'accuracy': 0.84375,\n",
      " 'gradient_norm': 10.785422325134277,\n",
      " 'learning_rate': 9.999999747378752e-06,\n",
      " 'loss': 0.5415163040161133,\n",
      " 'param_norm': 1133.1273193359375,\n",
      " 'train/epoch': 17.0,\n",
      " 'train/samples_seen': 1088.0,\n",
      " 'train/step': 17.0,\n",
      " 'train/step_time': 0.058985233306884766}\n",
      "\n"
     ]
    },
    {
     "name": "stderr",
     "output_type": "stream",
     "text": [
      "100%|██████████| 1/1 [00:00<00:00,  2.75it/s]\n"
     ]
    },
    {
     "name": "stdout",
     "output_type": "stream",
     "text": [
      "\n",
      "{'accuracy': 0.8125,\n",
      " 'gradient_norm': 12.113346099853516,\n",
      " 'learning_rate': 9.999999747378752e-06,\n",
      " 'loss': 0.5527895092964172,\n",
      " 'param_norm': 1133.127685546875,\n",
      " 'train/epoch': 18.0,\n",
      " 'train/samples_seen': 1152.0,\n",
      " 'train/step': 18.0,\n",
      " 'train/step_time': 0.06297922134399414}\n",
      "\n"
     ]
    },
    {
     "name": "stderr",
     "output_type": "stream",
     "text": [
      "100%|██████████| 1/1 [00:00<00:00,  2.72it/s]\n"
     ]
    },
    {
     "name": "stdout",
     "output_type": "stream",
     "text": [
      "\n",
      "{'accuracy': 0.78125,\n",
      " 'gradient_norm': 11.437657356262207,\n",
      " 'learning_rate': 9.999999747378752e-06,\n",
      " 'loss': 0.527722954750061,\n",
      " 'param_norm': 1133.128173828125,\n",
      " 'train/epoch': 19.0,\n",
      " 'train/samples_seen': 1216.0,\n",
      " 'train/step': 19.0,\n",
      " 'train/step_time': 0.06106066703796387}\n",
      "\n"
     ]
    },
    {
     "name": "stderr",
     "output_type": "stream",
     "text": [
      "100%|██████████| 1/1 [00:00<00:00,  2.73it/s]\n"
     ]
    },
    {
     "name": "stdout",
     "output_type": "stream",
     "text": [
      "\n",
      "{'accuracy': 0.875,\n",
      " 'gradient_norm': 10.2225980758667,\n",
      " 'learning_rate': 9.999999747378752e-06,\n",
      " 'loss': 0.49152952432632446,\n",
      " 'param_norm': 1133.12841796875,\n",
      " 'train/epoch': 20.0,\n",
      " 'train/samples_seen': 1280.0,\n",
      " 'train/step': 20.0,\n",
      " 'train/step_time': 0.06235146522521973}\n",
      "\n"
     ]
    },
    {
     "name": "stderr",
     "output_type": "stream",
     "text": [
      "100%|██████████| 1/1 [00:00<00:00,  2.71it/s]\n"
     ]
    },
    {
     "name": "stdout",
     "output_type": "stream",
     "text": [
      "\n",
      "{'accuracy': 0.875,\n",
      " 'gradient_norm': 10.65017318725586,\n",
      " 'learning_rate': 9.999999747378752e-06,\n",
      " 'loss': 0.4671488404273987,\n",
      " 'param_norm': 1133.1287841796875,\n",
      " 'train/epoch': 21.0,\n",
      " 'train/samples_seen': 1344.0,\n",
      " 'train/step': 21.0,\n",
      " 'train/step_time': 0.06514096260070801}\n",
      "\n"
     ]
    },
    {
     "name": "stderr",
     "output_type": "stream",
     "text": [
      "100%|██████████| 1/1 [00:00<00:00,  2.74it/s]\n"
     ]
    },
    {
     "name": "stdout",
     "output_type": "stream",
     "text": [
      "\n",
      "{'accuracy': 0.90625,\n",
      " 'gradient_norm': 9.865423202514648,\n",
      " 'learning_rate': 9.999999747378752e-06,\n",
      " 'loss': 0.3847954571247101,\n",
      " 'param_norm': 1133.12890625,\n",
      " 'train/epoch': 22.0,\n",
      " 'train/samples_seen': 1408.0,\n",
      " 'train/step': 22.0,\n",
      " 'train/step_time': 0.06077742576599121}\n",
      "\n"
     ]
    },
    {
     "name": "stderr",
     "output_type": "stream",
     "text": [
      "100%|██████████| 1/1 [00:00<00:00,  2.75it/s]\n"
     ]
    },
    {
     "name": "stdout",
     "output_type": "stream",
     "text": [
      "\n",
      "{'accuracy': 0.9375,\n",
      " 'gradient_norm': 7.234127998352051,\n",
      " 'learning_rate': 9.999999747378752e-06,\n",
      " 'loss': 0.24658146500587463,\n",
      " 'param_norm': 1133.129150390625,\n",
      " 'train/epoch': 23.0,\n",
      " 'train/samples_seen': 1472.0,\n",
      " 'train/step': 23.0,\n",
      " 'train/step_time': 0.05978226661682129}\n",
      "\n"
     ]
    },
    {
     "name": "stderr",
     "output_type": "stream",
     "text": [
      "100%|██████████| 1/1 [00:00<00:00,  2.72it/s]\n"
     ]
    },
    {
     "name": "stdout",
     "output_type": "stream",
     "text": [
      "\n",
      "{'accuracy': 0.96875,\n",
      " 'gradient_norm': 4.349519729614258,\n",
      " 'learning_rate': 9.999999747378752e-06,\n",
      " 'loss': 0.13047142326831818,\n",
      " 'param_norm': 1133.1295166015625,\n",
      " 'train/epoch': 24.0,\n",
      " 'train/samples_seen': 1536.0,\n",
      " 'train/step': 24.0,\n",
      " 'train/step_time': 0.06059741973876953}\n",
      "\n"
     ]
    },
    {
     "name": "stderr",
     "output_type": "stream",
     "text": [
      "100%|██████████| 1/1 [00:00<00:00,  2.72it/s]\n"
     ]
    },
    {
     "name": "stdout",
     "output_type": "stream",
     "text": [
      "\n",
      "{'accuracy': 1.0,\n",
      " 'gradient_norm': 3.0994436740875244,\n",
      " 'learning_rate': 9.999999747378752e-06,\n",
      " 'loss': 0.08905977010726929,\n",
      " 'param_norm': 1133.1300048828125,\n",
      " 'train/epoch': 25.0,\n",
      " 'train/samples_seen': 1600.0,\n",
      " 'train/step': 25.0,\n",
      " 'train/step_time': 0.06288599967956543}\n",
      "\n"
     ]
    },
    {
     "name": "stderr",
     "output_type": "stream",
     "text": [
      "100%|██████████| 1/1 [00:00<00:00,  2.74it/s]\n"
     ]
    },
    {
     "name": "stdout",
     "output_type": "stream",
     "text": [
      "\n",
      "{'accuracy': 0.96875,\n",
      " 'gradient_norm': 4.723756790161133,\n",
      " 'learning_rate': 9.999999747378752e-06,\n",
      " 'loss': 0.10385183990001678,\n",
      " 'param_norm': 1133.13037109375,\n",
      " 'train/epoch': 26.0,\n",
      " 'train/samples_seen': 1664.0,\n",
      " 'train/step': 26.0,\n",
      " 'train/step_time': 0.060599565505981445}\n",
      "\n"
     ]
    },
    {
     "name": "stderr",
     "output_type": "stream",
     "text": [
      "100%|██████████| 1/1 [00:00<00:00,  2.74it/s]\n"
     ]
    },
    {
     "name": "stdout",
     "output_type": "stream",
     "text": [
      "\n",
      "{'accuracy': 0.9375,\n",
      " 'gradient_norm': 5.540087699890137,\n",
      " 'learning_rate': 9.999999747378752e-06,\n",
      " 'loss': 0.1118776947259903,\n",
      " 'param_norm': 1133.130859375,\n",
      " 'train/epoch': 27.0,\n",
      " 'train/samples_seen': 1728.0,\n",
      " 'train/step': 27.0,\n",
      " 'train/step_time': 0.05979442596435547}\n",
      "\n"
     ]
    },
    {
     "name": "stderr",
     "output_type": "stream",
     "text": [
      "100%|██████████| 1/1 [00:00<00:00,  2.75it/s]\n"
     ]
    },
    {
     "name": "stdout",
     "output_type": "stream",
     "text": [
      "\n",
      "{'accuracy': 1.0,\n",
      " 'gradient_norm': 4.327368259429932,\n",
      " 'learning_rate': 9.999999747378752e-06,\n",
      " 'loss': 0.08241647481918335,\n",
      " 'param_norm': 1133.131103515625,\n",
      " 'train/epoch': 28.0,\n",
      " 'train/samples_seen': 1792.0,\n",
      " 'train/step': 28.0,\n",
      " 'train/step_time': 0.059505462646484375}\n",
      "\n"
     ]
    },
    {
     "name": "stderr",
     "output_type": "stream",
     "text": [
      "100%|██████████| 1/1 [00:00<00:00,  2.75it/s]\n"
     ]
    },
    {
     "name": "stdout",
     "output_type": "stream",
     "text": [
      "\n",
      "{'accuracy': 1.0,\n",
      " 'gradient_norm': 2.7128753662109375,\n",
      " 'learning_rate': 9.999999747378752e-06,\n",
      " 'loss': 0.05076562985777855,\n",
      " 'param_norm': 1133.1314697265625,\n",
      " 'train/epoch': 29.0,\n",
      " 'train/samples_seen': 1856.0,\n",
      " 'train/step': 29.0,\n",
      " 'train/step_time': 0.05990886688232422}\n",
      "\n"
     ]
    },
    {
     "name": "stderr",
     "output_type": "stream",
     "text": [
      "100%|██████████| 1/1 [00:00<00:00,  2.73it/s]\n"
     ]
    },
    {
     "name": "stdout",
     "output_type": "stream",
     "text": [
      "\n",
      "{'accuracy': 1.0,\n",
      " 'gradient_norm': 1.9354236125946045,\n",
      " 'learning_rate': 9.999999747378752e-06,\n",
      " 'loss': 0.03394634276628494,\n",
      " 'param_norm': 1133.1314697265625,\n",
      " 'train/epoch': 30.0,\n",
      " 'train/samples_seen': 1920.0,\n",
      " 'train/step': 30.0,\n",
      " 'train/step_time': 0.06069779396057129}\n",
      "\n"
     ]
    },
    {
     "name": "stderr",
     "output_type": "stream",
     "text": [
      "100%|██████████| 1/1 [00:00<00:00,  2.75it/s]\n"
     ]
    },
    {
     "name": "stdout",
     "output_type": "stream",
     "text": [
      "\n",
      "{'accuracy': 1.0,\n",
      " 'gradient_norm': 1.3699100017547607,\n",
      " 'learning_rate': 9.999999747378752e-06,\n",
      " 'loss': 0.025297995656728745,\n",
      " 'param_norm': 1133.1318359375,\n",
      " 'train/epoch': 31.0,\n",
      " 'train/samples_seen': 1984.0,\n",
      " 'train/step': 31.0,\n",
      " 'train/step_time': 0.05988955497741699}\n",
      "\n"
     ]
    },
    {
     "name": "stderr",
     "output_type": "stream",
     "text": [
      "100%|██████████| 1/1 [00:00<00:00,  2.70it/s]\n"
     ]
    },
    {
     "name": "stdout",
     "output_type": "stream",
     "text": [
      "\n",
      "{'accuracy': 1.0,\n",
      " 'gradient_norm': 1.637054204940796,\n",
      " 'learning_rate': 9.999999747378752e-06,\n",
      " 'loss': 0.024930082261562347,\n",
      " 'param_norm': 1133.1322021484375,\n",
      " 'train/epoch': 32.0,\n",
      " 'train/samples_seen': 2048.0,\n",
      " 'train/step': 32.0,\n",
      " 'train/step_time': 0.06579899787902832}\n",
      "\n"
     ]
    },
    {
     "name": "stderr",
     "output_type": "stream",
     "text": [
      "100%|██████████| 1/1 [00:00<00:00,  2.75it/s]\n"
     ]
    },
    {
     "name": "stdout",
     "output_type": "stream",
     "text": [
      "\n",
      "{'accuracy': 1.0,\n",
      " 'gradient_norm': 2.222193479537964,\n",
      " 'learning_rate': 9.999999747378752e-06,\n",
      " 'loss': 0.0274732057005167,\n",
      " 'param_norm': 1133.13232421875,\n",
      " 'train/epoch': 33.0,\n",
      " 'train/samples_seen': 2112.0,\n",
      " 'train/step': 33.0,\n",
      " 'train/step_time': 0.06012082099914551}\n",
      "\n"
     ]
    },
    {
     "name": "stderr",
     "output_type": "stream",
     "text": [
      "100%|██████████| 1/1 [00:00<00:00,  2.74it/s]\n"
     ]
    },
    {
     "name": "stdout",
     "output_type": "stream",
     "text": [
      "\n",
      "{'accuracy': 1.0,\n",
      " 'gradient_norm': 1.9471558332443237,\n",
      " 'learning_rate': 9.999999747378752e-06,\n",
      " 'loss': 0.022242136299610138,\n",
      " 'param_norm': 1133.132568359375,\n",
      " 'train/epoch': 34.0,\n",
      " 'train/samples_seen': 2176.0,\n",
      " 'train/step': 34.0,\n",
      " 'train/step_time': 0.05978083610534668}\n",
      "\n"
     ]
    },
    {
     "name": "stderr",
     "output_type": "stream",
     "text": [
      "100%|██████████| 1/1 [00:00<00:00,  2.74it/s]\n"
     ]
    },
    {
     "name": "stdout",
     "output_type": "stream",
     "text": [
      "\n",
      "{'accuracy': 1.0,\n",
      " 'gradient_norm': 1.0646789073944092,\n",
      " 'learning_rate': 9.999999747378752e-06,\n",
      " 'loss': 0.012387760914862156,\n",
      " 'param_norm': 1133.1328125,\n",
      " 'train/epoch': 35.0,\n",
      " 'train/samples_seen': 2240.0,\n",
      " 'train/step': 35.0,\n",
      " 'train/step_time': 0.06012415885925293}\n",
      "\n"
     ]
    },
    {
     "name": "stderr",
     "output_type": "stream",
     "text": [
      "100%|██████████| 1/1 [00:00<00:00,  2.75it/s]\n"
     ]
    },
    {
     "name": "stdout",
     "output_type": "stream",
     "text": [
      "\n",
      "{'accuracy': 1.0,\n",
      " 'gradient_norm': 0.5029011368751526,\n",
      " 'learning_rate': 9.999999747378752e-06,\n",
      " 'loss': 0.006342061795294285,\n",
      " 'param_norm': 1133.1329345703125,\n",
      " 'train/epoch': 36.0,\n",
      " 'train/samples_seen': 2304.0,\n",
      " 'train/step': 36.0,\n",
      " 'train/step_time': 0.05972456932067871}\n",
      "\n"
     ]
    },
    {
     "name": "stderr",
     "output_type": "stream",
     "text": [
      "100%|██████████| 1/1 [00:00<00:00,  2.74it/s]\n"
     ]
    },
    {
     "name": "stdout",
     "output_type": "stream",
     "text": [
      "\n",
      "{'accuracy': 1.0,\n",
      " 'gradient_norm': 0.29084312915802,\n",
      " 'learning_rate': 9.999999747378752e-06,\n",
      " 'loss': 0.0036578564904630184,\n",
      " 'param_norm': 1133.133056640625,\n",
      " 'train/epoch': 37.0,\n",
      " 'train/samples_seen': 2368.0,\n",
      " 'train/step': 37.0,\n",
      " 'train/step_time': 0.059670448303222656}\n",
      "\n"
     ]
    },
    {
     "name": "stderr",
     "output_type": "stream",
     "text": [
      "100%|██████████| 1/1 [00:00<00:00,  2.73it/s]\n"
     ]
    },
    {
     "name": "stdout",
     "output_type": "stream",
     "text": [
      "\n",
      "{'accuracy': 1.0,\n",
      " 'gradient_norm': 0.18828818202018738,\n",
      " 'learning_rate': 9.999999747378752e-06,\n",
      " 'loss': 0.002391529968008399,\n",
      " 'param_norm': 1133.1331787109375,\n",
      " 'train/epoch': 38.0,\n",
      " 'train/samples_seen': 2432.0,\n",
      " 'train/step': 38.0,\n",
      " 'train/step_time': 0.059590816497802734}\n",
      "\n"
     ]
    },
    {
     "name": "stderr",
     "output_type": "stream",
     "text": [
      "100%|██████████| 1/1 [00:00<00:00,  2.74it/s]\n"
     ]
    },
    {
     "name": "stdout",
     "output_type": "stream",
     "text": [
      "\n",
      "{'accuracy': 1.0,\n",
      " 'gradient_norm': 0.1224786564707756,\n",
      " 'learning_rate': 9.999999747378752e-06,\n",
      " 'loss': 0.0017474709311500192,\n",
      " 'param_norm': 1133.13330078125,\n",
      " 'train/epoch': 39.0,\n",
      " 'train/samples_seen': 2496.0,\n",
      " 'train/step': 39.0,\n",
      " 'train/step_time': 0.060390472412109375}\n",
      "\n"
     ]
    },
    {
     "name": "stderr",
     "output_type": "stream",
     "text": [
      "100%|██████████| 1/1 [00:00<00:00,  2.74it/s]\n"
     ]
    },
    {
     "name": "stdout",
     "output_type": "stream",
     "text": [
      "\n",
      "{'accuracy': 1.0,\n",
      " 'gradient_norm': 0.09764599055051804,\n",
      " 'learning_rate': 9.999999747378752e-06,\n",
      " 'loss': 0.0015165942022576928,\n",
      " 'param_norm': 1133.133544921875,\n",
      " 'train/epoch': 40.0,\n",
      " 'train/samples_seen': 2560.0,\n",
      " 'train/step': 40.0,\n",
      " 'train/step_time': 0.060231924057006836}\n",
      "\n"
     ]
    },
    {
     "name": "stderr",
     "output_type": "stream",
     "text": [
      "100%|██████████| 1/1 [00:00<00:00,  2.75it/s]\n"
     ]
    },
    {
     "name": "stdout",
     "output_type": "stream",
     "text": [
      "\n",
      "{'accuracy': 1.0,\n",
      " 'gradient_norm': 0.14557158946990967,\n",
      " 'learning_rate': 9.999999747378752e-06,\n",
      " 'loss': 0.001657618209719658,\n",
      " 'param_norm': 1133.1337890625,\n",
      " 'train/epoch': 41.0,\n",
      " 'train/samples_seen': 2624.0,\n",
      " 'train/step': 41.0,\n",
      " 'train/step_time': 0.06022143363952637}\n",
      "\n"
     ]
    },
    {
     "name": "stderr",
     "output_type": "stream",
     "text": [
      "100%|██████████| 1/1 [00:00<00:00,  2.76it/s]\n"
     ]
    },
    {
     "name": "stdout",
     "output_type": "stream",
     "text": [
      "\n",
      "{'accuracy': 1.0,\n",
      " 'gradient_norm': 0.2710539996623993,\n",
      " 'learning_rate': 9.999999747378752e-06,\n",
      " 'loss': 0.002149676438421011,\n",
      " 'param_norm': 1133.1337890625,\n",
      " 'train/epoch': 42.0,\n",
      " 'train/samples_seen': 2688.0,\n",
      " 'train/step': 42.0,\n",
      " 'train/step_time': 0.059216976165771484}\n",
      "\n"
     ]
    },
    {
     "name": "stderr",
     "output_type": "stream",
     "text": [
      "100%|██████████| 1/1 [00:00<00:00,  2.71it/s]\n"
     ]
    },
    {
     "name": "stdout",
     "output_type": "stream",
     "text": [
      "\n",
      "{'accuracy': 1.0,\n",
      " 'gradient_norm': 0.378701776266098,\n",
      " 'learning_rate': 9.999999747378752e-06,\n",
      " 'loss': 0.0025782573502510786,\n",
      " 'param_norm': 1133.1339111328125,\n",
      " 'train/epoch': 43.0,\n",
      " 'train/samples_seen': 2752.0,\n",
      " 'train/step': 43.0,\n",
      " 'train/step_time': 0.06401205062866211}\n",
      "\n"
     ]
    },
    {
     "name": "stderr",
     "output_type": "stream",
     "text": [
      "100%|██████████| 1/1 [00:00<00:00,  2.74it/s]\n"
     ]
    },
    {
     "name": "stdout",
     "output_type": "stream",
     "text": [
      "\n",
      "{'accuracy': 1.0,\n",
      " 'gradient_norm': 0.3257705867290497,\n",
      " 'learning_rate': 9.999999747378752e-06,\n",
      " 'loss': 0.002308749593794346,\n",
      " 'param_norm': 1133.134033203125,\n",
      " 'train/epoch': 44.0,\n",
      " 'train/samples_seen': 2816.0,\n",
      " 'train/step': 44.0,\n",
      " 'train/step_time': 0.05983781814575195}\n",
      "\n"
     ]
    },
    {
     "name": "stderr",
     "output_type": "stream",
     "text": [
      "100%|██████████| 1/1 [00:00<00:00,  2.74it/s]\n"
     ]
    },
    {
     "name": "stdout",
     "output_type": "stream",
     "text": [
      "\n",
      "{'accuracy': 1.0,\n",
      " 'gradient_norm': 0.1983230859041214,\n",
      " 'learning_rate': 9.999999747378752e-06,\n",
      " 'loss': 0.001710308250039816,\n",
      " 'param_norm': 1133.134033203125,\n",
      " 'train/epoch': 45.0,\n",
      " 'train/samples_seen': 2880.0,\n",
      " 'train/step': 45.0,\n",
      " 'train/step_time': 0.05945396423339844}\n",
      "\n"
     ]
    },
    {
     "name": "stderr",
     "output_type": "stream",
     "text": [
      "100%|██████████| 1/1 [00:00<00:00,  2.70it/s]\n"
     ]
    },
    {
     "name": "stdout",
     "output_type": "stream",
     "text": [
      "\n",
      "{'accuracy': 1.0,\n",
      " 'gradient_norm': 0.12716144323349,\n",
      " 'learning_rate': 9.999999747378752e-06,\n",
      " 'loss': 0.0013043094659224153,\n",
      " 'param_norm': 1133.1341552734375,\n",
      " 'train/epoch': 46.0,\n",
      " 'train/samples_seen': 2944.0,\n",
      " 'train/step': 46.0,\n",
      " 'train/step_time': 0.06725811958312988}\n",
      "\n"
     ]
    },
    {
     "name": "stderr",
     "output_type": "stream",
     "text": [
      "100%|██████████| 1/1 [00:00<00:00,  2.75it/s]\n"
     ]
    },
    {
     "name": "stdout",
     "output_type": "stream",
     "text": [
      "\n",
      "{'accuracy': 1.0,\n",
      " 'gradient_norm': 0.10506156086921692,\n",
      " 'learning_rate': 9.999999747378752e-06,\n",
      " 'loss': 0.0010935610625892878,\n",
      " 'param_norm': 1133.1341552734375,\n",
      " 'train/epoch': 47.0,\n",
      " 'train/samples_seen': 3008.0,\n",
      " 'train/step': 47.0,\n",
      " 'train/step_time': 0.05950593948364258}\n",
      "\n"
     ]
    },
    {
     "name": "stderr",
     "output_type": "stream",
     "text": [
      "100%|██████████| 1/1 [00:00<00:00,  2.74it/s]\n"
     ]
    },
    {
     "name": "stdout",
     "output_type": "stream",
     "text": [
      "\n",
      "{'accuracy': 1.0,\n",
      " 'gradient_norm': 0.09525037556886673,\n",
      " 'learning_rate': 9.999999747378752e-06,\n",
      " 'loss': 0.0009611132554709911,\n",
      " 'param_norm': 1133.1341552734375,\n",
      " 'train/epoch': 48.0,\n",
      " 'train/samples_seen': 3072.0,\n",
      " 'train/step': 48.0,\n",
      " 'train/step_time': 0.059891700744628906}\n",
      "\n"
     ]
    },
    {
     "name": "stderr",
     "output_type": "stream",
     "text": [
      "100%|██████████| 1/1 [00:00<00:00,  2.73it/s]\n"
     ]
    },
    {
     "name": "stdout",
     "output_type": "stream",
     "text": [
      "\n",
      "{'accuracy': 1.0,\n",
      " 'gradient_norm': 0.08593416213989258,\n",
      " 'learning_rate': 9.999999747378752e-06,\n",
      " 'loss': 0.000849151867441833,\n",
      " 'param_norm': 1133.13427734375,\n",
      " 'train/epoch': 49.0,\n",
      " 'train/samples_seen': 3136.0,\n",
      " 'train/step': 49.0,\n",
      " 'train/step_time': 0.05984020233154297}\n",
      "\n"
     ]
    },
    {
     "name": "stderr",
     "output_type": "stream",
     "text": [
      "100%|██████████| 1/1 [00:00<00:00,  2.74it/s]\n"
     ]
    },
    {
     "name": "stdout",
     "output_type": "stream",
     "text": [
      "\n",
      "{'accuracy': 1.0,\n",
      " 'gradient_norm': 0.07556669414043427,\n",
      " 'learning_rate': 9.999999747378752e-06,\n",
      " 'loss': 0.0007413988350890577,\n",
      " 'param_norm': 1133.1343994140625,\n",
      " 'train/epoch': 50.0,\n",
      " 'train/samples_seen': 3200.0,\n",
      " 'train/step': 50.0,\n",
      " 'train/step_time': 0.06090545654296875}\n",
      "\n"
     ]
    },
    {
     "name": "stderr",
     "output_type": "stream",
     "text": [
      "100%|██████████| 1/1 [00:00<00:00,  2.74it/s]\n"
     ]
    },
    {
     "name": "stdout",
     "output_type": "stream",
     "text": [
      "\n",
      "{'accuracy': 1.0,\n",
      " 'gradient_norm': 0.06457009166479111,\n",
      " 'learning_rate': 9.999999747378752e-06,\n",
      " 'loss': 0.0006357741658575833,\n",
      " 'param_norm': 1133.1343994140625,\n",
      " 'train/epoch': 51.0,\n",
      " 'train/samples_seen': 3264.0,\n",
      " 'train/step': 51.0,\n",
      " 'train/step_time': 0.059639692306518555}\n",
      "\n"
     ]
    },
    {
     "name": "stderr",
     "output_type": "stream",
     "text": [
      "100%|██████████| 1/1 [00:00<00:00,  1.31it/s]\n"
     ]
    },
    {
     "name": "stdout",
     "output_type": "stream",
     "text": [
      "\n",
      "{'accuracy': 1.0,\n",
      " 'gradient_norm': 0.05344022810459137,\n",
      " 'learning_rate': 9.999999747378752e-06,\n",
      " 'loss': 0.0005336754256859422,\n",
      " 'param_norm': 1133.1343994140625,\n",
      " 'train/epoch': 52.0,\n",
      " 'train/samples_seen': 3328.0,\n",
      " 'train/step': 52.0,\n",
      " 'train/step_time': 0.4561457633972168}\n",
      "\n"
     ]
    },
    {
     "name": "stderr",
     "output_type": "stream",
     "text": [
      "100%|██████████| 1/1 [00:00<00:00,  2.74it/s]\n"
     ]
    },
    {
     "name": "stdout",
     "output_type": "stream",
     "text": [
      "\n",
      "{'accuracy': 1.0,\n",
      " 'gradient_norm': 0.04364718496799469,\n",
      " 'learning_rate': 9.999999747378752e-06,\n",
      " 'loss': 0.0004456841852515936,\n",
      " 'param_norm': 1133.1346435546875,\n",
      " 'train/epoch': 53.0,\n",
      " 'train/samples_seen': 3392.0,\n",
      " 'train/step': 53.0,\n",
      " 'train/step_time': 0.0603642463684082}\n",
      "\n"
     ]
    },
    {
     "name": "stderr",
     "output_type": "stream",
     "text": [
      "100%|██████████| 1/1 [00:00<00:00,  2.74it/s]\n"
     ]
    },
    {
     "name": "stdout",
     "output_type": "stream",
     "text": [
      "\n",
      "{'accuracy': 1.0,\n",
      " 'gradient_norm': 0.03524154797196388,\n",
      " 'learning_rate': 9.999999747378752e-06,\n",
      " 'loss': 0.0003709126322064549,\n",
      " 'param_norm': 1133.1346435546875,\n",
      " 'train/epoch': 54.0,\n",
      " 'train/samples_seen': 3456.0,\n",
      " 'train/step': 54.0,\n",
      " 'train/step_time': 0.06005048751831055}\n",
      "\n"
     ]
    },
    {
     "name": "stderr",
     "output_type": "stream",
     "text": [
      "100%|██████████| 1/1 [00:00<00:00,  2.74it/s]\n"
     ]
    },
    {
     "name": "stdout",
     "output_type": "stream",
     "text": [
      "\n",
      "{'accuracy': 1.0,\n",
      " 'gradient_norm': 0.028365816920995712,\n",
      " 'learning_rate': 9.999999747378752e-06,\n",
      " 'loss': 0.00030927587067708373,\n",
      " 'param_norm': 1133.134765625,\n",
      " 'train/epoch': 55.0,\n",
      " 'train/samples_seen': 3520.0,\n",
      " 'train/step': 55.0,\n",
      " 'train/step_time': 0.05916333198547363}\n",
      "\n"
     ]
    },
    {
     "name": "stderr",
     "output_type": "stream",
     "text": [
      "100%|██████████| 1/1 [00:00<00:00,  2.74it/s]\n"
     ]
    },
    {
     "name": "stdout",
     "output_type": "stream",
     "text": [
      "\n",
      "{'accuracy': 1.0,\n",
      " 'gradient_norm': 0.022878503426909447,\n",
      " 'learning_rate': 9.999999747378752e-06,\n",
      " 'loss': 0.00025928113609552383,\n",
      " 'param_norm': 1133.1348876953125,\n",
      " 'train/epoch': 56.0,\n",
      " 'train/samples_seen': 3584.0,\n",
      " 'train/step': 56.0,\n",
      " 'train/step_time': 0.05996084213256836}\n",
      "\n"
     ]
    },
    {
     "name": "stderr",
     "output_type": "stream",
     "text": [
      "100%|██████████| 1/1 [00:00<00:00,  2.75it/s]\n"
     ]
    },
    {
     "name": "stdout",
     "output_type": "stream",
     "text": [
      "\n",
      "{'accuracy': 1.0,\n",
      " 'gradient_norm': 0.01862936280667782,\n",
      " 'learning_rate': 9.999999747378752e-06,\n",
      " 'loss': 0.0002189513761550188,\n",
      " 'param_norm': 1133.1348876953125,\n",
      " 'train/epoch': 57.0,\n",
      " 'train/samples_seen': 3648.0,\n",
      " 'train/step': 57.0,\n",
      " 'train/step_time': 0.05982208251953125}\n",
      "\n"
     ]
    },
    {
     "name": "stderr",
     "output_type": "stream",
     "text": [
      "100%|██████████| 1/1 [00:00<00:00,  2.74it/s]\n"
     ]
    },
    {
     "name": "stdout",
     "output_type": "stream",
     "text": [
      "\n",
      "{'accuracy': 1.0,\n",
      " 'gradient_norm': 0.01544790156185627,\n",
      " 'learning_rate': 9.999999747378752e-06,\n",
      " 'loss': 0.0001878385664895177,\n",
      " 'param_norm': 1133.135009765625,\n",
      " 'train/epoch': 58.0,\n",
      " 'train/samples_seen': 3712.0,\n",
      " 'train/step': 58.0,\n",
      " 'train/step_time': 0.06038379669189453}\n",
      "\n"
     ]
    },
    {
     "name": "stderr",
     "output_type": "stream",
     "text": [
      "100%|██████████| 1/1 [00:00<00:00,  2.74it/s]\n"
     ]
    },
    {
     "name": "stdout",
     "output_type": "stream",
     "text": [
      "\n",
      "{'accuracy': 1.0,\n",
      " 'gradient_norm': 0.012985332868993282,\n",
      " 'learning_rate': 9.999999747378752e-06,\n",
      " 'loss': 0.00016289523045998067,\n",
      " 'param_norm': 1133.135009765625,\n",
      " 'train/epoch': 59.0,\n",
      " 'train/samples_seen': 3776.0,\n",
      " 'train/step': 59.0,\n",
      " 'train/step_time': 0.06002521514892578}\n",
      "\n"
     ]
    },
    {
     "name": "stderr",
     "output_type": "stream",
     "text": [
      "100%|██████████| 1/1 [00:00<00:00,  2.75it/s]\n"
     ]
    },
    {
     "name": "stdout",
     "output_type": "stream",
     "text": [
      "\n",
      "{'accuracy': 1.0,\n",
      " 'gradient_norm': 0.011115746572613716,\n",
      " 'learning_rate': 9.999999747378752e-06,\n",
      " 'loss': 0.00014274826389737427,\n",
      " 'param_norm': 1133.135009765625,\n",
      " 'train/epoch': 60.0,\n",
      " 'train/samples_seen': 3840.0,\n",
      " 'train/step': 60.0,\n",
      " 'train/step_time': 0.05884408950805664}\n",
      "\n"
     ]
    },
    {
     "name": "stderr",
     "output_type": "stream",
     "text": [
      "100%|██████████| 1/1 [00:00<00:00,  2.74it/s]\n"
     ]
    },
    {
     "name": "stdout",
     "output_type": "stream",
     "text": [
      "\n",
      "{'accuracy': 1.0,\n",
      " 'gradient_norm': 0.009674017317593098,\n",
      " 'learning_rate': 9.999999747378752e-06,\n",
      " 'loss': 0.00012645297101698816,\n",
      " 'param_norm': 1133.1351318359375,\n",
      " 'train/epoch': 61.0,\n",
      " 'train/samples_seen': 3904.0,\n",
      " 'train/step': 61.0,\n",
      " 'train/step_time': 0.059537410736083984}\n",
      "\n"
     ]
    },
    {
     "name": "stderr",
     "output_type": "stream",
     "text": [
      "100%|██████████| 1/1 [00:00<00:00,  2.74it/s]\n"
     ]
    },
    {
     "name": "stdout",
     "output_type": "stream",
     "text": [
      "\n",
      "{'accuracy': 1.0,\n",
      " 'gradient_norm': 0.008583810180425644,\n",
      " 'learning_rate': 9.999999747378752e-06,\n",
      " 'loss': 0.00011365678801666945,\n",
      " 'param_norm': 1133.1351318359375,\n",
      " 'train/epoch': 62.0,\n",
      " 'train/samples_seen': 3968.0,\n",
      " 'train/step': 62.0,\n",
      " 'train/step_time': 0.0625772476196289}\n",
      "\n"
     ]
    },
    {
     "name": "stderr",
     "output_type": "stream",
     "text": [
      "100%|██████████| 1/1 [00:00<00:00,  2.75it/s]\n"
     ]
    },
    {
     "name": "stdout",
     "output_type": "stream",
     "text": [
      "\n",
      "{'accuracy': 1.0,\n",
      " 'gradient_norm': 0.007720008958131075,\n",
      " 'learning_rate': 9.999999747378752e-06,\n",
      " 'loss': 0.00010303840099368244,\n",
      " 'param_norm': 1133.1351318359375,\n",
      " 'train/epoch': 63.0,\n",
      " 'train/samples_seen': 4032.0,\n",
      " 'train/step': 63.0,\n",
      " 'train/step_time': 0.05997467041015625}\n",
      "\n"
     ]
    },
    {
     "name": "stderr",
     "output_type": "stream",
     "text": [
      "100%|██████████| 1/1 [00:00<00:00,  2.73it/s]\n"
     ]
    },
    {
     "name": "stdout",
     "output_type": "stream",
     "text": [
      "\n",
      "{'accuracy': 1.0,\n",
      " 'gradient_norm': 0.007038043811917305,\n",
      " 'learning_rate': 9.999999747378752e-06,\n",
      " 'loss': 9.420939022675157e-05,\n",
      " 'param_norm': 1133.1351318359375,\n",
      " 'train/epoch': 64.0,\n",
      " 'train/samples_seen': 4096.0,\n",
      " 'train/step': 64.0,\n",
      " 'train/step_time': 0.0601346492767334}\n",
      "\n"
     ]
    },
    {
     "name": "stderr",
     "output_type": "stream",
     "text": [
      "100%|██████████| 1/1 [00:00<00:00,  2.75it/s]\n"
     ]
    },
    {
     "name": "stdout",
     "output_type": "stream",
     "text": [
      "\n",
      "{'accuracy': 1.0,\n",
      " 'gradient_norm': 0.0064714327454566956,\n",
      " 'learning_rate': 9.999999747378752e-06,\n",
      " 'loss': 8.674423588672653e-05,\n",
      " 'param_norm': 1133.1351318359375,\n",
      " 'train/epoch': 65.0,\n",
      " 'train/samples_seen': 4160.0,\n",
      " 'train/step': 65.0,\n",
      " 'train/step_time': 0.05967354774475098}\n",
      "\n"
     ]
    },
    {
     "name": "stderr",
     "output_type": "stream",
     "text": [
      "100%|██████████| 1/1 [00:00<00:00,  2.75it/s]\n"
     ]
    },
    {
     "name": "stdout",
     "output_type": "stream",
     "text": [
      "\n",
      "{'accuracy': 1.0,\n",
      " 'gradient_norm': 0.006025720853358507,\n",
      " 'learning_rate': 9.999999747378752e-06,\n",
      " 'loss': 8.049885218497366e-05,\n",
      " 'param_norm': 1133.13525390625,\n",
      " 'train/epoch': 66.0,\n",
      " 'train/samples_seen': 4224.0,\n",
      " 'train/step': 66.0,\n",
      " 'train/step_time': 0.059181928634643555}\n",
      "\n"
     ]
    },
    {
     "name": "stderr",
     "output_type": "stream",
     "text": [
      "100%|██████████| 1/1 [00:00<00:00,  2.73it/s]\n"
     ]
    },
    {
     "name": "stdout",
     "output_type": "stream",
     "text": [
      "\n",
      "{'accuracy': 1.0,\n",
      " 'gradient_norm': 0.0056823003105819225,\n",
      " 'learning_rate': 9.999999747378752e-06,\n",
      " 'loss': 7.543769606854767e-05,\n",
      " 'param_norm': 1133.13525390625,\n",
      " 'train/epoch': 67.0,\n",
      " 'train/samples_seen': 4288.0,\n",
      " 'train/step': 67.0,\n",
      " 'train/step_time': 0.0628042221069336}\n",
      "\n"
     ]
    },
    {
     "name": "stderr",
     "output_type": "stream",
     "text": [
      "100%|██████████| 1/1 [00:00<00:00,  2.74it/s]\n"
     ]
    },
    {
     "name": "stdout",
     "output_type": "stream",
     "text": [
      "\n",
      "{'accuracy': 1.0,\n",
      " 'gradient_norm': 0.0053789690136909485,\n",
      " 'learning_rate': 9.999999747378752e-06,\n",
      " 'loss': 7.080831710482016e-05,\n",
      " 'param_norm': 1133.13525390625,\n",
      " 'train/epoch': 68.0,\n",
      " 'train/samples_seen': 4352.0,\n",
      " 'train/step': 68.0,\n",
      " 'train/step_time': 0.06052136421203613}\n",
      "\n"
     ]
    },
    {
     "name": "stderr",
     "output_type": "stream",
     "text": [
      "100%|██████████| 1/1 [00:00<00:00,  2.75it/s]\n"
     ]
    },
    {
     "name": "stdout",
     "output_type": "stream",
     "text": [
      "\n",
      "{'accuracy': 1.0,\n",
      " 'gradient_norm': 0.00512652937322855,\n",
      " 'learning_rate': 9.999999747378752e-06,\n",
      " 'loss': 6.687430141028017e-05,\n",
      " 'param_norm': 1133.1353759765625,\n",
      " 'train/epoch': 69.0,\n",
      " 'train/samples_seen': 4416.0,\n",
      " 'train/step': 69.0,\n",
      " 'train/step_time': 0.059479475021362305}\n",
      "\n"
     ]
    },
    {
     "name": "stderr",
     "output_type": "stream",
     "text": [
      "100%|██████████| 1/1 [00:00<00:00,  2.74it/s]\n"
     ]
    },
    {
     "name": "stdout",
     "output_type": "stream",
     "text": [
      "\n",
      "{'accuracy': 1.0,\n",
      " 'gradient_norm': 0.004900877829641104,\n",
      " 'learning_rate': 9.999999747378752e-06,\n",
      " 'loss': 6.335027137538418e-05,\n",
      " 'param_norm': 1133.13525390625,\n",
      " 'train/epoch': 70.0,\n",
      " 'train/samples_seen': 4480.0,\n",
      " 'train/step': 70.0,\n",
      " 'train/step_time': 0.06028008460998535}\n",
      "\n"
     ]
    },
    {
     "name": "stderr",
     "output_type": "stream",
     "text": [
      "100%|██████████| 1/1 [00:00<00:00,  2.74it/s]\n"
     ]
    },
    {
     "name": "stdout",
     "output_type": "stream",
     "text": [
      "\n",
      "{'accuracy': 1.0,\n",
      " 'gradient_norm': 0.004716932307928801,\n",
      " 'learning_rate': 9.999999747378752e-06,\n",
      " 'loss': 6.035594560671598e-05,\n",
      " 'param_norm': 1133.1353759765625,\n",
      " 'train/epoch': 71.0,\n",
      " 'train/samples_seen': 4544.0,\n",
      " 'train/step': 71.0,\n",
      " 'train/step_time': 0.06037497520446777}\n",
      "\n"
     ]
    },
    {
     "name": "stderr",
     "output_type": "stream",
     "text": [
      "100%|██████████| 1/1 [00:00<00:00,  2.75it/s]\n"
     ]
    },
    {
     "name": "stdout",
     "output_type": "stream",
     "text": [
      "\n",
      "{'accuracy': 1.0,\n",
      " 'gradient_norm': 0.0045410203747451305,\n",
      " 'learning_rate': 9.999999747378752e-06,\n",
      " 'loss': 5.738808249589056e-05,\n",
      " 'param_norm': 1133.1353759765625,\n",
      " 'train/epoch': 72.0,\n",
      " 'train/samples_seen': 4608.0,\n",
      " 'train/step': 72.0,\n",
      " 'train/step_time': 0.0638577938079834}\n",
      "\n"
     ]
    },
    {
     "name": "stderr",
     "output_type": "stream",
     "text": [
      "100%|██████████| 1/1 [00:00<00:00,  2.75it/s]\n"
     ]
    },
    {
     "name": "stdout",
     "output_type": "stream",
     "text": [
      "\n",
      "{'accuracy': 1.0,\n",
      " 'gradient_norm': 0.004383785184472799,\n",
      " 'learning_rate': 9.999999747378752e-06,\n",
      " 'loss': 5.482647247845307e-05,\n",
      " 'param_norm': 1133.1353759765625,\n",
      " 'train/epoch': 73.0,\n",
      " 'train/samples_seen': 4672.0,\n",
      " 'train/step': 73.0,\n",
      " 'train/step_time': 0.05940413475036621}\n",
      "\n"
     ]
    },
    {
     "name": "stderr",
     "output_type": "stream",
     "text": [
      "100%|██████████| 1/1 [00:00<00:00,  2.74it/s]\n"
     ]
    },
    {
     "name": "stdout",
     "output_type": "stream",
     "text": [
      "\n",
      "{'accuracy': 1.0,\n",
      " 'gradient_norm': 0.004233717918395996,\n",
      " 'learning_rate': 9.999999747378752e-06,\n",
      " 'loss': 5.2505696658045053e-05,\n",
      " 'param_norm': 1133.135498046875,\n",
      " 'train/epoch': 74.0,\n",
      " 'train/samples_seen': 4736.0,\n",
      " 'train/step': 74.0,\n",
      " 'train/step_time': 0.05973935127258301}\n",
      "\n"
     ]
    },
    {
     "name": "stderr",
     "output_type": "stream",
     "text": [
      "100%|██████████| 1/1 [00:00<00:00,  2.74it/s]\n"
     ]
    },
    {
     "name": "stdout",
     "output_type": "stream",
     "text": [
      "\n",
      "{'accuracy': 1.0,\n",
      " 'gradient_norm': 0.004082378465682268,\n",
      " 'learning_rate': 9.999999747378752e-06,\n",
      " 'loss': 5.025630525778979e-05,\n",
      " 'param_norm': 1133.135498046875,\n",
      " 'train/epoch': 75.0,\n",
      " 'train/samples_seen': 4800.0,\n",
      " 'train/step': 75.0,\n",
      " 'train/step_time': 0.06052660942077637}\n",
      "\n"
     ]
    },
    {
     "name": "stderr",
     "output_type": "stream",
     "text": [
      "100%|██████████| 1/1 [00:00<00:00,  2.74it/s]\n"
     ]
    },
    {
     "name": "stdout",
     "output_type": "stream",
     "text": [
      "\n",
      "{'accuracy': 1.0,\n",
      " 'gradient_norm': 0.0039432840421795845,\n",
      " 'learning_rate': 9.999999747378752e-06,\n",
      " 'loss': 4.814419662579894e-05,\n",
      " 'param_norm': 1133.135498046875,\n",
      " 'train/epoch': 76.0,\n",
      " 'train/samples_seen': 4864.0,\n",
      " 'train/step': 76.0,\n",
      " 'train/step_time': 0.060437679290771484}\n",
      "\n"
     ]
    },
    {
     "name": "stderr",
     "output_type": "stream",
     "text": [
      "100%|██████████| 1/1 [00:00<00:00,  2.74it/s]\n"
     ]
    },
    {
     "name": "stdout",
     "output_type": "stream",
     "text": [
      "\n",
      "{'accuracy': 1.0,\n",
      " 'gradient_norm': 0.0037891112733632326,\n",
      " 'learning_rate': 9.999999747378752e-06,\n",
      " 'loss': 4.608061135513708e-05,\n",
      " 'param_norm': 1133.135498046875,\n",
      " 'train/epoch': 77.0,\n",
      " 'train/samples_seen': 4928.0,\n",
      " 'train/step': 77.0,\n",
      " 'train/step_time': 0.05956840515136719}\n",
      "\n"
     ]
    },
    {
     "name": "stderr",
     "output_type": "stream",
     "text": [
      "100%|██████████| 1/1 [00:00<00:00,  2.74it/s]\n"
     ]
    },
    {
     "name": "stdout",
     "output_type": "stream",
     "text": [
      "\n",
      "{'accuracy': 1.0,\n",
      " 'gradient_norm': 0.0036544310860335827,\n",
      " 'learning_rate': 9.999999747378752e-06,\n",
      " 'loss': 4.4225831516087055e-05,\n",
      " 'param_norm': 1133.1356201171875,\n",
      " 'train/epoch': 78.0,\n",
      " 'train/samples_seen': 4992.0,\n",
      " 'train/step': 78.0,\n",
      " 'train/step_time': 0.05919051170349121}\n",
      "\n"
     ]
    },
    {
     "name": "stderr",
     "output_type": "stream",
     "text": [
      "100%|██████████| 1/1 [00:00<00:00,  2.74it/s]\n"
     ]
    },
    {
     "name": "stdout",
     "output_type": "stream",
     "text": [
      "\n",
      "{'accuracy': 1.0,\n",
      " 'gradient_norm': 0.0035043926909565926,\n",
      " 'learning_rate': 9.999999747378752e-06,\n",
      " 'loss': 4.236735912854783e-05,\n",
      " 'param_norm': 1133.1356201171875,\n",
      " 'train/epoch': 79.0,\n",
      " 'train/samples_seen': 5056.0,\n",
      " 'train/step': 79.0,\n",
      " 'train/step_time': 0.05946540832519531}\n",
      "\n"
     ]
    },
    {
     "name": "stderr",
     "output_type": "stream",
     "text": [
      "100%|██████████| 1/1 [00:00<00:00,  2.75it/s]\n"
     ]
    },
    {
     "name": "stdout",
     "output_type": "stream",
     "text": [
      "\n",
      "{'accuracy': 1.0,\n",
      " 'gradient_norm': 0.0033588882070034742,\n",
      " 'learning_rate': 9.999999747378752e-06,\n",
      " 'loss': 4.0620587242301553e-05,\n",
      " 'param_norm': 1133.1356201171875,\n",
      " 'train/epoch': 80.0,\n",
      " 'train/samples_seen': 5120.0,\n",
      " 'train/step': 80.0,\n",
      " 'train/step_time': 0.05932903289794922}\n",
      "\n"
     ]
    },
    {
     "name": "stderr",
     "output_type": "stream",
     "text": [
      "100%|██████████| 1/1 [00:00<00:00,  2.74it/s]\n"
     ]
    },
    {
     "name": "stdout",
     "output_type": "stream",
     "text": [
      "\n",
      "{'accuracy': 1.0,\n",
      " 'gradient_norm': 0.0032094253692775965,\n",
      " 'learning_rate': 9.999999747378752e-06,\n",
      " 'loss': 3.8981841498753056e-05,\n",
      " 'param_norm': 1133.1356201171875,\n",
      " 'train/epoch': 81.0,\n",
      " 'train/samples_seen': 5184.0,\n",
      " 'train/step': 81.0,\n",
      " 'train/step_time': 0.05986189842224121}\n",
      "\n"
     ]
    },
    {
     "name": "stderr",
     "output_type": "stream",
     "text": [
      "100%|██████████| 1/1 [00:00<00:00,  2.75it/s]\n"
     ]
    },
    {
     "name": "stdout",
     "output_type": "stream",
     "text": [
      "\n",
      "{'accuracy': 1.0,\n",
      " 'gradient_norm': 0.0030562819447368383,\n",
      " 'learning_rate': 9.999999747378752e-06,\n",
      " 'loss': 3.727244620677084e-05,\n",
      " 'param_norm': 1133.1356201171875,\n",
      " 'train/epoch': 82.0,\n",
      " 'train/samples_seen': 5248.0,\n",
      " 'train/step': 82.0,\n",
      " 'train/step_time': 0.05976724624633789}\n",
      "\n"
     ]
    },
    {
     "name": "stderr",
     "output_type": "stream",
     "text": [
      "100%|██████████| 1/1 [00:00<00:00,  2.76it/s]\n"
     ]
    },
    {
     "name": "stdout",
     "output_type": "stream",
     "text": [
      "\n",
      "{'accuracy': 1.0,\n",
      " 'gradient_norm': 0.0029111052863299847,\n",
      " 'learning_rate': 9.999999747378752e-06,\n",
      " 'loss': 3.573080903152004e-05,\n",
      " 'param_norm': 1133.1356201171875,\n",
      " 'train/epoch': 83.0,\n",
      " 'train/samples_seen': 5312.0,\n",
      " 'train/step': 83.0,\n",
      " 'train/step_time': 0.06433629989624023}\n",
      "\n"
     ]
    },
    {
     "name": "stderr",
     "output_type": "stream",
     "text": [
      "100%|██████████| 1/1 [00:00<00:00,  2.75it/s]\n"
     ]
    },
    {
     "name": "stdout",
     "output_type": "stream",
     "text": [
      "\n",
      "{'accuracy': 1.0,\n",
      " 'gradient_norm': 0.0027625488582998514,\n",
      " 'learning_rate': 9.999999747378752e-06,\n",
      " 'loss': 3.4199874789919704e-05,\n",
      " 'param_norm': 1133.1356201171875,\n",
      " 'train/epoch': 84.0,\n",
      " 'train/samples_seen': 5376.0,\n",
      " 'train/step': 84.0,\n",
      " 'train/step_time': 0.05947375297546387}\n",
      "\n"
     ]
    },
    {
     "name": "stderr",
     "output_type": "stream",
     "text": [
      "100%|██████████| 1/1 [00:00<00:00,  2.74it/s]\n"
     ]
    },
    {
     "name": "stdout",
     "output_type": "stream",
     "text": [
      "\n",
      "{'accuracy': 1.0,\n",
      " 'gradient_norm': 0.00262651639059186,\n",
      " 'learning_rate': 9.999999747378752e-06,\n",
      " 'loss': 3.2847900001797825e-05,\n",
      " 'param_norm': 1133.1356201171875,\n",
      " 'train/epoch': 85.0,\n",
      " 'train/samples_seen': 5440.0,\n",
      " 'train/step': 85.0,\n",
      " 'train/step_time': 0.0601649284362793}\n",
      "\n"
     ]
    },
    {
     "name": "stderr",
     "output_type": "stream",
     "text": [
      "100%|██████████| 1/1 [00:00<00:00,  2.73it/s]\n"
     ]
    },
    {
     "name": "stdout",
     "output_type": "stream",
     "text": [
      "\n",
      "{'accuracy': 1.0,\n",
      " 'gradient_norm': 0.0024839784018695354,\n",
      " 'learning_rate': 9.999999747378752e-06,\n",
      " 'loss': 3.1439885788131505e-05,\n",
      " 'param_norm': 1133.1356201171875,\n",
      " 'train/epoch': 86.0,\n",
      " 'train/samples_seen': 5504.0,\n",
      " 'train/step': 86.0,\n",
      " 'train/step_time': 0.05990767478942871}\n",
      "\n"
     ]
    },
    {
     "name": "stderr",
     "output_type": "stream",
     "text": [
      "100%|██████████| 1/1 [00:00<00:00,  2.74it/s]\n"
     ]
    },
    {
     "name": "stdout",
     "output_type": "stream",
     "text": [
      "\n",
      "{'accuracy': 1.0,\n",
      " 'gradient_norm': 0.0023566626477986574,\n",
      " 'learning_rate': 9.999999747378752e-06,\n",
      " 'loss': 3.0207067538867705e-05,\n",
      " 'param_norm': 1133.1356201171875,\n",
      " 'train/epoch': 87.0,\n",
      " 'train/samples_seen': 5568.0,\n",
      " 'train/step': 87.0,\n",
      " 'train/step_time': 0.06044626235961914}\n",
      "\n"
     ]
    },
    {
     "name": "stderr",
     "output_type": "stream",
     "text": [
      "100%|██████████| 1/1 [00:00<00:00,  2.74it/s]\n"
     ]
    },
    {
     "name": "stdout",
     "output_type": "stream",
     "text": [
      "\n",
      "{'accuracy': 1.0,\n",
      " 'gradient_norm': 0.0022278837859630585,\n",
      " 'learning_rate': 9.999999747378752e-06,\n",
      " 'loss': 2.8977470719837584e-05,\n",
      " 'param_norm': 1133.1356201171875,\n",
      " 'train/epoch': 88.0,\n",
      " 'train/samples_seen': 5632.0,\n",
      " 'train/step': 88.0,\n",
      " 'train/step_time': 0.060059547424316406}\n",
      "\n"
     ]
    },
    {
     "name": "stderr",
     "output_type": "stream",
     "text": [
      "100%|██████████| 1/1 [00:00<00:00,  2.74it/s]\n"
     ]
    },
    {
     "name": "stdout",
     "output_type": "stream",
     "text": [
      "\n",
      "{'accuracy': 1.0,\n",
      " 'gradient_norm': 0.0021134635899215937,\n",
      " 'learning_rate': 9.999999747378752e-06,\n",
      " 'loss': 2.788228084682487e-05,\n",
      " 'param_norm': 1133.1356201171875,\n",
      " 'train/epoch': 89.0,\n",
      " 'train/samples_seen': 5696.0,\n",
      " 'train/step': 89.0,\n",
      " 'train/step_time': 0.06088376045227051}\n",
      "\n"
     ]
    },
    {
     "name": "stderr",
     "output_type": "stream",
     "text": [
      "100%|██████████| 1/1 [00:00<00:00,  2.75it/s]\n"
     ]
    },
    {
     "name": "stdout",
     "output_type": "stream",
     "text": [
      "\n",
      "{'accuracy': 1.0,\n",
      " 'gradient_norm': 0.0020027742721140385,\n",
      " 'learning_rate': 9.999999747378752e-06,\n",
      " 'loss': 2.6839414204005152e-05,\n",
      " 'param_norm': 1133.1356201171875,\n",
      " 'train/epoch': 90.0,\n",
      " 'train/samples_seen': 5760.0,\n",
      " 'train/step': 90.0,\n",
      " 'train/step_time': 0.05907177925109863}\n",
      "\n"
     ]
    },
    {
     "name": "stderr",
     "output_type": "stream",
     "text": [
      "100%|██████████| 1/1 [00:00<00:00,  2.75it/s]\n"
     ]
    },
    {
     "name": "stdout",
     "output_type": "stream",
     "text": [
      "\n",
      "{'accuracy': 1.0,\n",
      " 'gradient_norm': 0.0018909894861280918,\n",
      " 'learning_rate': 9.999999747378752e-06,\n",
      " 'loss': 2.579285683168564e-05,\n",
      " 'param_norm': 1133.1356201171875,\n",
      " 'train/epoch': 91.0,\n",
      " 'train/samples_seen': 5824.0,\n",
      " 'train/step': 91.0,\n",
      " 'train/step_time': 0.05918383598327637}\n",
      "\n"
     ]
    },
    {
     "name": "stderr",
     "output_type": "stream",
     "text": [
      "100%|██████████| 1/1 [00:00<00:00,  2.75it/s]\n"
     ]
    },
    {
     "name": "stdout",
     "output_type": "stream",
     "text": [
      "\n",
      "{'accuracy': 1.0,\n",
      " 'gradient_norm': 0.001796287135221064,\n",
      " 'learning_rate': 9.999999747378752e-06,\n",
      " 'loss': 2.4899025447666645e-05,\n",
      " 'param_norm': 1133.1356201171875,\n",
      " 'train/epoch': 92.0,\n",
      " 'train/samples_seen': 5888.0,\n",
      " 'train/step': 92.0,\n",
      " 'train/step_time': 0.06003999710083008}\n",
      "\n"
     ]
    },
    {
     "name": "stderr",
     "output_type": "stream",
     "text": [
      "100%|██████████| 1/1 [00:00<00:00,  2.74it/s]\n"
     ]
    },
    {
     "name": "stdout",
     "output_type": "stream",
     "text": [
      "\n",
      "{'accuracy': 1.0,\n",
      " 'gradient_norm': 0.0016975023318082094,\n",
      " 'learning_rate': 9.999999747378752e-06,\n",
      " 'loss': 2.3968095774762332e-05,\n",
      " 'param_norm': 1133.1356201171875,\n",
      " 'train/epoch': 93.0,\n",
      " 'train/samples_seen': 5952.0,\n",
      " 'train/step': 93.0,\n",
      " 'train/step_time': 0.060092926025390625}\n",
      "\n"
     ]
    },
    {
     "name": "stderr",
     "output_type": "stream",
     "text": [
      "100%|██████████| 1/1 [00:00<00:00,  2.74it/s]\n"
     ]
    },
    {
     "name": "stdout",
     "output_type": "stream",
     "text": [
      "\n",
      "{'accuracy': 1.0,\n",
      " 'gradient_norm': 0.0016115116886794567,\n",
      " 'learning_rate': 9.999999747378752e-06,\n",
      " 'loss': 2.3137570678954944e-05,\n",
      " 'param_norm': 1133.1356201171875,\n",
      " 'train/epoch': 94.0,\n",
      " 'train/samples_seen': 6016.0,\n",
      " 'train/step': 94.0,\n",
      " 'train/step_time': 0.06524825096130371}\n",
      "\n"
     ]
    },
    {
     "name": "stderr",
     "output_type": "stream",
     "text": [
      "100%|██████████| 1/1 [00:00<00:00,  2.74it/s]\n"
     ]
    },
    {
     "name": "stdout",
     "output_type": "stream",
     "text": [
      "\n",
      "{'accuracy': 1.0,\n",
      " 'gradient_norm': 0.001528282999061048,\n",
      " 'learning_rate': 9.999999747378752e-06,\n",
      " 'loss': 2.237014086858835e-05,\n",
      " 'param_norm': 1133.1356201171875,\n",
      " 'train/epoch': 95.0,\n",
      " 'train/samples_seen': 6080.0,\n",
      " 'train/step': 95.0,\n",
      " 'train/step_time': 0.06039714813232422}\n",
      "\n"
     ]
    },
    {
     "name": "stderr",
     "output_type": "stream",
     "text": [
      "100%|██████████| 1/1 [00:00<00:00,  2.74it/s]\n"
     ]
    },
    {
     "name": "stdout",
     "output_type": "stream",
     "text": [
      "\n",
      "{'accuracy': 1.0,\n",
      " 'gradient_norm': 0.0014478355878964067,\n",
      " 'learning_rate': 9.999999747378752e-06,\n",
      " 'loss': 2.1628924514516257e-05,\n",
      " 'param_norm': 1133.1356201171875,\n",
      " 'train/epoch': 96.0,\n",
      " 'train/samples_seen': 6144.0,\n",
      " 'train/step': 96.0,\n",
      " 'train/step_time': 0.059899330139160156}\n",
      "\n"
     ]
    },
    {
     "name": "stderr",
     "output_type": "stream",
     "text": [
      "100%|██████████| 1/1 [00:00<00:00,  2.75it/s]\n"
     ]
    },
    {
     "name": "stdout",
     "output_type": "stream",
     "text": [
      "\n",
      "{'accuracy': 1.0,\n",
      " 'gradient_norm': 0.0013809220399707556,\n",
      " 'learning_rate': 9.999999747378752e-06,\n",
      " 'loss': 2.096950265695341e-05,\n",
      " 'param_norm': 1133.1356201171875,\n",
      " 'train/epoch': 97.0,\n",
      " 'train/samples_seen': 6208.0,\n",
      " 'train/step': 97.0,\n",
      " 'train/step_time': 0.06013965606689453}\n",
      "\n"
     ]
    },
    {
     "name": "stderr",
     "output_type": "stream",
     "text": [
      "100%|██████████| 1/1 [00:00<00:00,  2.74it/s]\n"
     ]
    },
    {
     "name": "stdout",
     "output_type": "stream",
     "text": [
      "\n",
      "{'accuracy': 1.0,\n",
      " 'gradient_norm': 0.0013074430171400309,\n",
      " 'learning_rate': 9.999999747378752e-06,\n",
      " 'loss': 2.0287658117013052e-05,\n",
      " 'param_norm': 1133.1356201171875,\n",
      " 'train/epoch': 98.0,\n",
      " 'train/samples_seen': 6272.0,\n",
      " 'train/step': 98.0,\n",
      " 'train/step_time': 0.060712337493896484}\n",
      "\n"
     ]
    },
    {
     "name": "stderr",
     "output_type": "stream",
     "text": [
      "100%|██████████| 1/1 [00:00<00:00,  2.74it/s]\n"
     ]
    },
    {
     "name": "stdout",
     "output_type": "stream",
     "text": [
      "\n",
      "{'accuracy': 1.0,\n",
      " 'gradient_norm': 0.0012514239642769098,\n",
      " 'learning_rate': 9.999999747378752e-06,\n",
      " 'loss': 1.9717765098903328e-05,\n",
      " 'param_norm': 1133.1357421875,\n",
      " 'train/epoch': 99.0,\n",
      " 'train/samples_seen': 6336.0,\n",
      " 'train/step': 99.0,\n",
      " 'train/step_time': 0.06013369560241699}\n",
      "\n"
     ]
    },
    {
     "name": "stderr",
     "output_type": "stream",
     "text": [
      "100%|██████████| 1/1 [00:00<00:00,  2.75it/s]"
     ]
    },
    {
     "name": "stdout",
     "output_type": "stream",
     "text": [
      "\n",
      "{'accuracy': 1.0,\n",
      " 'gradient_norm': 0.0011923854472115636,\n",
      " 'learning_rate': 9.999999747378752e-06,\n",
      " 'loss': 1.9166473066434264e-05,\n",
      " 'param_norm': 1133.1357421875,\n",
      " 'train/epoch': 100.0,\n",
      " 'train/samples_seen': 6400.0,\n",
      " 'train/step': 100.0,\n",
      " 'train/step_time': 0.06075477600097656}\n",
      "\n"
     ]
    },
    {
     "name": "stderr",
     "output_type": "stream",
     "text": [
      "\n"
     ]
    }
   ],
   "source": [
    "import pprint\n",
    "\n",
    "with mesh:\n",
    "    train_state = sharded_init_fn(next_rng())\n",
    "    start_step = int(jax.device_get(train_state.step))\n",
    "    start_epoch = start_step // simulated_steps_per_epoch\n",
    "    start_step = start_step % simulated_steps_per_epoch\n",
    "    sharded_rng = next_rng()\n",
    "    # epoch_counter = trange(start_epoch, num_epochs, ncols=0, position=0)\n",
    "    step_counter = trange(start_step, simulated_steps_per_epoch, ncols=0, position=1)\n",
    "    overall_step = 0\n",
    "    # num_epochs = 100\n",
    "    for epoch in range(num_epochs):\n",
    "        for step, batch in tqdm(zip(step_counter, train_loader), total=simulated_steps_per_epoch):\n",
    "            overall_step += 1\n",
    "            x, y = batch\n",
    "            x = x.numpy()\n",
    "            y = y.numpy()\n",
    "            batch = {\n",
    "                'input_tokens': x,\n",
    "                'target_tokens': y,\n",
    "                'loss_masks': (y != -1).astype(jnp.int32),\n",
    "                'attention_mask': np.ones_like(x).astype(jnp.int32)\n",
    "            }\n",
    "            # just measuring the train step time.\n",
    "            start_time = time.time()\n",
    "            train_state, sharded_rng, metrics = sharded_train_step(\n",
    "                train_state, sharded_rng, batch\n",
    "            )\n",
    "            step_time = time.time() - start_time\n",
    "\n",
    "            # if log_fr > 0:\n",
    "            #         eval_metric_list = []\n",
    "            #         for batch in eval_dataset:\n",
    "            #             if isinstance(batch, (list, tuple)):\n",
    "            #                 batch = {\n",
    "            #                     'tokens': batch[0],\n",
    "            #                     'loss_masks': batch[1],\n",
    "            #                 }\n",
    "            #             sharded_rng, eval_metrics = sharded_eval_step(\n",
    "            #                 train_state, sharded_rng, batch\n",
    "            #             )\n",
    "            #             eval_metric_list.append(eval_metrics)\n",
    "                    # metrics.update(average_metrics(eval_metric_list))\n",
    "            if overall_step % 1 == 0:\n",
    "                log_metrics = {\n",
    "                    \"train/step\": overall_step,\n",
    "                    \"train/samples_seen\": overall_step * 64,\n",
    "                    \"train/step_time\": step_time,\n",
    "                    \"train/epoch\": overall_step / simulated_steps_per_epoch,\n",
    "                }\n",
    "                log_metrics = jax.device_get(log_metrics)\n",
    "                log_metrics.update(metrics)\n",
    "                log_metrics = {k: float(v) for k, v in log_metrics.items()}\n",
    "                tqdm.write(\"\\n\" + pprint.pformat(log_metrics) + \"\\n\")"
   ]
  },
  {
   "cell_type": "code",
   "execution_count": null,
   "metadata": {},
   "outputs": [],
   "source": []
  },
  {
   "cell_type": "code",
   "execution_count": null,
   "metadata": {},
   "outputs": [],
   "source": []
  },
  {
   "cell_type": "code",
   "execution_count": 12,
   "metadata": {},
   "outputs": [],
   "source": [
    "sys.argv = \"\"\"\n",
    "    --mesh_dim='-1,64,1' \\\n",
    "    --dtype='fp32' \\\n",
    "    --total_steps=250000 \\\n",
    "    --log_freq=50 \\\n",
    "    --save_model_freq=0 \\\n",
    "    --save_milestone_freq=2500 \\\n",
    "    --load_llama_config='7b' \\\n",
    "    --update_llama_config='' \\\n",
    "    --load_dataset_state='' \\\n",
    "    --load_checkpoint='' \\\n",
    "    --tokenizer.vocab_file='./llama2-tokenizer.model' \\\n",
    "    --optimizer.type='adamw' \\\n",
    "    --optimizer.adamw_optimizer.weight_decay=0.1 \\\n",
    "    --optimizer.adamw_optimizer.lr=3e-4 \\\n",
    "    --optimizer.adamw_optimizer.end_lr=3e-5 \\\n",
    "    --optimizer.adamw_optimizer.lr_warmup_steps=2000 \\\n",
    "    --optimizer.adamw_optimizer.lr_decay_steps=250000 \\\n",
    "    --train_dataset.type='json' \\\n",
    "    --train_dataset.text_processor.fields='text' \\\n",
    "    --train_dataset.json_dataset.path='/path/to/shuffled/redpajama/dataset' \\\n",
    "    --train_dataset.json_dataset.seq_length=2048 \\\n",
    "    --train_dataset.json_dataset.batch_size=2048 \\\n",
    "    --train_dataset.json_dataset.tokenizer_processes=16 \\\n",
    "    --checkpointer.save_optimizer_state=True \\\n",
    "    --logger.online=True \\\n",
    "    --logger.prefix='EasyLM' \\\n",
    "    --logger.project=\"open_llama_7b\" \\\n",
    "    --logger.output_dir=\"/path/to/checkpoint/dir\" \\\n",
    "    --logger.wandb_dir=\"$HOME/experiment_output/open_llama_7b\" \\\n",
    "\"\"\".split(\"=\")"
   ]
  },
  {
   "cell_type": "code",
   "execution_count": null,
   "metadata": {},
   "outputs": [],
   "source": []
  }
 ],
 "metadata": {
  "kernelspec": {
   "display_name": "Python 3",
   "language": "python",
   "name": "python3"
  },
  "language_info": {
   "codemirror_mode": {
    "name": "ipython",
    "version": 3
   },
   "file_extension": ".py",
   "mimetype": "text/x-python",
   "name": "python",
   "nbconvert_exporter": "python",
   "pygments_lexer": "ipython3",
   "version": "3.8.10"
  }
 },
 "nbformat": 4,
 "nbformat_minor": 2
}
