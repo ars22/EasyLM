{
 "cells": [
  {
   "cell_type": "code",
   "execution_count": null,
   "metadata": {},
   "outputs": [
    {
     "ename": "",
     "evalue": "",
     "output_type": "error",
     "traceback": [
      "\u001b[1;31mThe Kernel crashed while executing code in the current cell or a previous cell. \n",
      "\u001b[1;31mPlease review the code in the cell(s) to identify a possible cause of the failure. \n",
      "\u001b[1;31mClick <a href='https://aka.ms/vscodeJupyterKernelCrash'>here</a> for more info. \n",
      "\u001b[1;31mView Jupyter <a href='command:jupyter.viewOutput'>log</a> for further details."
     ]
    }
   ],
   "source": [
    "import sys\n",
    "sys.path.append('../../')\n",
    "import time\n",
    "from jax_smi import initialise_tracking\n",
    "initialise_tracking()\n",
    "from tqdm import tqdm"
   ]
  },
  {
   "cell_type": "code",
   "execution_count": 2,
   "metadata": {},
   "outputs": [
    {
     "name": "stderr",
     "output_type": "stream",
     "text": [
      "/home/asetlur/anaconda3/envs/easylm/lib/python3.10/site-packages/tqdm/auto.py:21: TqdmWarning: IProgress not found. Please update jupyter and ipywidgets. See https://ipywidgets.readthedocs.io/en/stable/user_install.html\n",
      "  from .autonotebook import tqdm as notebook_tqdm\n"
     ]
    },
    {
     "data": {
      "text/plain": [
       "TrainConfig(gpt2_model_type='gpt2', seed=555, out_dir='out', shuffle_buffer_size=128, eval_interval=500, eval_steps=16, eval_only=False, keep_checkpoints=3, batch_size=128, train_steps=30, weight_decay=0.0, grad_clip=1.0, gradient_accumulation_steps=1, betas=(0.9, 0.95), learning_rate=StaticLRConfig(init_value=0.0005), wandb=WandbConfig(entity='ars22', project='star_graph', name='gpt2', mode='online', notes=''), model=GPTConfig(block_size=1024, vocab_size=50257, num_layers=12, num_heads=12, num_embeds=768, dropout_rate=0.1, use_bias=True, dtype=None), remat=False)"
      ]
     },
     "execution_count": 2,
     "metadata": {},
     "output_type": "execute_result"
    }
   ],
   "source": [
    "from dataclasses import dataclass, field, asdict\n",
    "from typing import Tuple, Optional, Union\n",
    "from EasyLM.models.gpt2.gpt2_model import GPT, GPTConfig, get_pretrained_params\n",
    "from torch.utils.data import DataLoader\n",
    "\n",
    "@dataclass(frozen=True)\n",
    "class WandbConfig:\n",
    "    \"\"\"\n",
    "    wandb logging configuration\n",
    "    \"\"\"\n",
    "    entity: str = 'ars22'\n",
    "    \"\"\"username or team name where you're sending runs\"\"\"\n",
    "    project: str = 'star_graph'\n",
    "    \"\"\"project name\"\"\"\n",
    "    name: str = 'gpt2'\n",
    "    \"\"\"experiment name\"\"\"\n",
    "    mode: str = 'online'\n",
    "    \"\"\"'offline', 'online', or 'disabled'\"\"\"\n",
    "    notes: str = ''\n",
    "\n",
    "\n",
    "@dataclass(frozen=True)\n",
    "class CosineDecayScheduleConfig:\n",
    "    init_value: float = 0.0\n",
    "    peak_value: float = 2.5e-4\n",
    "    warmup_steps: int = 2000\n",
    "    decay_steps: int = 150000\n",
    "    end_value: float = 1e-5\n",
    "\n",
    "@dataclass(frozen=True)\n",
    "class StaticLRConfig:\n",
    "    init_value: float = 1e-4\n",
    "\n",
    "@dataclass(frozen=False)\n",
    "class TrainConfig:\n",
    "    gpt2_model_type: str = 'gpt2' # gpt2 model type\n",
    "    seed: int = 555\n",
    "    out_dir: str = 'out'                        # output directory for checkpoints (can be gcs path)\n",
    "    shuffle_buffer_size: int = 128\n",
    "    eval_interval: int = 500\n",
    "    eval_steps: int = 16        # evaluate for this number of steps (per-device)\n",
    "    eval_only: bool = False     # if True, script exits right after the first eval\n",
    "    keep_checkpoints: int = 3   # number of historical checkpoints to keep\n",
    "    batch_size: int = 128        # per-device batch size\n",
    "    train_steps: int = 30     # total number of training iterations\n",
    "    weight_decay: float = 0.  # not applied to bias and embedding parameters\n",
    "    grad_clip: float = 1.0      # gradient norm clipping magnitude\n",
    "    gradient_accumulation_steps: int = 1    # used to simulate larger batch sizes\n",
    "    betas: Tuple[float, float] = (0.9, 0.95) # adamw optimizer betas\n",
    "    # learning_rate: CosineDecayScheduleConfig = field(default_factory=CosineDecayScheduleConfig)\n",
    "    learning_rate: StaticLRConfig = field(default_factory=StaticLRConfig)\n",
    "    wandb: WandbConfig = field(default_factory=WandbConfig) # wandb logging\n",
    "    model: GPTConfig = field(default_factory=GPTConfig)     # gpt model config\n",
    "    remat: bool = False    # set to True to rematerialize gradients during backward pass\n",
    "\n",
    "\n",
    "def get_default_config() -> TrainConfig:\n",
    "    return TrainConfig()\n",
    "\n",
    "config = get_default_config()\n",
    "config"
   ]
  },
  {
   "cell_type": "code",
   "execution_count": 3,
   "metadata": {},
   "outputs": [
    {
     "name": "stderr",
     "output_type": "stream",
     "text": [
      "2024-05-14 04:10:44.073144: W tensorflow/compiler/xla/stream_executor/platform/default/dso_loader.cc:64] Could not load dynamic library 'libnvinfer.so.7'; dlerror: libnvinfer.so.7: cannot open shared object file: No such file or directory; LD_LIBRARY_PATH: :/usr/local/lib\n",
      "2024-05-14 04:10:44.073239: W tensorflow/compiler/xla/stream_executor/platform/default/dso_loader.cc:64] Could not load dynamic library 'libnvinfer_plugin.so.7'; dlerror: libnvinfer_plugin.so.7: cannot open shared object file: No such file or directory; LD_LIBRARY_PATH: :/usr/local/lib\n",
      "2024-05-14 04:10:44.073246: W tensorflow/compiler/tf2tensorrt/utils/py_utils.cc:38] TF-TRT Warning: Cannot dlopen some TensorRT libraries. If you would like to use Nvidia GPU with TensorRT, please make sure the missing libraries mentioned above are installed properly.\n"
     ]
    }
   ],
   "source": [
    "import jax\n",
    "import jax.numpy as jnp\n",
    "import flax\n",
    "from flax.core import FrozenDict, frozen_dict\n",
    "from flax.training import checkpoints\n",
    "from flax.training.train_state import TrainState\n",
    "from flax.jax_utils import replicate, unreplicate\n",
    "import optax\n",
    "from functools import partial"
   ]
  },
  {
   "cell_type": "code",
   "execution_count": 4,
   "metadata": {},
   "outputs": [],
   "source": [
    "from torch.utils.data import Dataset\n",
    "import torch\n",
    "\n",
    "def prefix_target_list(filename=None):\n",
    "    \"\"\"\n",
    "    Load graphs and split them into prefix and target and return the list\n",
    "    \"\"\"\n",
    "    data_list = []\n",
    "    with open(filename, 'r') as f:\n",
    "        lines = f.readlines()\n",
    "    for line in lines:\n",
    "        prefix = line.strip().split('=')[0] + '='\n",
    "        target = line.strip().split('=')[1]\n",
    "        target_tokens = target.split(',')[1]\n",
    "        import numpy as np\n",
    "        from copy import deepcopy\n",
    "        rev_target_tokens = deepcopy(np.array(target_tokens)[::-1])\n",
    "        if np.random.uniform() > 1.:\n",
    "            rev_target_tokens = rev_target_tokens[np.random.permutation(len(rev_target_tokens))]\n",
    "            rev_target_tokens = rev_target_tokens.tolist()\n",
    "        target = \",\".join(rev_target_tokens) + \":\" + \",\".join(target_tokens)\n",
    "        data_list.append((prefix, target))\n",
    "    return data_list\n",
    "\n",
    "\n",
    "class Graphs(Dataset):\n",
    "    def __init__(self, tokenizer, n_samples, data_path):\n",
    "        self.tokenizer = tokenizer\n",
    "        self.n_samples = n_samples\n",
    "        self.data_path = data_path\n",
    "        self.eval_mode = False\n",
    "        self.data_file = prefix_target_list(self.data_path)\n",
    "        self.tokenized, self.num_prefix_tokens, self.num_target_tokens = self.tokenize(self.data_file[:n_samples])\n",
    "\n",
    "    def __len__(self):\n",
    "        return len(self.tokenized)\n",
    "\n",
    "    def __getitem__(self, idx):\n",
    "        if self.eval_mode:\n",
    "            # In eval mode return the entire sequence\n",
    "            return self.tokenized[idx].to(self.device)\n",
    "\n",
    "        # Create inputs\n",
    "        x = self.tokenized[idx].clone()\n",
    "        y = torch.cat([-torch.ones((self.num_prefix_tokens - 1, )),\n",
    "                       x[self.num_prefix_tokens:].clone()])\n",
    "        return x[:-1], y.long()\n",
    "\n",
    "    def tokenize(self, data_list):\n",
    "        \"\"\"\n",
    "        Takes a list of prefix-target pairs, tokenizes and concatenates them\n",
    "        \"\"\"\n",
    "        out = []\n",
    "        prefix_len = len(self.tokenizer.encode(data_list[0][0]))\n",
    "        target_len = len(self.tokenizer.encode(data_list[0][1]))\n",
    "        same_len = True\n",
    "\n",
    "        for prefix, target in data_list:\n",
    "            prefix = torch.tensor(self.tokenizer.encode(prefix))\n",
    "            target = torch.tensor(self.tokenizer.encode(target))\n",
    "            if not (len(prefix) == prefix_len and len(target) == target_len):\n",
    "                same_len = False\n",
    "            seq = torch.concatenate([prefix, target], dim=-1).long()\n",
    "            out.append(seq)\n",
    "\n",
    "        # Check if all prefixes and all targets have the same length\n",
    "        if not same_len:\n",
    "            print('Not all prefixes or targets have the same length!!')\n",
    "        else:\n",
    "            print('Equal sequence lengths!')\n",
    "\n",
    "        return out, prefix_len, target_len\n",
    "\n",
    "    def eval(self):\n",
    "        # Switch to \"eval\" mode when generating sequences without teacher-forcing\n",
    "        self.eval_mode = True\n",
    "\n",
    "    def train(self):\n",
    "        # Switch back to \"train\" mode for teacher-forcing\n",
    "        self.eval_mode = False"
   ]
  },
  {
   "cell_type": "code",
   "execution_count": 5,
   "metadata": {},
   "outputs": [
    {
     "name": "stdout",
     "output_type": "stream",
     "text": [
      "Equal sequence lengths!\n",
      "Equal sequence lengths!\n",
      "(tensor([2857,   11, 3132,   91,   22,   11, 2231,   91, 3132,   11, 2548,   91,\n",
      "        2231,   11,   16,   91,   22,   11, 2857,   91,   16,   11, 1270,   14,\n",
      "          22,   11, 1270,   28,   22,   11, 2231,   11,   16,   11]), tensor([  -1,   -1,   -1,   -1,   -1,   -1,   -1,   -1,   -1,   -1,   -1,   -1,\n",
      "          -1,   -1,   -1,   -1,   -1,   -1,   -1,   -1,   -1,   -1,   -1,   -1,\n",
      "          -1,   -1,   -1,   22,   11, 2231,   11,   16,   11, 1270])) 47,31|7,45|31,38|45,1|7,47|1,30/7,30=7,45,1, 7,45,1,30\n"
     ]
    }
   ],
   "source": [
    "# LOAD TOKENIZER\n",
    "from transformers import AutoTokenizer # type: ignore\n",
    "tokenizer = AutoTokenizer.from_pretrained(config.gpt2_model_type)\n",
    "tokenizer.pad_token_id = tokenizer.eos_token_id\n",
    "\n",
    "# LOAD DATASET\n",
    "data_path = 'deg_2_path_4_nodes_20'\n",
    "train_path, test_path = data_path + '_train_200000.txt', data_path + '_test_20000.txt'\n",
    "train_data = Graphs(tokenizer=tokenizer, n_samples=30000, data_path=train_path)\n",
    "test_data = Graphs(tokenizer=tokenizer, n_samples=200, data_path=test_path)\n",
    "train_data.train()\n",
    "\n",
    "# sanity check\n",
    "print(train_data[0], tokenizer.decode(train_data[0][0]), tokenizer.decode(train_data[0][1][-train_data.num_target_tokens:]))\n",
    "\n",
    "# LOAD DATALOADER\n",
    "train_loader = DataLoader(train_data, batch_size=config.batch_size, shuffle=True, drop_last=True) \n",
    "test_loader = DataLoader(test_data, batch_size=config.batch_size, shuffle=False, drop_last=False)\n"
   ]
  },
  {
   "cell_type": "markdown",
   "metadata": {},
   "source": []
  },
  {
   "cell_type": "code",
   "execution_count": 6,
   "metadata": {},
   "outputs": [
    {
     "name": "stdout",
     "output_type": "stream",
     "text": [
      "tokenizer vocab size:  50257 28 7\n"
     ]
    }
   ],
   "source": [
    "print(\"tokenizer vocab size: \", tokenizer.vocab_size, train_data.num_prefix_tokens, train_data.num_target_tokens)"
   ]
  },
  {
   "cell_type": "code",
   "execution_count": 7,
   "metadata": {},
   "outputs": [],
   "source": [
    "def param_decay_mask(params: FrozenDict) -> FrozenDict:\n",
    "    \"\"\" pytree mask for non-bias parameters \"\"\"\n",
    "    flat_params = flax.traverse_util.flatten_dict(params)\n",
    "    flat_param_mask = {k: k[-1] not in ('bias', 'embedding', 'scale') for k in flat_params.keys()}\n",
    "    param_mask = flax.traverse_util.unflatten_dict(flat_param_mask)\n",
    "    return frozen_dict.freeze(param_mask)\n",
    "\n",
    "def init_train_state(key, config: TrainConfig, learning_rate) -> TrainState:\n",
    "\n",
    "    if config.remat:\n",
    "        model = flax.linen.remat(GPT,\n",
    "            static_argnums=(2,),\n",
    "            policy=jax.checkpoint_policies.checkpoint_dots_with_no_batch_dims)(config.model)\n",
    "    else:\n",
    "        config.model, params = get_pretrained_params(config.gpt2_model_type)\n",
    "        model = GPT(config.model)    \n",
    "        model.init(key)\n",
    "\n",
    "    optimizer = optax.chain(\n",
    "        # Apply weight decay only to non-bias parameters\n",
    "        optax.clip_by_global_norm(config.grad_clip),\n",
    "        optax.adamw(learning_rate, *config.betas, weight_decay=config.weight_decay, mask=param_decay_mask(params)),\n",
    "        optax.apply_every(config.gradient_accumulation_steps),\n",
    "    )\n",
    "\n",
    "    train_state = TrainState.create(\n",
    "        apply_fn=model.apply,\n",
    "        params=params,\n",
    "        tx=optimizer)\n",
    "\n",
    "    return train_state\n",
    "\n",
    "def count_params(params: FrozenDict) -> int:\n",
    "    p = jax.tree_util.tree_map(lambda a: a.size if isinstance(a, jnp.ndarray) else 0, params)\n",
    "    return jax.tree_util.tree_reduce(lambda a, b: a + b, p)"
   ]
  },
  {
   "cell_type": "code",
   "execution_count": null,
   "metadata": {},
   "outputs": [],
   "source": []
  },
  {
   "cell_type": "code",
   "execution_count": 8,
   "metadata": {},
   "outputs": [],
   "source": [
    "# =====  init parameters ============\n",
    "key = jax.random.PRNGKey(config.seed)\n",
    "key, key_params, key_dropout, key_generation = jax.random.split(key, 4)\n",
    "# make sure dropout keys are different for each device (local and global)\n",
    "key_dropout = jax.random.fold_in(key_dropout, jax.process_index())\n",
    "keys_dropout = jax.random.split(key_dropout, jax.local_device_count())\n",
    "key_gen = jax.random.split(key_generation, jax.local_device_count())"
   ]
  },
  {
   "cell_type": "code",
   "execution_count": 9,
   "metadata": {},
   "outputs": [
    {
     "name": "stdout",
     "output_type": "stream",
     "text": [
      "loading weights from pretrained gpt: gpt2\n"
     ]
    }
   ],
   "source": [
    "learning_rate = config.learning_rate.init_value\n",
    "train_state = init_train_state(key_params, config, learning_rate)\n",
    "num_params = count_params(train_state.params)"
   ]
  },
  {
   "cell_type": "code",
   "execution_count": 10,
   "metadata": {},
   "outputs": [
    {
     "name": "stdout",
     "output_type": "stream",
     "text": [
      "Total parameters: 124,439,808\n"
     ]
    }
   ],
   "source": [
    "print(f\"Total parameters: {num_params:,}\") # 774,030,080 for gpt2-large"
   ]
  },
  {
   "cell_type": "code",
   "execution_count": 11,
   "metadata": {},
   "outputs": [],
   "source": [
    "from flax.core import FrozenDict, freeze, unfreeze\n",
    "from transformers import FlaxGPT2LMHeadModel\n",
    "hf_model = FlaxGPT2LMHeadModel.from_pretrained(config.gpt2_model_type)\n",
    "hf_params = hf_model.init_weights(key_params, (2, config.model.block_size))"
   ]
  },
  {
   "cell_type": "code",
   "execution_count": 12,
   "metadata": {},
   "outputs": [],
   "source": [
    "# replicate model\n",
    "train_state = replicate(train_state)\n",
    "hf_params = replicate(hf_params)\n"
   ]
  },
  {
   "cell_type": "code",
   "execution_count": 13,
   "metadata": {},
   "outputs": [],
   "source": [
    "def cross_entropy_loss_and_accuracy(logits, tokens, valid=None):\n",
    "    if valid is None:\n",
    "        valid = jnp.ones(tokens.shape[:2])\n",
    "    valid = valid.astype(jnp.float32)\n",
    "    valid_text_length = jnp.maximum(jnp.sum(valid, axis=-1), 1e-10)\n",
    "    logits = logits.astype(jnp.float32)  # for numerical stability\n",
    "    token_log_prob = jnp.squeeze(\n",
    "        jnp.take_along_axis(\n",
    "            jax.nn.log_softmax(logits, axis=-1),\n",
    "            jnp.expand_dims(tokens, -1),\n",
    "            axis=-1,\n",
    "        ),\n",
    "        -1,\n",
    "    )\n",
    "    token_log_prob = jnp.where(valid > 0.0, token_log_prob, jnp.array(0.0))\n",
    "    loss = -(jnp.sum(token_log_prob) / jnp.sum(valid))\n",
    "    # old: loss = -jnp.mean(jnp.sum(token_log_prob, axis=-1) / valid_text_length)\n",
    "    # changed to match hf implementation\n",
    "    correct = jnp.where(\n",
    "        valid > 0.0,\n",
    "        jnp.argmax(logits, axis=-1) == tokens,\n",
    "        jnp.array(False)\n",
    "    )\n",
    "    accuracy = jnp.mean(jnp.sum(correct, axis=-1) / valid_text_length)\n",
    "    return loss, accuracy\n",
    "\n",
    "\n",
    "@partial(jax.pmap, axis_name='batch', in_axes=(0, 0, 0, 0))\n",
    "def train_step(state: TrainState, input_tokens: jnp.ndarray, target_tokens: jnp.ndarray, dropout_key):\n",
    "    dropout_key = jax.random.fold_in(dropout_key, state.step)\n",
    "    def loss_fn(params: FrozenDict) -> jnp.ndarray:\n",
    "        logits = state.apply_fn(params, input_tokens, False, rngs={'dropout': dropout_key})\n",
    "        \n",
    "        logits = logits.astype(jnp.float32)  # for numerical stability\n",
    "        token_log_prob = jnp.squeeze(\n",
    "            jnp.take_along_axis(\n",
    "                jax.nn.log_softmax(logits, axis=-1),\n",
    "                jnp.expand_dims(target_tokens, -1),\n",
    "                axis=-1,\n",
    "            ),\n",
    "            -1,\n",
    "        )\n",
    "        prob_hard_token = jnp.exp(token_log_prob[:, train_data.num_prefix_tokens+1]).mean()\n",
    "        \n",
    "        loss, acc = cross_entropy_loss_and_accuracy(\n",
    "            logits, target_tokens, (target_tokens > 0).astype(jnp.int32))\n",
    "        \n",
    "        return loss, (prob_hard_token, acc)\n",
    "    # per-device loss and grads\n",
    "    grad_fn = jax.value_and_grad(loss_fn, has_aux=True)\n",
    "    (loss, (prob_hard_token, acc)), grads = grad_fn(state.params)\n",
    "    # average gradients across devices\n",
    "    prob_hard_token = jax.lax.pmean(prob_hard_token, axis_name=\"batch\")\n",
    "    grads = jax.lax.pmean(grads, axis_name=\"batch\")\n",
    "    loss = jax.lax.pmean(loss, axis_name=\"batch\")\n",
    "    acc = jax.lax.pmean(acc, axis_name=\"batch\")\n",
    "    new_state = state.apply_gradients(grads=grads)\n",
    "    \n",
    "    return loss, acc, prob_hard_token, new_state\n",
    "\n",
    "\n",
    "from flax.traverse_util import flatten_dict, unflatten_dict\n",
    "\n",
    "def convert_jax_params_to_hf(hf_params, jax_params) -> FrozenDict:\n",
    "    hf_params = unfreeze(hf_params)\n",
    "    \n",
    "    for k in ['ln_f', 'wpe', 'wte']:\n",
    "        hf_params['transformer'][k] = jax_params[k]\n",
    "    for k in hf_params['transformer']['h'].keys():\n",
    "        hf_params['transformer']['h'][k] = jax_params[k] \n",
    "\n",
    "    hf_params = flatten_dict(hf_params, sep='.')\n",
    "    for k in hf_params.keys():\n",
    "        if k.endswith('attn.c_attn.kernel'):\n",
    "            hf_params[k] = hf_params[k].T\n",
    "        elif k.endswith('attn.c_proj.kernel'):\n",
    "            hf_params[k] = hf_params[k].T\n",
    "        elif len(k.split('.')) > 3 and k.split('.')[3] == 'mlp' and k.endswith('kernel'):\n",
    "            hf_params[k] = hf_params[k].T\n",
    "    hf_params = unflatten_dict({k: v for k, v in hf_params.items()}, sep='.')\n",
    "    return freeze(hf_params)\n",
    "\n",
    "\n",
    "@partial(jax.pmap, axis_name='batch', in_axes=(0, 0, 0, 0))\n",
    "def eval_step(hf_params, state, input_tokens: jnp.ndarray, target_tokens: jnp.ndarray):\n",
    "    hf_params = convert_jax_params_to_hf(hf_params, state.params['params'])\n",
    "    output = hf_model.generate(\n",
    "        input_tokens[:, :train_data.num_prefix_tokens],\n",
    "        params=hf_params,\n",
    "        max_new_tokens=train_data.num_target_tokens,\n",
    "        min_length=train_data.num_target_tokens+train_data.num_prefix_tokens, \n",
    "        do_sample=False, \n",
    "        attention_mask=jnp.ones_like(input_tokens[:, :train_data.num_prefix_tokens]))\n",
    "    acc = ((output[0][:, -train_data.num_target_tokens:] == target_tokens[:, -train_data.num_target_tokens:]).sum(1) == train_data.num_target_tokens).mean()\n",
    "    acc = jax.lax.pmean(acc, axis_name=\"batch\")\n",
    "    return acc\n",
    "\n",
    "max_new_tokens = train_data.num_target_tokens\n",
    "num_beams=2\n",
    "num_return_sequences=2\n",
    "temperature=1.0\n",
    "\n",
    "from flax.core import FrozenDict, freeze, unfreeze\n",
    "\n",
    "@partial(jax.pmap, axis_name='batch', in_axes=(0, 0, 0, 0))\n",
    "def generate_negative_data(hf_params, train_state, input_tokens, key):\n",
    "    hf_params = convert_jax_params_to_hf(hf_params, train_state.params['params'])\n",
    "    return hf_model.generate(\n",
    "        input_tokens[:, :train_data.num_prefix_tokens],\n",
    "        params=hf_params,\n",
    "        max_new_tokens=max_new_tokens, \n",
    "        min_length=train_data.num_target_tokens+train_data.num_prefix_tokens,\n",
    "        prng_key=key, \n",
    "        num_beams=num_beams, \n",
    "        num_return_sequences=num_return_sequences, \n",
    "        temperature=1.0,\n",
    "        attention_mask=jnp.ones_like(input_tokens[:, :train_data.num_prefix_tokens]))\n",
    "\n",
    "\n",
    "\n",
    "def evaluate(hf_params, state: TrainState, loader: DataLoader) -> jnp.ndarray:\n",
    "    accs = []\n",
    "    for batch in loader:\n",
    "        input_tokens, target_tokens = batch\n",
    "        input_tokens = jnp.array(input_tokens)\n",
    "        target_tokens = jnp.array(target_tokens)\n",
    "        input_tokens = input_tokens.reshape(jax.local_device_count(), -1, input_tokens.shape[-1])\n",
    "        target_tokens = target_tokens.reshape(jax.local_device_count(), -1, target_tokens.shape[-1])\n",
    "        acc = eval_step(hf_params, state, input_tokens, target_tokens)\n",
    "        accs.append(acc)\n",
    "    return jnp.mean(jnp.stack(accs))"
   ]
  },
  {
   "cell_type": "code",
   "execution_count": 14,
   "metadata": {},
   "outputs": [],
   "source": [
    "class AverageMeter:\n",
    "    def __init__(self):\n",
    "        self.num = 0\n",
    "        self.val = 0\n",
    "        self.list = []\n",
    "\n",
    "    def update(self, val, num):\n",
    "        self.val += val * num\n",
    "        self.num += num\n",
    "        self.list.append(val)\n",
    "\n",
    "    def reset_val(self):\n",
    "        self.num = 0\n",
    "        self.val = 0\n",
    "        \n",
    "    def get(self, percentage=False):\n",
    "        if self.num > 0:\n",
    "            val = self.val / self.num * 100 if percentage else self.val / self.num\n",
    "            return val\n",
    "        else:\n",
    "            return 0"
   ]
  },
  {
   "cell_type": "code",
   "execution_count": 15,
   "metadata": {},
   "outputs": [],
   "source": [
    "def get_log_likelihood(state, input_tokens, target_tokens, dropout_key):\n",
    "    logits = state.apply_fn(state.params, input_tokens, False, rngs={'dropout': dropout_key})\n",
    "    valid = (target_tokens > 0).astype(jnp.float32)\n",
    "    valid_text_length = jnp.maximum(jnp.sum(valid, axis=-1), 1e-10)\n",
    "    \n",
    "    logits = logits.astype(jnp.float32)  # for numerical stability\n",
    "    token_log_prob = jnp.squeeze(\n",
    "        jnp.take_along_axis(\n",
    "            jax.nn.log_softmax(logits, axis=-1),\n",
    "            jnp.expand_dims(target_tokens, -1),\n",
    "            axis=-1,\n",
    "        ),\n",
    "        -1,\n",
    "    )\n",
    "    token_log_prob = jnp.where(valid > 0.0, token_log_prob, jnp.array(0.0))\n",
    "    return token_log_prob \n",
    "\n",
    "def get_token_level_scores(original_dataset, generated_dataset):\n",
    "    token_scores_arr = []\n",
    "    for i in range(original_dataset.shape[0]):\n",
    "        original_seq = original_dataset[i]\n",
    "        generated_seq = generated_dataset[i]\n",
    "        token_scores = (original_seq == generated_seq).float()\n",
    "        incorrect = torch.where(token_scores==0)\n",
    "        if len(incorrect[0]) > 0:\n",
    "            token_scores[incorrect[0][0].item()] = -1. \n",
    "            token_scores[incorrect[0][0].item()+1:] = 0. \n",
    "        token_scores[:train_data.num_prefix_tokens] = 0.\n",
    "        token_scores_arr.append(token_scores)\n",
    "    return torch.stack(token_scores_arr, 0)"
   ]
  },
  {
   "cell_type": "code",
   "execution_count": 16,
   "metadata": {},
   "outputs": [],
   "source": [
    "def dpo_loss(pos_logits, pos_tokens, neg_logits, neg_tokens):\n",
    "    valid = (pos_tokens > 0).astype(jnp.float32)\n",
    "    valid_text_length = jnp.maximum(jnp.sum(valid, axis=-1), 1e-10)\n",
    "    pos_logits = pos_logits.astype(jnp.float32)  # for numerical stability\n",
    "    pos_token_log_prob = jnp.squeeze(\n",
    "        jnp.take_along_axis(\n",
    "            jax.nn.log_softmax(pos_logits, axis=-1),\n",
    "            jnp.expand_dims(pos_tokens, -1),\n",
    "            axis=-1,\n",
    "        ),\n",
    "        -1,\n",
    "    )\n",
    "    pos_token_log_prob = jnp.where(valid > 0.0, pos_token_log_prob, jnp.array(0.0))\n",
    "    pos_token_log_prob = pos_token_log_prob.sum(axis=-1) \n",
    "    # / valid_text_length\n",
    "\n",
    "    correct = jnp.where(\n",
    "        (valid > 0.0),\n",
    "        jnp.argmax(pos_logits, axis=-1) == pos_tokens,\n",
    "        jnp.array(False)\n",
    "    )\n",
    "    accuracy = jnp.mean(jnp.sum(correct, axis=-1) / valid_text_length)\n",
    "    \n",
    "\n",
    "    valid = (neg_tokens > 0).astype(jnp.float32)\n",
    "    valid_text_length = jnp.maximum(jnp.sum(valid, axis=-1), 1e-10)\n",
    "    neg_logits = neg_logits.astype(jnp.float32)  # for numerical stability\n",
    "    neg_token_log_prob = jnp.squeeze(\n",
    "        jnp.take_along_axis(\n",
    "            jax.nn.log_softmax(neg_logits, axis=-1),\n",
    "            jnp.expand_dims(neg_tokens, -1),\n",
    "            axis=-1,\n",
    "        ),\n",
    "        -1,\n",
    "    )\n",
    "    neg_token_log_prob = jnp.where(valid > 0.0, neg_token_log_prob, jnp.array(0.0))\n",
    "    neg_token_log_prob = neg_token_log_prob.sum(axis=-1)\n",
    "    # / valid_text_length\n",
    "\n",
    "    loss =  (-jax.nn.log_sigmoid(0.01 * (pos_token_log_prob - neg_token_log_prob))).mean()\n",
    "    # loss =  (pos_token_log_prob - neg_token_log_prob).mean()\n",
    "    return loss, accuracy\n",
    "\n",
    "\n",
    "\n",
    "\n",
    "@partial(jax.pmap, axis_name='batch', in_axes=(0, 0, 0, 0, 0, 0))\n",
    "def train_step_onpolicy(state: TrainState, pos_input_tokens, pos_target_tokens, neg_input_tokens, neg_target_tokens, dropout_key) -> Tuple[jnp.ndarray, TrainState]:\n",
    "    dropout_key = jax.random.fold_in(dropout_key, state.step)\n",
    "    def loss_fn(params: FrozenDict) -> jnp.ndarray:\n",
    "        pos_logits = state.apply_fn(params, pos_input_tokens, False, rngs={'dropout': dropout_key})\n",
    "        neg_logits = state.apply_fn(params, neg_input_tokens, False, rngs={'dropout': dropout_key})\n",
    "        loss, acc = dpo_loss(\n",
    "            pos_logits, pos_target_tokens, neg_logits, neg_target_tokens)\n",
    "        token_log_prob = jnp.squeeze(\n",
    "            jnp.take_along_axis(\n",
    "                jax.nn.log_softmax(pos_logits, axis=-1),\n",
    "                jnp.expand_dims(pos_target_tokens, -1),\n",
    "                axis=-1,\n",
    "            ),\n",
    "            -1,\n",
    "        )\n",
    "        prob_hard_token = jnp.exp(token_log_prob[:, train_data.num_prefix_tokens+1]).mean()\n",
    "        return loss, (prob_hard_token, acc)    \n",
    "        \n",
    "    # per-device loss and grads\n",
    "    grad_fn = jax.value_and_grad(loss_fn, has_aux=True)\n",
    "    (loss, (prob_hard_token, acc)), grads = grad_fn(state.params)\n",
    "    # average gradients across devices\n",
    "    grads = jax.lax.pmean(grads, axis_name=\"batch\")\n",
    "    loss = jax.lax.pmean(loss, axis_name=\"batch\")\n",
    "    acc = jax.lax.pmean(acc, axis_name=\"batch\")\n",
    "    prob_hard_token = jax.lax.pmean(prob_hard_token, axis_name=\"batch\")\n",
    "    new_state = state.apply_gradients(grads=grads)\n",
    "    return loss, acc, prob_hard_token, new_state\n"
   ]
  },
  {
   "cell_type": "code",
   "execution_count": 17,
   "metadata": {},
   "outputs": [],
   "source": [
    "import numpy as np\n",
    "train_loss, train_acc, phard = AverageMeter(), AverageMeter(), AverageMeter() \n",
    "policy_train_acc, policy_test_acc = AverageMeter(), AverageMeter()\n",
    "point = 0"
   ]
  },
  {
   "cell_type": "code",
   "execution_count": 18,
   "metadata": {},
   "outputs": [
    {
     "name": "stderr",
     "output_type": "stream",
     "text": [
      "Setting `pad_token_id` to `eos_token_id`:50256 for open-end generation.\n"
     ]
    },
    {
     "name": "stdout",
     "output_type": "stream",
     "text": [
      "Epoch 1\n"
     ]
    },
    {
     "name": "stderr",
     "output_type": "stream",
     "text": [
      "training on-policy:   0%|          | 0/117 [00:00<?, ?it/s]Setting `pad_token_id` to `eos_token_id`:50256 for open-end generation.\n",
      "Setting `pad_token_id` to `eos_token_id`:50256 for open-end generation.\n",
      "train loss: 0.6939859390258789 phard: 0.0064900158904492855 forcing train acc: 0.6893208026885986 policy train acc: 0.0 policy test acc: 0.4939236044883728: 100%|██████████| 117/117 [03:13<00:00,  1.65s/it]\n"
     ]
    },
    {
     "name": "stdout",
     "output_type": "stream",
     "text": [
      "Epoch 2\n"
     ]
    },
    {
     "name": "stderr",
     "output_type": "stream",
     "text": [
      "train loss: 0.6932637691497803 phard: 0.03304413706064224 forcing train acc: 0.7991775274276733 policy train acc: 0.48888224363327026 policy test acc: 0.5134548544883728: 100%|██████████| 117/117 [00:22<00:00,  5.12it/s] \n"
     ]
    },
    {
     "name": "stdout",
     "output_type": "stream",
     "text": [
      "Epoch 3\n"
     ]
    },
    {
     "name": "stderr",
     "output_type": "stream",
     "text": [
      "train loss: 0.693332850933075 phard: 0.036648258566856384 forcing train acc: 0.7990692853927612 policy train acc: 0.5125200748443604 policy test acc: 0.5572916269302368: 100%|██████████| 117/117 [00:23<00:00,  5.03it/s]\n"
     ]
    },
    {
     "name": "stdout",
     "output_type": "stream",
     "text": [
      "Epoch 4\n"
     ]
    },
    {
     "name": "stderr",
     "output_type": "stream",
     "text": [
      "train loss: 0.6932291984558105 phard: 0.028447896242141724 forcing train acc: 0.8292651176452637 policy train acc: 0.5240718722343445 policy test acc: 0.5060763955116272: 100%|██████████| 117/117 [00:22<00:00,  5.14it/s]\n"
     ]
    },
    {
     "name": "stdout",
     "output_type": "stream",
     "text": [
      "Epoch 5\n"
     ]
    },
    {
     "name": "stderr",
     "output_type": "stream",
     "text": [
      "train loss: 0.6931390762329102 phard: 0.05641920864582062 forcing train acc: 0.8429073691368103 policy train acc: 0.5289797186851501 policy test acc: 0.50390625: 100%|██████████| 117/117 [00:22<00:00,  5.14it/s]        \n"
     ]
    },
    {
     "name": "stdout",
     "output_type": "stream",
     "text": [
      "Epoch 6\n"
     ]
    },
    {
     "name": "stderr",
     "output_type": "stream",
     "text": [
      "train loss: 0.6931556463241577 phard: 0.1499839425086975 forcing train acc: 0.8477292060852051 policy train acc: 0.5468416213989258 policy test acc: 0.4717881977558136: 100%|██████████| 117/117 [00:22<00:00,  5.15it/s] \n"
     ]
    },
    {
     "name": "stdout",
     "output_type": "stream",
     "text": [
      "Epoch 7\n"
     ]
    },
    {
     "name": "stderr",
     "output_type": "stream",
     "text": [
      "train loss: 0.6925778388977051 phard: 0.32323339581489563 forcing train acc: 0.8614211082458496 policy train acc: 0.5553218722343445 policy test acc: 0.5091146230697632: 100%|██████████| 117/117 [00:22<00:00,  5.11it/s]\n"
     ]
    },
    {
     "name": "stdout",
     "output_type": "stream",
     "text": [
      "Epoch 8\n"
     ]
    },
    {
     "name": "stderr",
     "output_type": "stream",
     "text": [
      "train loss: 0.692255437374115 phard: 0.46409255266189575 forcing train acc: 0.8679718375205994 policy train acc: 0.5715478658676147 policy test acc: 0.5130208730697632: 100%|██████████| 117/117 [00:22<00:00,  5.10it/s] \n"
     ]
    },
    {
     "name": "stdout",
     "output_type": "stream",
     "text": [
      "Epoch 9\n"
     ]
    },
    {
     "name": "stderr",
     "output_type": "stream",
     "text": [
      "train loss: 0.6913964152336121 phard: 0.5332906246185303 forcing train acc: 0.8782808184623718 policy train acc: 0.5945847034454346 policy test acc: 0.5095486044883728: 100%|██████████| 117/117 [00:22<00:00,  5.14it/s]\n"
     ]
    },
    {
     "name": "stdout",
     "output_type": "stream",
     "text": [
      "Epoch 10\n"
     ]
    },
    {
     "name": "stderr",
     "output_type": "stream",
     "text": [
      "train loss: 0.6896997690200806 phard: 0.5554850101470947 forcing train acc: 0.8845722079277039 policy train acc: 0.6073384284973145 policy test acc: 0.4900173544883728: 100%|██████████| 117/117 [00:22<00:00,  5.14it/s]\n"
     ]
    },
    {
     "name": "stdout",
     "output_type": "stream",
     "text": [
      "Epoch 11\n"
     ]
    },
    {
     "name": "stderr",
     "output_type": "stream",
     "text": [
      "train loss: 0.6875797510147095 phard: 0.582211971282959 forcing train acc: 0.8935540914535522 policy train acc: 0.6341813802719116 policy test acc: 0.5269097089767456: 100%|██████████| 117/117 [00:23<00:00,  5.08it/s] \n"
     ]
    },
    {
     "name": "stdout",
     "output_type": "stream",
     "text": [
      "Epoch 12\n"
     ]
    },
    {
     "name": "stderr",
     "output_type": "stream",
     "text": [
      "train loss: 0.6841973066329956 phard: 0.6050605177879333 forcing train acc: 0.9001760482788086 policy train acc: 0.658052921295166 policy test acc: 0.5611978769302368: 100%|██████████| 117/117 [00:22<00:00,  5.15it/s]\n"
     ]
    },
    {
     "name": "stdout",
     "output_type": "stream",
     "text": [
      "Epoch 13\n"
     ]
    },
    {
     "name": "stderr",
     "output_type": "stream",
     "text": [
      "train loss: 0.6797356605529785 phard: 0.6320791244506836 forcing train acc: 0.9074613451957703 policy train acc: 0.698684573173523 policy test acc: 0.4665798544883728: 100%|██████████| 117/117 [00:22<00:00,  5.17it/s]\n"
     ]
    },
    {
     "name": "stdout",
     "output_type": "stream",
     "text": [
      "Epoch 14\n"
     ]
    },
    {
     "name": "stderr",
     "output_type": "stream",
     "text": [
      "train loss: 0.6735255718231201 phard: 0.653765082359314 forcing train acc: 0.9137029647827148 policy train acc: 0.721788227558136 policy test acc: 0.5164930820465088: 100%|██████████| 117/117 [00:22<00:00,  5.15it/s] \n"
     ]
    },
    {
     "name": "stdout",
     "output_type": "stream",
     "text": [
      "Epoch 15\n"
     ]
    },
    {
     "name": "stderr",
     "output_type": "stream",
     "text": [
      "train loss: 0.6635947227478027 phard: 0.6754665374755859 forcing train acc: 0.9205791354179382 policy train acc: 0.753939688205719 policy test acc: 0.5047743320465088: 100%|██████████| 117/117 [00:22<00:00,  5.10it/s]\n"
     ]
    },
    {
     "name": "stdout",
     "output_type": "stream",
     "text": [
      "Epoch 16\n"
     ]
    },
    {
     "name": "stderr",
     "output_type": "stream",
     "text": [
      "train loss: 0.6489874124526978 phard: 0.7180593013763428 forcing train acc: 0.9301828145980835 policy train acc: 0.7844551801681519 policy test acc: 0.5230034589767456: 100%|██████████| 117/117 [00:22<00:00,  5.16it/s]\n"
     ]
    },
    {
     "name": "stdout",
     "output_type": "stream",
     "text": [
      "Epoch 17\n"
     ]
    },
    {
     "name": "stderr",
     "output_type": "stream",
     "text": [
      "train loss: 0.63194739818573 phard: 0.7425806522369385 forcing train acc: 0.9379277229309082 policy train acc: 0.8339677453041077 policy test acc: 0.5052083730697632: 100%|██████████| 117/117 [00:22<00:00,  5.17it/s]  \n"
     ]
    },
    {
     "name": "stdout",
     "output_type": "stream",
     "text": [
      "Epoch 18\n"
     ]
    },
    {
     "name": "stderr",
     "output_type": "stream",
     "text": [
      "train loss: 0.6141625642776489 phard: 0.7716781497001648 forcing train acc: 0.9475709795951843 policy train acc: 0.8582065105438232 policy test acc: 0.515625: 100%|██████████| 117/117 [00:22<00:00,  5.15it/s]          \n"
     ]
    },
    {
     "name": "stdout",
     "output_type": "stream",
     "text": [
      "Epoch 19\n"
     ]
    },
    {
     "name": "stderr",
     "output_type": "stream",
     "text": [
      "train loss: 0.6104575395584106 phard: 0.7888621091842651 forcing train acc: 0.9556365013122559 policy train acc: 0.8982038497924805 policy test acc: 0.4856770932674408: 100%|██████████| 117/117 [00:22<00:00,  5.12it/s]\n"
     ]
    },
    {
     "name": "stdout",
     "output_type": "stream",
     "text": [
      "Epoch 20\n"
     ]
    },
    {
     "name": "stderr",
     "output_type": "stream",
     "text": [
      "train loss: 0.6251618266105652 phard: 0.7944270372390747 forcing train acc: 0.9627699851989746 policy train acc: 0.9165999293327332 policy test acc: 0.4852430820465088: 100%|██████████| 117/117 [00:22<00:00,  5.16it/s]\n"
     ]
    },
    {
     "name": "stdout",
     "output_type": "stream",
     "text": [
      "Epoch 21\n"
     ]
    },
    {
     "name": "stderr",
     "output_type": "stream",
     "text": [
      "train loss: 0.6293387413024902 phard: 0.7933766841888428 forcing train acc: 0.9673378467559814 policy train acc: 0.9368323087692261 policy test acc: 0.5069444179534912: 100%|██████████| 117/117 [00:22<00:00,  5.15it/s]\n"
     ]
    },
    {
     "name": "stdout",
     "output_type": "stream",
     "text": [
      "Epoch 22\n"
     ]
    },
    {
     "name": "stderr",
     "output_type": "stream",
     "text": [
      "train loss: 0.6362889409065247 phard: 0.7974197268486023 forcing train acc: 0.971127986907959 policy train acc: 0.9558627605438232 policy test acc: 0.5455728769302368: 100%|██████████| 117/117 [00:22<00:00,  5.16it/s] \n"
     ]
    },
    {
     "name": "stdout",
     "output_type": "stream",
     "text": [
      "Epoch 23\n"
     ]
    },
    {
     "name": "stderr",
     "output_type": "stream",
     "text": [
      "train loss: 0.6384758949279785 phard: 0.8041901588439941 forcing train acc: 0.9760260581970215 policy train acc: 0.9640759229660034 policy test acc: 0.5494791865348816: 100%|██████████| 117/117 [00:22<00:00,  5.11it/s]\n"
     ]
    },
    {
     "name": "stdout",
     "output_type": "stream",
     "text": [
      "Epoch 24\n"
     ]
    },
    {
     "name": "stderr",
     "output_type": "stream",
     "text": [
      "train loss: 0.6420443058013916 phard: 0.8040651679039001 forcing train acc: 0.978640079498291 policy train acc: 0.9697182774543762 policy test acc: 0.5455729365348816: 100%|██████████| 117/117 [00:22<00:00,  5.15it/s] \n"
     ]
    },
    {
     "name": "stdout",
     "output_type": "stream",
     "text": [
      "Epoch 25\n"
     ]
    },
    {
     "name": "stderr",
     "output_type": "stream",
     "text": [
      "train loss: 0.64043128490448 phard: 0.8156983852386475 forcing train acc: 0.980755090713501 policy train acc: 0.9755609631538391 policy test acc: 0.5086805820465088: 100%|██████████| 117/117 [00:22<00:00,  5.13it/s]   \n"
     ]
    },
    {
     "name": "stdout",
     "output_type": "stream",
     "text": [
      "Epoch 26\n"
     ]
    },
    {
     "name": "stderr",
     "output_type": "stream",
     "text": [
      "train loss: 0.6399105787277222 phard: 0.8078770637512207 forcing train acc: 0.982444167137146 policy train acc: 0.9777978658676147 policy test acc: 0.5121527910232544: 100%|██████████| 117/117 [00:22<00:00,  5.15it/s] \n"
     ]
    },
    {
     "name": "stdout",
     "output_type": "stream",
     "text": [
      "Epoch 27\n"
     ]
    },
    {
     "name": "stderr",
     "output_type": "stream",
     "text": [
      "train loss: 0.6385117769241333 phard: 0.8097565174102783 forcing train acc: 0.9842712879180908 policy train acc: 0.9802684783935547 policy test acc: 0.5425347089767456: 100%|██████████| 117/117 [00:22<00:00,  5.14it/s]\n"
     ]
    },
    {
     "name": "stdout",
     "output_type": "stream",
     "text": [
      "Epoch 28\n"
     ]
    },
    {
     "name": "stderr",
     "output_type": "stream",
     "text": [
      "train loss: 0.6460260152816772 phard: 0.8071675300598145 forcing train acc: 0.9854061007499695 policy train acc: 0.9843416810035706 policy test acc: 0.49609375: 100%|██████████| 117/117 [00:22<00:00,  5.16it/s]        \n"
     ]
    },
    {
     "name": "stdout",
     "output_type": "stream",
     "text": [
      "Epoch 29\n"
     ]
    },
    {
     "name": "stderr",
     "output_type": "stream",
     "text": [
      "train loss: 0.6500288844108582 phard: 0.7986708879470825 forcing train acc: 0.9859980940818787 policy train acc: 0.9859775900840759 policy test acc: 0.5021701455116272: 100%|██████████| 117/117 [00:22<00:00,  5.17it/s]\n"
     ]
    },
    {
     "name": "stdout",
     "output_type": "stream",
     "text": [
      "Epoch 30\n"
     ]
    },
    {
     "name": "stderr",
     "output_type": "stream",
     "text": [
      "train loss: 0.6504026055335999 phard: 0.8116080164909363 forcing train acc: 0.9868022203445435 policy train acc: 0.9868790507316589 policy test acc: 0.515625: 100%|██████████| 117/117 [00:22<00:00,  5.17it/s]          \n"
     ]
    },
    {
     "name": "stdout",
     "output_type": "stream",
     "text": [
      "Epoch 31\n"
     ]
    },
    {
     "name": "stderr",
     "output_type": "stream",
     "text": [
      "train loss: 0.6494237184524536 phard: 0.809444785118103 forcing train acc: 0.9866883754730225 policy train acc: 0.9881811141967773 policy test acc: 0.464409738779068: 100%|██████████| 117/117 [00:22<00:00,  5.12it/s]  \n"
     ]
    },
    {
     "name": "stdout",
     "output_type": "stream",
     "text": [
      "Epoch 32\n"
     ]
    },
    {
     "name": "stderr",
     "output_type": "stream",
     "text": [
      "train loss: 0.647352397441864 phard: 0.8204209804534912 forcing train acc: 0.987511396408081 policy train acc: 0.9887487292289734 policy test acc: 0.4852430522441864: 100%|██████████| 117/117 [00:22<00:00,  5.18it/s]  \n"
     ]
    },
    {
     "name": "stdout",
     "output_type": "stream",
     "text": [
      "Epoch 33\n"
     ]
    },
    {
     "name": "stderr",
     "output_type": "stream",
     "text": [
      "train loss: 0.6504188776016235 phard: 0.8164563179016113 forcing train acc: 0.9878178834915161 policy train acc: 0.9889490604400635 policy test acc: 0.4913194477558136: 100%|██████████| 117/117 [00:22<00:00,  5.17it/s]\n"
     ]
    },
    {
     "name": "stdout",
     "output_type": "stream",
     "text": [
      "Epoch 34\n"
     ]
    },
    {
     "name": "stderr",
     "output_type": "stream",
     "text": [
      "train loss: 0.6494545936584473 phard: 0.81486576795578 forcing train acc: 0.9882543087005615 policy train acc: 0.9887487292289734 policy test acc: 0.5416666865348816: 100%|██████████| 117/117 [00:22<00:00,  5.18it/s]  \n"
     ]
    },
    {
     "name": "stdout",
     "output_type": "stream",
     "text": [
      "Epoch 35\n"
     ]
    },
    {
     "name": "stderr",
     "output_type": "stream",
     "text": [
      "train loss: 0.6444227695465088 phard: 0.8182520270347595 forcing train acc: 0.9903124570846558 policy train acc: 0.9898504614830017 policy test acc: 0.4635416865348816: 100%|██████████| 117/117 [00:22<00:00,  5.18it/s]\n"
     ]
    },
    {
     "name": "stdout",
     "output_type": "stream",
     "text": [
      "Epoch 36\n"
     ]
    },
    {
     "name": "stderr",
     "output_type": "stream",
     "text": [
      "train loss: 0.6510202288627625 phard: 0.8152536749839783 forcing train acc: 0.9893617630004883 policy train acc: 0.9917535185813904 policy test acc: 0.4891493320465088: 100%|██████████| 117/117 [00:22<00:00,  5.16it/s]\n"
     ]
    },
    {
     "name": "stdout",
     "output_type": "stream",
     "text": [
      "Epoch 37\n"
     ]
    },
    {
     "name": "stderr",
     "output_type": "stream",
     "text": [
      "train loss: 0.6544226408004761 phard: 0.827040433883667 forcing train acc: 0.9900906085968018 policy train acc: 0.9902511239051819 policy test acc: 0.4835069477558136: 100%|██████████| 117/117 [00:22<00:00,  5.18it/s] \n"
     ]
    },
    {
     "name": "stdout",
     "output_type": "stream",
     "text": [
      "Epoch 38\n"
     ]
    },
    {
     "name": "stderr",
     "output_type": "stream",
     "text": [
      "train loss: 0.651282012462616 phard: 0.8340356349945068 forcing train acc: 0.989688515663147 policy train acc: 0.9927217364311218 policy test acc: 0.4626736044883728: 100%|██████████| 117/117 [00:22<00:00,  5.18it/s]  \n"
     ]
    },
    {
     "name": "stdout",
     "output_type": "stream",
     "text": [
      "Epoch 39\n"
     ]
    },
    {
     "name": "stderr",
     "output_type": "stream",
     "text": [
      "train loss: 0.6515796780586243 phard: 0.8364819884300232 forcing train acc: 0.9911412000656128 policy train acc: 0.9920206069946289 policy test acc: 0.4639756977558136: 100%|██████████| 117/117 [00:22<00:00,  5.15it/s]\n"
     ]
    },
    {
     "name": "stdout",
     "output_type": "stream",
     "text": [
      "Epoch 40\n"
     ]
    },
    {
     "name": "stderr",
     "output_type": "stream",
     "text": [
      "train loss: 0.6446786522865295 phard: 0.8371303081512451 forcing train acc: 0.9909251928329468 policy train acc: 0.993990421295166 policy test acc: 0.5464409589767456: 100%|██████████| 117/117 [00:22<00:00,  5.10it/s]\n"
     ]
    }
   ],
   "source": [
    "import numpy as np\n",
    "import random\n",
    "np.random.seed(0)\n",
    "random.seed(0)\n",
    "\n",
    "\n",
    "for ep in range(40):\n",
    "\n",
    "    print(f\"Epoch {ep+1}\")\n",
    "\n",
    "    loader = DataLoader(train_data, batch_size=256, shuffle=True, drop_last=True) \n",
    "    \n",
    "    policy_train_acc.update(evaluate(hf_params, train_state, train_loader), 1)\n",
    "    train_loss.reset_val()\n",
    "    train_acc.reset_val()\n",
    "    phard.reset_val()\n",
    "        \n",
    "\n",
    "    step = 0\n",
    "    pbar = tqdm(loader, total=len(loader), desc='training on-policy')\n",
    "\n",
    "    for input_tokens, target_tokens in pbar: \n",
    "\n",
    "        if ep < point:\n",
    "            input_tokens = jnp.array(input_tokens)\n",
    "            target_tokens = jnp.array(target_tokens)\n",
    "            input_tokens = input_tokens.reshape(jax.device_count(), -1, input_tokens.shape[-1])\n",
    "            target_tokens = target_tokens.reshape(jax.device_count(), -1, target_tokens.shape[-1])\n",
    "            loss, acc, prob_hard_token, train_state = train_step(train_state, input_tokens, target_tokens, keys_dropout)\n",
    "            if step % 5 == 0:\n",
    "                train_loss.update(loss.mean(), input_tokens.shape[1] * jax.device_count())  \n",
    "                train_acc.update(acc.mean(), input_tokens.shape[1] * jax.device_count())   \n",
    "                phard.update(prob_hard_token.mean(), input_tokens.shape[1] * jax.device_count()) \n",
    "                policy_test_acc.update(evaluate(hf_params, train_state, test_loader), 1)\n",
    "        \n",
    "\n",
    "        else:\n",
    "            input_tokens = jnp.array(input_tokens)\n",
    "            target_tokens = jnp.array(target_tokens)\n",
    "            original = jnp.concatenate([input_tokens[:, :train_data.num_prefix_tokens], target_tokens[:, -train_data.num_target_tokens:]], axis=1)\n",
    "            input_tokens = input_tokens.reshape(jax.device_count(), -1, input_tokens.shape[-1])\n",
    "            generations = generate_negative_data(hf_params, train_state, input_tokens, key_gen)\n",
    "            generations = generations[0].reshape(-1, generations[0].shape[-1]) \n",
    "            repeated_original = jnp.repeat(original[None, :, :], num_return_sequences, 0).transpose(1, 0, 2)\n",
    "            original = repeated_original.reshape(-1, repeated_original.shape[-1])\n",
    "            original = torch.tensor(np.array(original))\n",
    "            generations = torch.tensor(np.array(generations))\n",
    "            token_lvl_scores = get_token_level_scores(original , generations)\n",
    "            pos_input_tokens = original.clone()\n",
    "            pos_input_tokens = pos_input_tokens[:, :-1]\n",
    "            pos_target_tokens = original.clone()\n",
    "            pos_target_tokens[token_lvl_scores == 0] = -1   \n",
    "            pos_target_tokens = pos_target_tokens[:, 1:]\n",
    "            neg_input_tokens = generations.clone()\n",
    "            neg_input_tokens = neg_input_tokens[:, :-1]\n",
    "            neg_target_tokens = generations.clone()\n",
    "            neg_target_tokens[token_lvl_scores == 0] = -1\n",
    "            neg_target_tokens = neg_target_tokens[:, 1:]\n",
    "            pos_input_tokens = jnp.array(pos_input_tokens)\n",
    "            neg_input_tokens = jnp.array(neg_input_tokens)\n",
    "            pos_target_tokens = jnp.array(pos_target_tokens)\n",
    "            neg_target_tokens = jnp.array(neg_target_tokens)\n",
    "            pos_input_tokens = pos_input_tokens.reshape(jax.device_count(), -1, pos_input_tokens.shape[-1])\n",
    "            pos_target_tokens = pos_target_tokens.reshape(jax.device_count(), -1, pos_target_tokens.shape[-1])\n",
    "            neg_input_tokens = neg_input_tokens.reshape(jax.device_count(), -1, neg_input_tokens.shape[-1])\n",
    "            neg_target_tokens = neg_target_tokens.reshape(jax.device_count(), -1, neg_target_tokens.shape[-1])\n",
    "            loss, acc, prob_hard_token, train_state = train_step_onpolicy(train_state, pos_input_tokens, pos_target_tokens, neg_input_tokens, neg_target_tokens, keys_dropout)\n",
    "            if step % 5 == 0:\n",
    "                train_loss.update(loss.mean(), pos_input_tokens.shape[1] * jax.device_count())  \n",
    "                train_acc.update(acc.mean(), pos_input_tokens.shape[1] * jax.device_count())   \n",
    "                phard.update(prob_hard_token.mean(), pos_input_tokens.shape[1] * jax.device_count()) \n",
    "                policy_test_acc.update(evaluate(hf_params, train_state, test_loader), 1)\n",
    "        if step % 5 == 0:\n",
    "            pbar.set_description(f'train loss: {train_loss.get()} phard: {phard.get()} forcing train acc: {train_acc.get()} policy train acc: {policy_train_acc.list[-1]} policy test acc: {policy_test_acc.list[-1]}')\n",
    "        step += 1\n",
    "\n",
    "    # policy_train_acc.update(evaluate(hf_params, train_state, train_loader), 1)\n",
    "    # policy_test_acc.update(evaluate(hf_params, train_state, test_loader), 1)"
   ]
  },
  {
   "cell_type": "code",
   "execution_count": 19,
   "metadata": {},
   "outputs": [],
   "source": [
    "# evaluate(hf_params, train_state, train_loader)\n",
    "import pickle\n",
    "a  = {\n",
    "    'train_loss': train_loss.list,\n",
    "    'train_acc': train_acc.list,\n",
    "    'phard': phard.list,\n",
    "    'policy_train_acc': policy_train_acc.list,\n",
    "    'policy_test_acc': policy_test_acc.list \n",
    "} \n",
    "with open(f'sft_changeat_{point}_run.pkl', 'wb') as f:\n",
    "    pickle.dump(a, f)"
   ]
  },
  {
   "cell_type": "code",
   "execution_count": 20,
   "metadata": {},
   "outputs": [
    {
     "data": {
      "text/plain": [
       "960"
      ]
     },
     "execution_count": 20,
     "metadata": {},
     "output_type": "execute_result"
    }
   ],
   "source": [
    "len(pickle.load(open(f'sft_changeat_{point}_run.pkl', 'rb'))['phard'])"
   ]
  },
  {
   "cell_type": "code",
   "execution_count": 21,
   "metadata": {},
   "outputs": [],
   "source": [
    "# generate_negazative_data(hf_params, train_state, input_tokens, key_gen)[0].shape"
   ]
  },
  {
   "cell_type": "code",
   "execution_count": 22,
   "metadata": {},
   "outputs": [],
   "source": [
    "# j = 31\n",
    "# pos_input_tokens[j][j], pos_target_tokens[j][j], neg_input_tokens[j][j], neg_target_tokens[j][j]"
   ]
  },
  {
   "cell_type": "code",
   "execution_count": 23,
   "metadata": {},
   "outputs": [
    {
     "data": {
      "text/plain": [
       "960"
      ]
     },
     "execution_count": 23,
     "metadata": {},
     "output_type": "execute_result"
    }
   ],
   "source": [
    "len(policy_test_acc.list)"
   ]
  },
  {
   "cell_type": "code",
   "execution_count": 24,
   "metadata": {},
   "outputs": [
    {
     "data": {
      "text/plain": [
       "[<matplotlib.lines.Line2D at 0x7f62aacbf850>]"
      ]
     },
     "execution_count": 24,
     "metadata": {},
     "output_type": "execute_result"
    },
    {
     "data": {
      "image/png": "[encoded data removed]",
      "text/plain": [
       "<Figure size 640x480 with 1 Axes>"
      ]
     },
     "metadata": {},
     "output_type": "display_data"
    }
   ],
   "source": [
    "import matplotlib.pyplot as plt\n",
    "plt.plot(1.0- np.array(policy_test_acc.list))\n",
    "plt.plot(1.0- np.array(policy_train_acc.list))\n"
   ]
  },
  {
   "cell_type": "code",
   "execution_count": 25,
   "metadata": {},
   "outputs": [
    {
     "data": {
      "text/plain": [
       "[<matplotlib.lines.Line2D at 0x7f888a6229b0>]"
      ]
     },
     "execution_count": 25,
     "metadata": {},
     "output_type": "execute_result"
    },
    {
     "data": {
      "image/png": "[encoded data removed]",
      "text/plain": [
       "<Figure size 640x480 with 1 Axes>"
      ]
     },
     "metadata": {},
     "output_type": "display_data"
    }
   ],
   "source": [
    "import matplotlib.pyplot as plt\n",
    "plt.plot(phard.list)\n"
   ]
  },
  {
   "cell_type": "code",
   "execution_count": 26,
   "metadata": {},
   "outputs": [
    {
     "data": {
      "text/plain": [
       "[<matplotlib.lines.Line2D at 0x7f5f8cf71330>]"
      ]
     },
     "execution_count": 26,
     "metadata": {},
     "output_type": "execute_result"
    },
    {
     "data": {
      "image/png": "[encoded data removed]",
      "text/plain": [
       "<Figure size 640x480 with 1 Axes>"
      ]
     },
     "metadata": {},
     "output_type": "display_data"
    }
   ],
   "source": [
    "plt.plot(policy_train_acc.list)\n",
    "plt.plot(policy_test_acc.list)"
   ]
  },
  {
   "cell_type": "code",
   "execution_count": 27,
   "metadata": {},
   "outputs": [
    {
     "data": {
      "text/plain": [
       "[0.891,\n",
       " 0.491,\n",
       " 0.456,\n",
       " 0.507,\n",
       " 0.505,\n",
       " 0.526,\n",
       " 0.529,\n",
       " 0.489,\n",
       " 0.476,\n",
       " 0.438,\n",
       " 0.51,\n",
       " 0.523,\n",
       " 0.486,\n",
       " 0.532,\n",
       " 0.55,\n",
       " 0.539,\n",
       " 0.523,\n",
       " 0.526,\n",
       " 0.583,\n",
       " 0.509]"
      ]
     },
     "execution_count": 27,
     "metadata": {},
     "output_type": "execute_result"
    }
   ],
   "source": [
    "[round(1.0-x, 3) for x in np.array(pickle.load(open(f'sft_changeat_2_run.pkl', 'rb'))['policy_test_acc']).tolist()][:20]"
   ]
  },
  {
   "cell_type": "code",
   "execution_count": null,
   "metadata": {},
   "outputs": [],
   "source": []
  }
 ],
 "metadata": {
  "kernelspec": {
   "display_name": "Python 3",
   "language": "python",
   "name": "python3"
  },
  "language_info": {
   "codemirror_mode": {
    "name": "ipython",
    "version": 3
   },
   "file_extension": ".py",
   "mimetype": "text/x-python",
   "name": "python",
   "nbconvert_exporter": "python",
   "pygments_lexer": "ipython3",
   "version": "3.10.14"
  }
 },
 "nbformat": 4,
 "nbformat_minor": 2
}
